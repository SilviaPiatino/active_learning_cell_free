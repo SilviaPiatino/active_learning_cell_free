{
 "cells": [
  {
   "cell_type": "markdown",
   "metadata": {},
   "source": [
    "Mathilde Koch, INRA, Faulon's group"
   ]
  },
  {
   "cell_type": "markdown",
   "metadata": {},
   "source": [
    "The aim of this script is to show how the first plate for the active learning loop of paper 'TITLE' was generated.\n"
   ]
  },
  {
   "cell_type": "markdown",
   "metadata": {},
   "source": [
    "# Importing necessary libraries"
   ]
  },
  {
   "cell_type": "code",
   "execution_count": 1,
   "metadata": {},
   "outputs": [],
   "source": [
    "import numpy as np\n",
    "import random"
   ]
  },
  {
   "cell_type": "code",
   "execution_count": 2,
   "metadata": {},
   "outputs": [],
   "source": [
    "data_folder = \"echo_files\""
   ]
  },
  {
   "cell_type": "markdown",
   "metadata": {},
   "source": [
    "The seed was not set when the file was first executed. The concentrations used for the initial plate in the paper can be found in data/plate_AL_1_raw_everything.csv."
   ]
  },
  {
   "cell_type": "markdown",
   "metadata": {},
   "source": [
    "# Defining the tested concentrations and volumes"
   ]
  },
  {
   "cell_type": "markdown",
   "metadata": {},
   "source": [
    "Concentrations below are defined as a proportion of the maximum allowed concentration."
   ]
  },
  {
   "cell_type": "code",
   "execution_count": 3,
   "metadata": {},
   "outputs": [],
   "source": [
    "# Allowed concentrations\n",
    "\n",
    "extract_conc = [1]\n",
    "mg_gluta_conc = [0.1, 0.3, 0.5, 1]\n",
    "K_gluta_conc = [0.1, 0.3, 0.5, 1]\n",
    "aa_conc = [0.1, 0.3, 0.5, 1]\n",
    "peg_conc = [1]\n",
    "hepes_conc = [1]\n",
    "trna_conc = [0.1, 0.3, 0.5, 1]\n",
    "coa_conc = [0.1, 0.3, 0.5, 1]\n",
    "nad_conc = [0.1, 0.3, 0.5, 1]\n",
    "camp_conc = [0.1, 0.3, 0.5, 1]\n",
    "folinic_acid_conc = [0.1, 0.3, 0.5, 1]\n",
    "spermidine_conc = [0.1, 0.3, 0.5, 1]\n",
    "pga_conc = [0.1, 0.3, 0.5, 1]\n",
    "nucleo_conc = [0.1, 0.3, 0.5, 1]\n",
    "DNA_mix = [0, 1]\n",
    "\n",
    "promoter_conc = [1]\n",
    "RBS_conc = [1]"
   ]
  },
  {
   "cell_type": "code",
   "execution_count": 4,
   "metadata": {},
   "outputs": [],
   "source": [
    "# Maximum concentrations for each component\n",
    "\n",
    "extract_max = 30\n",
    "mg_gluta_max = 4\n",
    "K_gluta_max = 80\n",
    "aa_max = 1.5\n",
    "peg_max = 2\n",
    "hepes_max = 50\n",
    "trna_max = 0.2\n",
    "coa_max = 0.26\n",
    "nad_max = 0.33\n",
    "camp_max = 0.75\n",
    "folinic_acid_max = 0.068\n",
    "spemidine_max = 1\n",
    "pga_max = 30\n",
    "nucleo_mix_max = 1.5\n",
    "DNA_max = 50\n",
    "\n",
    "promoter_max = 10\n",
    "RBS_max = 10"
   ]
  },
  {
   "cell_type": "code",
   "execution_count": 5,
   "metadata": {},
   "outputs": [],
   "source": [
    "# Volume required and stocks - calculated for compatibility with 2.5 nL nanodrops of the ECHO\n",
    "vol_max = 10.5\n",
    "\n",
    "n = 5  # Number of drops at minimal concentration. We chose to have at least 5 drops even at minimal concentration.\n",
    "\n",
    "stock_extract = 89.5\n",
    "stock_mg_gluta = 168\n",
    "stock_K_gluta = 3360\n",
    "stock_aa = 6\n",
    "stock_peg = 40\n",
    "stock_hepes = 2100\n",
    "stock_trna = 84/n\n",
    "stock_coa = 109.2/n\n",
    "stock_nad = 138.6/n\n",
    "stock_camp = 315/n\n",
    "stock_folinic_acid = 28.56/n\n",
    "stock_spermidine = 420/n\n",
    "stock_pga = 1400\n",
    "stock_nucleo = 630/n\n",
    "stock_dna = 300\n"
   ]
  },
  {
   "cell_type": "markdown",
   "metadata": {},
   "source": [
    "# Defining control samples (maximum and autofluorescence)"
   ]
  },
  {
   "cell_type": "markdown",
   "metadata": {},
   "source": [
    "This defines the control samples used in the first plate, that have maximum concentrations of all reagents. The autofluorescence control has no DNA."
   ]
  },
  {
   "cell_type": "code",
   "execution_count": 6,
   "metadata": {},
   "outputs": [],
   "source": [
    "# Creating maximum extract:\n",
    "maximum_extract = np.ones((1, 17), dtype = 'int')\n",
    "\n",
    "max_sample_conc = [maximum_extract[0,0] * extract_max,\n",
    "                   maximum_extract[0,1] * mg_gluta_max, \n",
    "                   maximum_extract[0,2] * K_gluta_max, \n",
    "                   maximum_extract[0,3] * aa_max, \n",
    "                   maximum_extract[0,4] * peg_max, \n",
    "                   maximum_extract[0,5] * hepes_max, \n",
    "                   maximum_extract[0,6] * trna_max, \n",
    "                   maximum_extract[0,7] * coa_max, \n",
    "                   maximum_extract[0,8] * nad_max, \n",
    "                   maximum_extract[0,9] * camp_max, \n",
    "                   maximum_extract[0,10] * folinic_acid_max,\n",
    "                   maximum_extract[0,11] * spemidine_max, \n",
    "                   maximum_extract[0,12] * pga_max, \n",
    "                   maximum_extract[0,13]* nucleo_mix_max,\n",
    "                   maximum_extract[0,14]* DNA_max,\n",
    "                   maximum_extract[0,15]* promoter_max,\n",
    "                   maximum_extract[0,16]* RBS_max\n",
    "                  ]"
   ]
  },
  {
   "cell_type": "code",
   "execution_count": 7,
   "metadata": {},
   "outputs": [],
   "source": [
    "# Creating autofluorescence extract extract:\n",
    "autofluorescence_extract = np.ones((1, 17), dtype = 'int')\n",
    "\n",
    "autofluorescence_sample_conc = [autofluorescence_extract[0,0] * extract_max,\n",
    "                               autofluorescence_extract[0,1] * mg_gluta_max, \n",
    "                               autofluorescence_extract[0,2] * K_gluta_max, \n",
    "                               autofluorescence_extract[0,3] * aa_max, \n",
    "                               autofluorescence_extract[0,4] * peg_max, \n",
    "                               autofluorescence_extract[0,5] * hepes_max, \n",
    "                               autofluorescence_extract[0,6] * trna_max, \n",
    "                               autofluorescence_extract[0,7] * coa_max, \n",
    "                               autofluorescence_extract[0,8] * nad_max, \n",
    "                               autofluorescence_extract[0,9] * camp_max, \n",
    "                               autofluorescence_extract[0,10] * folinic_acid_max,\n",
    "                               autofluorescence_extract[0,11] * spemidine_max, \n",
    "                               autofluorescence_extract[0,12] * pga_max, \n",
    "                               autofluorescence_extract[0,13]* nucleo_mix_max,\n",
    "                               autofluorescence_extract[0,14]* 0,  # No DNA in the autofluorescence control\n",
    "                   autofluorescence_extract[0,15]* promoter_max,\n",
    "                   autofluorescence_extract[0,16]* RBS_max]"
   ]
  },
  {
   "cell_type": "code",
   "execution_count": 8,
   "metadata": {},
   "outputs": [],
   "source": [
    "max_sample_conc = np.reshape(max_sample_conc, (1, 17))\n",
    "\n",
    "autofluorescence_sample_conc = np.asarray(autofluorescence_sample_conc)\n",
    "autofluorescence_sample_conc = np.reshape(autofluorescence_sample_conc, (1, 17))\n",
    "\n",
    "ctrl_array = max_sample_conc\n",
    "ctrl_array = np.concatenate((ctrl_array, autofluorescence_sample_conc), axis = 0)"
   ]
  },
  {
   "cell_type": "markdown",
   "metadata": {},
   "source": [
    "# Defining all max except one low plus max "
   ]
  },
  {
   "cell_type": "markdown",
   "metadata": {},
   "source": [
    "This defines a set of combinations we wanted to test on the initial plate. Here, all concentrations are at the maximum possible, except one that is at the lowest values. This therefore makes 11 forced combinations. We also added the combination with everything at the maximum, as well as one more point for NTP effects."
   ]
  },
  {
   "cell_type": "code",
   "execution_count": 9,
   "metadata": {},
   "outputs": [],
   "source": [
    "all_max_except_one_low = max_sample_conc"
   ]
  },
  {
   "cell_type": "code",
   "execution_count": 10,
   "metadata": {},
   "outputs": [],
   "source": [
    "extract = extract_conc[0]\n",
    "peg = peg_conc[0]\n",
    "hepes = hepes_conc[0]\n",
    "dna = DNA_mix[1]\n",
    "promoter = promoter_conc[0]\n",
    "RBS = RBS_conc[0]\n",
    "\n",
    "\n",
    "mg_gluta = mg_gluta_conc[-1]\n",
    "K_gluta = K_gluta_conc[-1]\n",
    "aa = aa_conc[-1]\n",
    "trna = trna_conc[-1]\n",
    "coa = coa_conc[-1]\n",
    "nad = nad_conc[-1]\n",
    "camp = camp_conc[-1]\n",
    "folinic_acid = folinic_acid_conc[-1]\n",
    "spermidine = spermidine_conc[-1]\n",
    "pga = pga_conc[-1]\n",
    "nucleo = nucleo_conc[-1]"
   ]
  },
  {
   "cell_type": "code",
   "execution_count": 11,
   "metadata": {},
   "outputs": [],
   "source": [
    "this_sample_conc = [extract * extract_max,\n",
    "                   0.1 * mg_gluta_max, \n",
    "                   K_gluta * K_gluta_max, \n",
    "                   aa * aa_max, \n",
    "                   peg * peg_max, \n",
    "                   hepes * hepes_max,  \n",
    "                   trna * trna_max, \n",
    "                   coa * coa_max, \n",
    "                   nad * nad_max,\n",
    "                   camp * camp_max,\n",
    "                   folinic_acid * folinic_acid_max,\n",
    "                   spermidine * spemidine_max, \n",
    "                   pga * pga_max,\n",
    "                   nucleo * nucleo_mix_max,\n",
    "                   dna * DNA_max,  \n",
    "                   promoter * promoter_max,  \n",
    "                   RBS * RBS_max] \n",
    "this_sample_conc = np.reshape(this_sample_conc, (1, 17)) \n",
    "all_max_except_one_low = np.concatenate((all_max_except_one_low, this_sample_conc), axis = 0)\n"
   ]
  },
  {
   "cell_type": "code",
   "execution_count": 12,
   "metadata": {},
   "outputs": [],
   "source": [
    "this_sample_conc = [extract * extract_max, \n",
    "                   mg_gluta * mg_gluta_max, \n",
    "                   0.1 * K_gluta_max, \n",
    "                   aa * aa_max, \n",
    "                   peg * peg_max,   \n",
    "                   hepes * hepes_max, \n",
    "                   trna * trna_max, \n",
    "                   coa * coa_max, \n",
    "                   nad * nad_max,\n",
    "                   camp * camp_max,\n",
    "                   folinic_acid * folinic_acid_max,\n",
    "                   spermidine * spemidine_max, \n",
    "                   pga * pga_max,\n",
    "                   nucleo * nucleo_mix_max,\n",
    "                   dna * DNA_max, \n",
    "                   promoter * promoter_max,  \n",
    "                   RBS * RBS_max] \n",
    "this_sample_conc = np.reshape(this_sample_conc, (1, 17)) \n",
    "all_max_except_one_low = np.concatenate((all_max_except_one_low, this_sample_conc), axis = 0)"
   ]
  },
  {
   "cell_type": "code",
   "execution_count": 13,
   "metadata": {},
   "outputs": [],
   "source": [
    "this_sample_conc = [extract * extract_max,  \n",
    "                   mg_gluta * mg_gluta_max, \n",
    "                   K_gluta * K_gluta_max, \n",
    "                   0.1 * aa_max, \n",
    "                   peg * peg_max,    \n",
    "                   hepes * hepes_max,  \n",
    "                   trna * trna_max, \n",
    "                   coa * coa_max, \n",
    "                   nad * nad_max,\n",
    "                   camp * camp_max,\n",
    "                   folinic_acid * folinic_acid_max,\n",
    "                   spermidine * spemidine_max, \n",
    "                   pga * pga_max,\n",
    "                   nucleo * nucleo_mix_max,\n",
    "                   dna * DNA_max,  \n",
    "                   promoter * promoter_max,  \n",
    "                   RBS * RBS_max]  \n",
    "this_sample_conc = np.reshape(this_sample_conc, (1, 17)) \n",
    "all_max_except_one_low = np.concatenate((all_max_except_one_low, this_sample_conc), axis = 0)"
   ]
  },
  {
   "cell_type": "code",
   "execution_count": 14,
   "metadata": {},
   "outputs": [],
   "source": [
    "this_sample_conc = [extract * extract_max,  \n",
    "                   mg_gluta * mg_gluta_max, \n",
    "                   K_gluta * K_gluta_max, \n",
    "                   aa * aa_max, \n",
    "                   peg * peg_max,    \n",
    "                   hepes * hepes_max, \n",
    "                   0.1 * trna_max, \n",
    "                   coa * coa_max, \n",
    "                   nad * nad_max,\n",
    "                   camp * camp_max,\n",
    "                   folinic_acid * folinic_acid_max,\n",
    "                   spermidine * spemidine_max, \n",
    "                   pga * pga_max,\n",
    "                   nucleo * nucleo_mix_max,\n",
    "                   dna * DNA_max,  \n",
    "                   promoter * promoter_max,  \n",
    "                   RBS * RBS_max]  \n",
    "this_sample_conc = np.reshape(this_sample_conc, (1, 17)) \n",
    "all_max_except_one_low = np.concatenate((all_max_except_one_low, this_sample_conc), axis = 0)"
   ]
  },
  {
   "cell_type": "code",
   "execution_count": 15,
   "metadata": {},
   "outputs": [],
   "source": [
    "this_sample_conc = [extract * extract_max,  \n",
    "                  mg_gluta* mg_gluta_max, \n",
    "                   K_gluta * K_gluta_max, \n",
    "                   aa * aa_max, \n",
    "                   peg * peg_max,    \n",
    "                   hepes * hepes_max,   \n",
    "                   trna * trna_max, \n",
    "                   0.1 * coa_max, \n",
    "                   nad * nad_max,\n",
    "                   camp * camp_max,\n",
    "                   folinic_acid * folinic_acid_max,\n",
    "                   spermidine * spemidine_max, \n",
    "                   pga * pga_max,\n",
    "                   nucleo * nucleo_mix_max,\n",
    "                   dna * DNA_max, \n",
    "                   promoter * promoter_max,  \n",
    "                   RBS * RBS_max] \n",
    "this_sample_conc = np.reshape(this_sample_conc, (1, 17)) \n",
    "all_max_except_one_low = np.concatenate((all_max_except_one_low, this_sample_conc), axis = 0)"
   ]
  },
  {
   "cell_type": "code",
   "execution_count": 16,
   "metadata": {},
   "outputs": [],
   "source": [
    "this_sample_conc = [extract * extract_max, \n",
    "                   mg_gluta * mg_gluta_max, \n",
    "                   K_gluta * K_gluta_max, \n",
    "                   aa * aa_max, \n",
    "                   peg * peg_max,    \n",
    "                   hepes * hepes_max,  \n",
    "                   trna * trna_max, \n",
    "                   coa * coa_max, \n",
    "                   0.1 * nad_max,\n",
    "                   camp * camp_max,\n",
    "                   folinic_acid * folinic_acid_max,\n",
    "                   spermidine * spemidine_max, \n",
    "                   pga * pga_max,\n",
    "                   nucleo * nucleo_mix_max,\n",
    "                   dna * DNA_max,  \n",
    "                   promoter * promoter_max,\n",
    "                   RBS * RBS_max] \n",
    "this_sample_conc = np.reshape(this_sample_conc, (1, 17)) \n",
    "all_max_except_one_low = np.concatenate((all_max_except_one_low, this_sample_conc), axis = 0)"
   ]
  },
  {
   "cell_type": "code",
   "execution_count": 17,
   "metadata": {},
   "outputs": [],
   "source": [
    "this_sample_conc = [extract * extract_max,\n",
    "                   mg_gluta * mg_gluta_max, \n",
    "                   K_gluta * K_gluta_max, \n",
    "                   aa * aa_max, \n",
    "                   peg * peg_max,   \n",
    "                   hepes * hepes_max,   \n",
    "                   trna * trna_max, \n",
    "                   coa * coa_max, \n",
    "                   nad * nad_max,\n",
    "                   0.1 * camp_max,\n",
    "                   folinic_acid * folinic_acid_max,\n",
    "                   spermidine * spemidine_max, \n",
    "                   pga * pga_max,\n",
    "                   nucleo * nucleo_mix_max,\n",
    "                   dna * DNA_max, \n",
    "                   promoter * promoter_max, \n",
    "                   RBS * RBS_max]\n",
    "this_sample_conc = np.reshape(this_sample_conc, (1, 17)) \n",
    "all_max_except_one_low = np.concatenate((all_max_except_one_low, this_sample_conc), axis = 0)"
   ]
  },
  {
   "cell_type": "code",
   "execution_count": 18,
   "metadata": {},
   "outputs": [],
   "source": [
    "this_sample_conc = [extract * extract_max, \n",
    "                   mg_gluta * mg_gluta_max, \n",
    "                   K_gluta * K_gluta_max, \n",
    "                   aa * aa_max, \n",
    "                   peg * peg_max,   \n",
    "                   hepes * hepes_max, \n",
    "                   trna * trna_max, \n",
    "                   coa * coa_max, \n",
    "                   nad * nad_max,\n",
    "                   camp * camp_max,\n",
    "                   0.1 * folinic_acid_max,\n",
    "                   spermidine * spemidine_max, \n",
    "                   pga * pga_max,\n",
    "                   nucleo * nucleo_mix_max,\n",
    "                   dna * DNA_max, \n",
    "                   promoter * promoter_max, \n",
    "                   RBS * RBS_max] \n",
    "this_sample_conc = np.reshape(this_sample_conc, (1, 17)) \n",
    "all_max_except_one_low = np.concatenate((all_max_except_one_low, this_sample_conc), axis = 0)"
   ]
  },
  {
   "cell_type": "code",
   "execution_count": 19,
   "metadata": {},
   "outputs": [],
   "source": [
    "this_sample_conc = [extract * extract_max,\n",
    "                   mg_gluta * mg_gluta_max, \n",
    "                   K_gluta * K_gluta_max, \n",
    "                   aa * aa_max, \n",
    "                   peg * peg_max,   \n",
    "                   hepes * hepes_max, \n",
    "                   trna * trna_max, \n",
    "                   coa * coa_max, \n",
    "                   nad * nad_max,\n",
    "                   camp * camp_max,\n",
    "                   folinic_acid * folinic_acid_max,\n",
    "                   0.1 * spemidine_max, \n",
    "                   pga * pga_max,\n",
    "                   nucleo * nucleo_mix_max,\n",
    "                   dna * DNA_max, \n",
    "                   promoter * promoter_max,  \n",
    "                   RBS * RBS_max]  \n",
    "this_sample_conc = np.reshape(this_sample_conc, (1, 17)) \n",
    "all_max_except_one_low = np.concatenate((all_max_except_one_low, this_sample_conc), axis = 0)"
   ]
  },
  {
   "cell_type": "code",
   "execution_count": 20,
   "metadata": {},
   "outputs": [],
   "source": [
    "this_sample_conc = [extract * extract_max, \n",
    "                   mg_gluta * mg_gluta_max, \n",
    "                   K_gluta * K_gluta_max, \n",
    "                   aa * aa_max, \n",
    "                   peg * peg_max,   \n",
    "                   hepes * hepes_max,   \n",
    "                   trna * trna_max, \n",
    "                   coa * coa_max, \n",
    "                   nad * nad_max,\n",
    "                   camp * camp_max,\n",
    "                   folinic_acid * folinic_acid_max,\n",
    "                   spermidine * spemidine_max, \n",
    "                   0.1 * pga_max,\n",
    "                   nucleo * nucleo_mix_max,\n",
    "                   dna * DNA_max,  \n",
    "                   promoter * promoter_max,  \n",
    "                   RBS * RBS_max]  \n",
    "this_sample_conc = np.reshape(this_sample_conc, (1, 17)) \n",
    "all_max_except_one_low = np.concatenate((all_max_except_one_low, this_sample_conc), axis = 0)"
   ]
  },
  {
   "cell_type": "code",
   "execution_count": 21,
   "metadata": {},
   "outputs": [],
   "source": [
    "this_sample_conc = [extract * extract_max,\n",
    "                   mg_gluta * mg_gluta_max, \n",
    "                   K_gluta * K_gluta_max, \n",
    "                   aa * aa_max, \n",
    "                   peg * peg_max,   \n",
    "                   hepes * hepes_max,  \n",
    "                   trna * trna_max, \n",
    "                   coa * coa_max, \n",
    "                   nad * nad_max,\n",
    "                   camp * camp_max,\n",
    "                   folinic_acid * folinic_acid_max,\n",
    "                   spermidine * spemidine_max, \n",
    "                   pga * pga_max,\n",
    "                   0.1 * nucleo_mix_max,\n",
    "                   dna * DNA_max,  \n",
    "                   promoter * promoter_max,\n",
    "                   RBS * RBS_max] \n",
    "this_sample_conc = np.reshape(this_sample_conc, (1, 17)) \n",
    "all_max_except_one_low = np.concatenate((all_max_except_one_low, this_sample_conc), axis = 0)"
   ]
  },
  {
   "cell_type": "code",
   "execution_count": 22,
   "metadata": {},
   "outputs": [],
   "source": [
    "this_sample_conc = [extract * extract_max,\n",
    "                   mg_gluta * mg_gluta_max, \n",
    "                   K_gluta * K_gluta_max, \n",
    "                   aa * aa_max, \n",
    "                   peg * peg_max,   \n",
    "                   hepes * hepes_max,  \n",
    "                   trna * trna_max, \n",
    "                   coa * coa_max, \n",
    "                   nad * nad_max,\n",
    "                   camp * camp_max,\n",
    "                   folinic_acid * folinic_acid_max,\n",
    "                   spermidine * spemidine_max, \n",
    "                   pga * pga_max,\n",
    "                   0.3 * nucleo_mix_max,\n",
    "                   dna * DNA_max,  \n",
    "                   promoter * promoter_max,  \n",
    "                   RBS * RBS_max]\n",
    "this_sample_conc = np.reshape(this_sample_conc, (1, 17)) \n",
    "all_max_except_one_low = np.concatenate((all_max_except_one_low, this_sample_conc), axis = 0)"
   ]
  },
  {
   "cell_type": "code",
   "execution_count": 23,
   "metadata": {},
   "outputs": [
    {
     "name": "stdout",
     "output_type": "stream",
     "text": [
      "(13, 17)\n"
     ]
    }
   ],
   "source": [
    "print(all_max_except_one_low.shape)"
   ]
  },
  {
   "cell_type": "markdown",
   "metadata": {},
   "source": [
    "# Defining all min except one high plus min "
   ]
  },
  {
   "cell_type": "markdown",
   "metadata": {},
   "source": [
    "This defines a set of combinations we wanted to test on the initial plate. Here, all concentrations are at the minimum possible, except one that is at the maximum values. This therefore makes 11 forced combinations. We also forced the combination with all reagents at the lowest values."
   ]
  },
  {
   "cell_type": "code",
   "execution_count": 24,
   "metadata": {},
   "outputs": [],
   "source": [
    "extract = extract_conc[0]\n",
    "peg = peg_conc[0]\n",
    "hepes = hepes_conc[0]\n",
    "dna = DNA_mix[1]\n",
    "promoter = promoter_conc[0]\n",
    "RBS = RBS_conc[0]\n",
    "\n",
    "\n",
    "mg_gluta = mg_gluta_conc[0]\n",
    "K_gluta = K_gluta_conc[0]\n",
    "aa = aa_conc[0]\n",
    "trna = trna_conc[0]\n",
    "coa = coa_conc[0]\n",
    "nad = nad_conc[0]\n",
    "camp = camp_conc[0]\n",
    "folinic_acid = folinic_acid_conc[0]\n",
    "spermidine = spermidine_conc[0]\n",
    "pga = pga_conc[0]\n",
    "nucleo = nucleo_conc[0]"
   ]
  },
  {
   "cell_type": "code",
   "execution_count": 25,
   "metadata": {},
   "outputs": [],
   "source": [
    "this_sample_conc = [extract * extract_max,\n",
    "                   mg_gluta * mg_gluta_max, \n",
    "                   K_gluta * K_gluta_max, \n",
    "                   aa * aa_max, \n",
    "                   peg * peg_max,  \n",
    "                   hepes * hepes_max,\n",
    "                   trna * trna_max, \n",
    "                   coa * coa_max, \n",
    "                   nad * nad_max,\n",
    "                   camp * camp_max,\n",
    "                   folinic_acid * folinic_acid_max,\n",
    "                   spermidine * spemidine_max, \n",
    "                   pga * pga_max,\n",
    "                   nucleo * nucleo_mix_max,\n",
    "                   dna * DNA_max, \n",
    "                   promoter * promoter_max,\n",
    "                   RBS * RBS_max] \n",
    "this_sample_conc = np.reshape(this_sample_conc, (1, 17)) \n",
    "\n",
    "all_min_except_high = this_sample_conc"
   ]
  },
  {
   "cell_type": "code",
   "execution_count": 26,
   "metadata": {},
   "outputs": [],
   "source": [
    "this_sample_conc = [extract * extract_max,\n",
    "                   1 * mg_gluta_max, \n",
    "                   K_gluta * K_gluta_max, \n",
    "                   aa * aa_max, \n",
    "                   peg * peg_max, \n",
    "                   hepes * hepes_max,\n",
    "                   trna * trna_max, \n",
    "                   coa * coa_max, \n",
    "                   nad * nad_max,\n",
    "                   camp * camp_max,\n",
    "                   folinic_acid * folinic_acid_max,\n",
    "                   spermidine * spemidine_max, \n",
    "                   pga * pga_max,\n",
    "                   nucleo * nucleo_mix_max,\n",
    "                   dna * DNA_max, \n",
    "                   promoter * promoter_max, \n",
    "                   RBS * RBS_max] \n",
    "this_sample_conc = np.reshape(this_sample_conc, (1, 17)) \n",
    "all_min_except_high = np.concatenate((all_min_except_high, this_sample_conc), axis = 0)"
   ]
  },
  {
   "cell_type": "code",
   "execution_count": 27,
   "metadata": {},
   "outputs": [],
   "source": [
    "this_sample_conc = [extract * extract_max,\n",
    "                   mg_gluta * mg_gluta_max, \n",
    "                   1 * K_gluta_max, \n",
    "                   aa * aa_max, \n",
    "                   peg * peg_max,  \n",
    "                   hepes * hepes_max,\n",
    "                   trna * trna_max, \n",
    "                   coa * coa_max, \n",
    "                   nad * nad_max,\n",
    "                   camp * camp_max,\n",
    "                   folinic_acid * folinic_acid_max,\n",
    "                   spermidine * spemidine_max, \n",
    "                   pga * pga_max,\n",
    "                   nucleo * nucleo_mix_max,\n",
    "                   dna * DNA_max,\n",
    "                   promoter * promoter_max,\n",
    "                   RBS * RBS_max]\n",
    "this_sample_conc = np.reshape(this_sample_conc, (1, 17)) \n",
    "all_min_except_high = np.concatenate((all_min_except_high, this_sample_conc), axis = 0)"
   ]
  },
  {
   "cell_type": "code",
   "execution_count": 28,
   "metadata": {},
   "outputs": [],
   "source": [
    "this_sample_conc = [extract * extract_max,\n",
    "                   mg_gluta * mg_gluta_max, \n",
    "                   K_gluta * K_gluta_max, \n",
    "                   1 * aa_max, \n",
    "                   peg * peg_max, \n",
    "                   hepes * hepes_max,  \n",
    "                   trna * trna_max, \n",
    "                   coa * coa_max, \n",
    "                   nad * nad_max,\n",
    "                   camp * camp_max,\n",
    "                   folinic_acid * folinic_acid_max,\n",
    "                   spermidine * spemidine_max, \n",
    "                   pga * pga_max,\n",
    "                   nucleo * nucleo_mix_max,\n",
    "                   dna * DNA_max, \n",
    "                   promoter * promoter_max, \n",
    "                   RBS * RBS_max]  \n",
    "this_sample_conc = np.reshape(this_sample_conc, (1, 17)) \n",
    "all_min_except_high = np.concatenate((all_min_except_high, this_sample_conc), axis = 0)"
   ]
  },
  {
   "cell_type": "code",
   "execution_count": 29,
   "metadata": {},
   "outputs": [],
   "source": [
    "this_sample_conc = [extract * extract_max, \n",
    "                   mg_gluta * mg_gluta_max, \n",
    "                   K_gluta * K_gluta_max, \n",
    "                   aa * aa_max, \n",
    "                   peg * peg_max,  \n",
    "                   hepes * hepes_max,\n",
    "                   1 * trna_max, \n",
    "                   coa * coa_max, \n",
    "                   nad * nad_max,\n",
    "                   camp * camp_max,\n",
    "                   folinic_acid * folinic_acid_max,\n",
    "                   spermidine * spemidine_max, \n",
    "                   pga * pga_max,\n",
    "                   nucleo * nucleo_mix_max,\n",
    "                   dna * DNA_max,\n",
    "                   promoter * promoter_max,\n",
    "                   RBS * RBS_max]\n",
    "this_sample_conc = np.reshape(this_sample_conc, (1, 17)) \n",
    "all_min_except_high = np.concatenate((all_min_except_high, this_sample_conc), axis = 0)"
   ]
  },
  {
   "cell_type": "code",
   "execution_count": 30,
   "metadata": {},
   "outputs": [],
   "source": [
    "this_sample_conc = [extract * extract_max,\n",
    "                  mg_gluta* mg_gluta_max, \n",
    "                   K_gluta * K_gluta_max, \n",
    "                   aa * aa_max, \n",
    "                   peg * peg_max, \n",
    "                   hepes * hepes_max,  \n",
    "                   trna * trna_max, \n",
    "                   1 * coa_max, \n",
    "                   nad * nad_max,\n",
    "                   camp * camp_max,\n",
    "                   folinic_acid * folinic_acid_max,\n",
    "                   spermidine * spemidine_max, \n",
    "                   pga * pga_max,\n",
    "                   nucleo * nucleo_mix_max,\n",
    "                   dna * DNA_max,\n",
    "                   promoter * promoter_max, \n",
    "                   RBS * RBS_max] \n",
    "this_sample_conc = np.reshape(this_sample_conc, (1, 17)) \n",
    "all_min_except_high = np.concatenate((all_min_except_high, this_sample_conc), axis = 0)"
   ]
  },
  {
   "cell_type": "code",
   "execution_count": 31,
   "metadata": {},
   "outputs": [],
   "source": [
    "this_sample_conc = [extract * extract_max,\n",
    "                   mg_gluta * mg_gluta_max, \n",
    "                   K_gluta * K_gluta_max, \n",
    "                   aa * aa_max, \n",
    "                   peg * peg_max, \n",
    "                   hepes * hepes_max,  \n",
    "                   trna * trna_max, \n",
    "                   coa * coa_max, \n",
    "                   1 * nad_max,\n",
    "                   camp * camp_max,\n",
    "                   folinic_acid * folinic_acid_max,\n",
    "                   spermidine * spemidine_max, \n",
    "                   pga * pga_max,\n",
    "                   nucleo * nucleo_mix_max,\n",
    "                   dna * DNA_max,\n",
    "                   promoter * promoter_max,\n",
    "                   RBS * RBS_max]\n",
    "this_sample_conc = np.reshape(this_sample_conc, (1, 17)) \n",
    "all_min_except_high = np.concatenate((all_min_except_high, this_sample_conc), axis = 0)"
   ]
  },
  {
   "cell_type": "code",
   "execution_count": 32,
   "metadata": {},
   "outputs": [],
   "source": [
    "this_sample_conc = [extract * extract_max,\n",
    "                   mg_gluta * mg_gluta_max, \n",
    "                   K_gluta * K_gluta_max, \n",
    "                   aa * aa_max, \n",
    "                   peg * peg_max,\n",
    "                   hepes * hepes_max,\n",
    "                   trna * trna_max, \n",
    "                   coa * coa_max, \n",
    "                   nad * nad_max,\n",
    "                   1 * camp_max,\n",
    "                   folinic_acid * folinic_acid_max,\n",
    "                   spermidine * spemidine_max, \n",
    "                   pga * pga_max,\n",
    "                   nucleo * nucleo_mix_max,\n",
    "                   dna * DNA_max,\n",
    "                   promoter * promoter_max, \n",
    "                   RBS * RBS_max]\n",
    "this_sample_conc = np.reshape(this_sample_conc, (1, 17)) \n",
    "all_min_except_high = np.concatenate((all_min_except_high, this_sample_conc), axis = 0)"
   ]
  },
  {
   "cell_type": "code",
   "execution_count": 33,
   "metadata": {},
   "outputs": [],
   "source": [
    "this_sample_conc = [extract * extract_max,\n",
    "                   mg_gluta * mg_gluta_max, \n",
    "                   K_gluta * K_gluta_max, \n",
    "                   aa * aa_max, \n",
    "                   peg * peg_max, \n",
    "                   hepes * hepes_max,\n",
    "                   trna * trna_max, \n",
    "                   coa * coa_max, \n",
    "                   nad * nad_max,\n",
    "                   camp * camp_max,\n",
    "                   1 * folinic_acid_max,\n",
    "                   spermidine * spemidine_max, \n",
    "                   pga * pga_max,\n",
    "                   nucleo * nucleo_mix_max,\n",
    "                   dna * DNA_max,\n",
    "                   promoter * promoter_max,\n",
    "                   RBS * RBS_max]\n",
    "this_sample_conc = np.reshape(this_sample_conc, (1, 17)) \n",
    "all_min_except_high = np.concatenate((all_min_except_high, this_sample_conc), axis = 0)"
   ]
  },
  {
   "cell_type": "code",
   "execution_count": 34,
   "metadata": {},
   "outputs": [],
   "source": [
    "this_sample_conc = [extract * extract_max,\n",
    "                   mg_gluta * mg_gluta_max, \n",
    "                   K_gluta * K_gluta_max, \n",
    "                   aa * aa_max, \n",
    "                   peg * peg_max,\n",
    "                   hepes * hepes_max,\n",
    "                   trna * trna_max, \n",
    "                   coa * coa_max, \n",
    "                   nad * nad_max,\n",
    "                   camp * camp_max,\n",
    "                   folinic_acid * folinic_acid_max,\n",
    "                   1 * spemidine_max, \n",
    "                   pga * pga_max,\n",
    "                   nucleo * nucleo_mix_max,\n",
    "                   dna * DNA_max,\n",
    "                   promoter * promoter_max,\n",
    "                   RBS * RBS_max] \n",
    "this_sample_conc = np.reshape(this_sample_conc, (1, 17)) \n",
    "all_min_except_high = np.concatenate((all_min_except_high, this_sample_conc), axis = 0)"
   ]
  },
  {
   "cell_type": "code",
   "execution_count": 35,
   "metadata": {},
   "outputs": [],
   "source": [
    "this_sample_conc = [extract * extract_max,\n",
    "                   mg_gluta * mg_gluta_max, \n",
    "                   K_gluta * K_gluta_max, \n",
    "                   aa * aa_max, \n",
    "                   peg * peg_max,\n",
    "                   hepes * hepes_max,\n",
    "                   trna * trna_max, \n",
    "                   coa * coa_max, \n",
    "                   nad * nad_max,\n",
    "                   camp * camp_max,\n",
    "                   folinic_acid * folinic_acid_max,\n",
    "                   spermidine * spemidine_max, \n",
    "                   1 * pga_max,\n",
    "                   nucleo * nucleo_mix_max,\n",
    "                   dna * DNA_max,\n",
    "                   promoter * promoter_max,\n",
    "                   RBS * RBS_max]\n",
    "this_sample_conc = np.reshape(this_sample_conc, (1, 17)) \n",
    "all_min_except_high = np.concatenate((all_min_except_high, this_sample_conc), axis = 0)"
   ]
  },
  {
   "cell_type": "code",
   "execution_count": 36,
   "metadata": {},
   "outputs": [],
   "source": [
    "this_sample_conc = [extract * extract_max,\n",
    "                   mg_gluta * mg_gluta_max, \n",
    "                   K_gluta * K_gluta_max, \n",
    "                   aa * aa_max, \n",
    "                   peg * peg_max,  \n",
    "                   hepes * hepes_max, \n",
    "                   trna * trna_max, \n",
    "                   coa * coa_max, \n",
    "                   nad * nad_max,\n",
    "                   camp * camp_max,\n",
    "                   folinic_acid * folinic_acid_max,\n",
    "                   spermidine * spemidine_max, \n",
    "                   pga * pga_max,\n",
    "                   1 * nucleo_mix_max,\n",
    "                   dna * DNA_max,\n",
    "                   promoter * promoter_max,\n",
    "                   RBS * RBS_max] \n",
    "this_sample_conc = np.reshape(this_sample_conc, (1, 17)) \n",
    "all_min_except_high = np.concatenate((all_min_except_high, this_sample_conc), axis = 0)"
   ]
  },
  {
   "cell_type": "code",
   "execution_count": 37,
   "metadata": {},
   "outputs": [
    {
     "name": "stdout",
     "output_type": "stream",
     "text": [
      "(12, 17)\n"
     ]
    }
   ],
   "source": [
    "print(all_min_except_high.shape)"
   ]
  },
  {
   "cell_type": "markdown",
   "metadata": {},
   "source": [
    "# Filling the rest randomly"
   ]
  },
  {
   "cell_type": "markdown",
   "metadata": {},
   "source": [
    "The rest of the plate will be filled randomly, avoiding repeats."
   ]
  },
  {
   "cell_type": "code",
   "execution_count": 38,
   "metadata": {},
   "outputs": [],
   "source": [
    "answer_array = np.concatenate((ctrl_array, all_max_except_one_low, all_min_except_high), axis = 0)"
   ]
  },
  {
   "cell_type": "code",
   "execution_count": 39,
   "metadata": {},
   "outputs": [
    {
     "name": "stdout",
     "output_type": "stream",
     "text": [
      "(27, 17)\n"
     ]
    }
   ],
   "source": [
    "print(answer_array.shape)\n",
    "# The expected shape is (27,17)"
   ]
  },
  {
   "cell_type": "code",
   "execution_count": 40,
   "metadata": {},
   "outputs": [],
   "source": [
    "def present_in_array_index(new_sample, array):\n",
    "    \"\"\"\n",
    "    Verify if a sample is present in an array.\n",
    "    \"\"\"\n",
    "    if array is None:\n",
    "        return(False, -1)\n",
    "    present = False\n",
    "    new_sample = np.reshape(np.array(new_sample), (1,17))\n",
    "    for i in range(array.shape[0]):\n",
    "        if np.array_equiv(array[i,:],new_sample):\n",
    "            present = True\n",
    "            break   \n",
    "    return(present, i)"
   ]
  },
  {
   "cell_type": "code",
   "execution_count": 41,
   "metadata": {},
   "outputs": [],
   "source": [
    "def generate_random_grid(array_to_avoid, sample_size = 100):\n",
    "    active_learning_array = array_to_avoid\n",
    "    if array_to_avoid is None:\n",
    "        answerSize = 0\n",
    "    else:\n",
    "        answerSize = active_learning_array.shape[0]\n",
    "    # Reagents not allowed to vary\n",
    "    extract = extract_conc[0]\n",
    "    peg = peg_conc[0]\n",
    "    hepes = hepes_conc[0]\n",
    "    dna = DNA_mix[1]\n",
    "    promoter = promoter_conc[0]\n",
    "    RBS = RBS_conc[0]\n",
    "\n",
    "    while answerSize < sample_size:\n",
    "        this_sample = np.random.randint(0, high=3, size=11, dtype='int')\n",
    "        this_sample_conc = [extract * extract_max,\n",
    "                            mg_gluta_conc[this_sample[0]] * mg_gluta_max, \n",
    "                            K_gluta_conc[this_sample[1]] * K_gluta_max, \n",
    "                            aa_conc[this_sample[2]] * aa_max, \n",
    "                            peg * peg_max, \n",
    "                            hepes * hepes_max, \n",
    "                            trna_conc[this_sample[3]] * trna_max, \n",
    "                            coa_conc[this_sample[4]] * coa_max, \n",
    "                            nad_conc[this_sample[5]] * nad_max, \n",
    "                            camp_conc[this_sample[6]] * camp_max, \n",
    "                            folinic_acid_conc[this_sample[7]] * folinic_acid_max,\n",
    "                            spermidine_conc[this_sample[8]] * spemidine_max, \n",
    "                            pga_conc[this_sample[9]] * pga_max, \n",
    "                            nucleo_conc[this_sample[10]] * nucleo_mix_max,\n",
    "                            dna * DNA_max,  # not modified\n",
    "                            promoter * promoter_max,  # not modified\n",
    "                            RBS * RBS_max]\n",
    "        this_sample_conc = np.reshape(this_sample_conc, (1, 17))\n",
    "        if not present_in_array_index(this_sample_conc, active_learning_array)[0]:\n",
    "            answerSize = answerSize + 1\n",
    "            if active_learning_array is None:\n",
    "                active_learning_array = this_sample_conc\n",
    "            else:\n",
    "                active_learning_array = np.concatenate((active_learning_array, this_sample_conc), axis = 0)\n",
    "    return(active_learning_array)"
   ]
  },
  {
   "cell_type": "code",
   "execution_count": 42,
   "metadata": {},
   "outputs": [],
   "source": [
    "answer_array = generate_random_grid(answer_array, sample_size = 102)"
   ]
  },
  {
   "cell_type": "code",
   "execution_count": 43,
   "metadata": {},
   "outputs": [],
   "source": [
    "# Saving the data\n",
    "\n",
    "headers = \"extract; mg_gluta; K_gluta; aa; peg; hepes; trna; coa; nad; camp; folinic_acid; spemidin; pga; nucleo_mix; DNA; promoter; RBS\"\n",
    "\n",
    "np.savetxt(\"{}/initial_plate.csv\".format(data_folder), answer_array, delimiter=\";\", header = headers,fmt='%.5f')"
   ]
  }
 ],
 "metadata": {
  "anaconda-cloud": {},
  "kernelspec": {
   "display_name": "Python 3",
   "language": "python",
   "name": "python3"
  },
  "language_info": {
   "codemirror_mode": {
    "name": "ipython",
    "version": 3
   },
   "file_extension": ".py",
   "mimetype": "text/x-python",
   "name": "python",
   "nbconvert_exporter": "python",
   "pygments_lexer": "ipython3",
   "version": "3.6.9"
  }
 },
 "nbformat": 4,
 "nbformat_minor": 1
}
