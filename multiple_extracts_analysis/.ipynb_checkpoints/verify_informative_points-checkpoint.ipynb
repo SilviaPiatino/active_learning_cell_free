{
 "cells": [
  {
   "cell_type": "markdown",
   "metadata": {},
   "source": [
    "Mathilde Koch, INRA, Faulon's group."
   ]
  },
  {
   "cell_type": "markdown",
   "metadata": {},
   "source": [
    "The aim of this script is to show how the 20 informative points are able to predict the different datasets of 102 points."
   ]
  },
  {
   "cell_type": "markdown",
   "metadata": {},
   "source": [
    "# Importing necessary libraries"
   ]
  },
  {
   "cell_type": "code",
   "execution_count": 1,
   "metadata": {},
   "outputs": [],
   "source": [
    "import sklearn\n",
    "import numpy as np\n",
    "\n",
    "import matplotlib.pyplot as plt\n",
    "\n",
    "from sklearn import decomposition\n",
    "from sklearn.neural_network import MLPRegressor\n",
    "from sklearn.model_selection import cross_val_score, KFold, train_test_split\n",
    "\n",
    "import time\n",
    "import datetime\n",
    "import random\n",
    "import csv\n",
    "import os\n",
    "import copy\n",
    "import warnings"
   ]
  },
  {
   "cell_type": "code",
   "execution_count": 2,
   "metadata": {},
   "outputs": [],
   "source": [
    "specific_experimentalist = \"ORI\"\n",
    "\n",
    "folder_for_data = \"data/{}\".format(specific_experimentalist)\n",
    "folder_to_save = \"{}\".format(specific_experimentalist)\n",
    "chosen_table = \"final_1.csv\""
   ]
  },
  {
   "cell_type": "markdown",
   "metadata": {},
   "source": [
    "# Defining functions"
   ]
  },
  {
   "cell_type": "code",
   "execution_count": 3,
   "metadata": {},
   "outputs": [],
   "source": [
    "def present_in_array_index(new_sample, array, size = 11):\n",
    "    present = False\n",
    "    new_sample = np.reshape(np.array(new_sample), (1,size))\n",
    "    for i in range(array.shape[0]):\n",
    "        if np.array_equiv(array[i,:],new_sample):\n",
    "            present = True\n",
    "            break     \n",
    "    return(present, i)"
   ]
  },
  {
   "cell_type": "code",
   "execution_count": 4,
   "metadata": {},
   "outputs": [],
   "source": [
    "def get_data_from_row(i, y_mean_total = None, y_std_total = None):\n",
    "    return(y_mean_total[i], y_std_total[i])"
   ]
  },
  {
   "cell_type": "code",
   "execution_count": 5,
   "metadata": {},
   "outputs": [],
   "source": [
    "def filling_array_from_data(already_sampled, X_total = None, y_mean_total = None, y_std_total = None):\n",
    "    means = []\n",
    "    errors = []\n",
    "    for row in already_sampled:\n",
    "        present, i = present_in_array_index(row, X_total)\n",
    "        mean, error = get_data_from_row(i, y_mean_total = y_mean_total, y_std_total = y_std_total)\n",
    "        means.append(mean)\n",
    "        errors.append(error)\n",
    "    means = np.reshape(means, (np.shape(already_sampled)[0], 1))\n",
    "    errors = np.reshape(errors, (np.shape(already_sampled)[0], 1))\n",
    "    completed_array = np.concatenate((already_sampled, means, errors), axis = 1)\n",
    "\n",
    "    return(already_sampled, means, errors)\n"
   ]
  },
  {
   "cell_type": "code",
   "execution_count": 6,
   "metadata": {},
   "outputs": [],
   "source": [
    "def select_current_best_model(X, y, models_number = 10, verbose = False, \n",
    "                             MLP = True,\n",
    "                             visu = False):\n",
    "    with warnings.catch_warnings():\n",
    "        warnings.simplefilter(\"ignore\")\n",
    "    trained_model_list = []\n",
    "    # Training all models\n",
    "    for i in range(models_number):\n",
    "        # X_train, X_test, y_train, y_test, y_error_train, y_error_test = sklearn.model_selection.train_test_split(X, y, y_std, test_size=0.2) \n",
    "        X_train, y_train = X, y\n",
    "        if MLP:\n",
    "            other_MLP = MLPRegressor(hidden_layer_sizes  = (10, 100,100, 20), solver =\"adam\", max_iter=20000, \n",
    "                                      early_stopping = True, learning_rate = \"adaptive\")\n",
    "            other_MLP.fit(X_train, y_train.flatten())    \n",
    "            trained_model_list.append(other_MLP)\n",
    "\n",
    "            big_MLP = MLPRegressor(hidden_layer_sizes  = (100,100, 20),solver =\"adam\", max_iter=20000, \n",
    "                                      early_stopping = True, learning_rate = \"adaptive\")\n",
    "            big_MLP.fit(X_train, y_train.flatten())    \n",
    "            trained_model_list.append(big_MLP)\n",
    "\n",
    "\n",
    "            medium_MLP = MLPRegressor(hidden_layer_sizes  = (40, 10), solver =\"adam\", max_iter=20000, \n",
    "                                      early_stopping = True, learning_rate = \"adaptive\")\n",
    "            medium_MLP.fit(X_train, y_train.flatten())    \n",
    "            trained_model_list.append(medium_MLP)\n",
    "  \n",
    "            small_MLP = MLPRegressor(hidden_layer_sizes  = (10), solver =\"adam\", max_iter=20000, \n",
    "                                      early_stopping = True, learning_rate = \"adaptive\")\n",
    "            small_MLP.fit(X_train, y_train.flatten())    \n",
    "            trained_model_list.append(small_MLP)\n",
    "        \n",
    "    # Evaluating all \n",
    "    all_scores = []\n",
    "    for i in range(len(trained_model_list)):\n",
    "        selected_mdoel = trained_model_list[i]\n",
    "        y_pred = selected_mdoel.predict(X)\n",
    "        score = sklearn.metrics.r2_score(y, y_pred)\n",
    "        all_scores.append(score)\n",
    "\n",
    "    try:\n",
    "        best_index = all_scores.index(max(all_scores))\n",
    "        best_score = all_scores[best_index]\n",
    "    except ValueError:\n",
    "        best_index = 0\n",
    "    if verbose:\n",
    "        print(all_scores)\n",
    "        print(\"Best index is {}\".format(best_index))\n",
    "        print(\"Best score is {}\".format(best_score))\n",
    "    best_model = trained_model_list[best_index]\n",
    "    if visu:\n",
    "        sample_weight_total = (1/(y_std*y_std))\n",
    "        \n",
    "        model = best_model\n",
    "        y_pred = model.predict(X)\n",
    "        score = sklearn.metrics.r2_score(y, y_pred)\n",
    "        fig, ax = plt.subplots()\n",
    "        ax.scatter(y, y_pred, edgecolors=(0, 0, 0))\n",
    "        ax.errorbar(y, y_pred,xerr = y_std, ls='none')\n",
    "        ax.plot([y.min(), y.max()], [y.min(), y.max()], 'k--', lw=4)\n",
    "        ax.set_xlabel('Measured')\n",
    "        ax.set_title(\"Model prediction for model {}: {}\".format(i, score))\n",
    "        ax.set_ylabel('Predicted')\n",
    "        plt.show()\n",
    "    return(best_model, best_score)"
   ]
  },
  {
   "cell_type": "code",
   "execution_count": 7,
   "metadata": {},
   "outputs": [],
   "source": [
    "def obtain_split_score(X_train, X_test, y_train, y_test, \n",
    "                      ensemble_size = 25, models_number_repeat = 10):\n",
    "    # Training ensemble models\n",
    "    \n",
    "    ensemble_models = []\n",
    "    for n in range(ensemble_size):\n",
    "        current_best, best_score = select_current_best_model(X_train, y_train,\n",
    "                                                            models_number = models_number_repeat, verbose = False, \n",
    "                                                             MLP = True,\n",
    "                                                             visu = False)\n",
    "        ensemble_models.append(current_best)\n",
    "    # evaluating the models\n",
    "    all_predictions = None\n",
    "    all_predictions_on_train = None\n",
    "    for model in ensemble_models:\n",
    "        y_pred = model.predict(X_test)\n",
    "        y_pred_train = model.predict(X_train)\n",
    "        answer_array_pred = y_pred.reshape(X_test.shape[0], -1)\n",
    "        answer_array_pred_train = y_pred_train.reshape(X_train.shape[0], -1)\n",
    "        if all_predictions is None:\n",
    "            all_predictions = y_pred.reshape(X_test.shape[0], -1)\n",
    "            all_predictions_on_train = y_pred_train.reshape(X_train.shape[0], -1)\n",
    "        else:\n",
    "            all_predictions =np.concatenate((all_predictions, y_pred.reshape(X_test.shape[0], -1)), axis = 1)\n",
    "            all_predictions_on_train =np.concatenate((all_predictions_on_train, y_pred_train.reshape(X_train.shape[0], -1)), axis = 1)\n",
    "\n",
    "    y_pred, y_pred_std = np.mean(all_predictions, axis = 1), np.std(all_predictions, axis = 1)\n",
    "    y_pred_train, y_pred_std_train = np.mean(all_predictions_on_train, axis = 1), np.std(all_predictions_on_train, axis = 1)\n",
    "    score = sklearn.metrics.r2_score(y_test, y_pred)\n",
    "    y_pred_train = y_pred_train.reshape(y_pred_train.shape[0], -1)\n",
    "    y_pred_std_train = y_pred_std_train.reshape(y_pred_std_train.shape[0], -1)\n",
    "    y_pred = y_pred.reshape(y_pred.shape[0], -1)\n",
    "    y_pred_std = y_pred_std.reshape(y_pred_std.shape[0], -1)\n",
    "    \n",
    "    return(score, y_pred_train, y_pred_std_train, y_pred, y_pred_std)"
   ]
  },
  {
   "cell_type": "code",
   "execution_count": 8,
   "metadata": {},
   "outputs": [],
   "source": [
    "def handle_results(score, \n",
    "                   X_train, X_test, y_train, y_test, y_std_train, y_std_test, \n",
    "                   y_pred_train, y_pred_std_train, y_pred, y_pred_std,\n",
    "                   best_tests):\n",
    "    if len(best_tests) < 5:\n",
    "        best_tests.append({\"score\": score, \"X\": X_train, \n",
    "                          \"X_test\": X_test, \"y_train\": y_train, \n",
    "                           \"y_test\": y_test, \"y_std_train\": y_std_train, \"y_std_test\": y_std_test, \n",
    "                          \"y_pred_train\": y_pred_train, \"y_pred_std_train\": y_pred_std_train, \n",
    "                           \"y_pred\": y_pred, \"y_pred_std\": y_pred_std})\n",
    "    else:\n",
    "        minimal_element = best_tests[0]\n",
    "        for element in best_tests:\n",
    "            score_element = element[\"score\"]\n",
    "            if score_element <minimal_element[\"score\"]:\n",
    "                minimal_element = element\n",
    "        if score > minimal_element[\"score\"]:\n",
    "            best_tests.remove(minimal_element)\n",
    "            best_tests.append({\"score\": score, \"X\": X_train, \n",
    "                          \"X_test\": X_test, \"y_train\": y_train, \n",
    "                           \"y_test\": y_test, \"y_std_train\": y_std_train, \"y_std_test\": y_std_test, \n",
    "                          \"y_pred_train\": y_pred_train, \"y_pred_std_train\": y_pred_std_train, \n",
    "                           \"y_pred\": y_pred, \"y_pred_std\": y_pred_std})\n",
    "    return(best_tests)\n"
   ]
  },
  {
   "cell_type": "code",
   "execution_count": 9,
   "metadata": {},
   "outputs": [],
   "source": [
    "def save_results(best_tests, initial_max, base_name = \"final\", folder_to_save = \"test\", visu = False):\n",
    "    index = 0\n",
    "    for element in best_tests:\n",
    "        index = index + 1\n",
    "        score_element = element[\"score\"]\n",
    "        headers = \"nad;folinic_acid;coa;nucleo_mix;spermidin;pga;aa;trna;mg_gluta;camp;K_gluta\"\n",
    "        file_to_write = \"{}/{}_{}.csv\".format(folder_to_save, base_name, index)\n",
    "        X = copy.deepcopy(element[\"X\"])\n",
    "        for i in range(X.shape[1]):\n",
    "            X[:,i] = X[:,i]*initial_max[i]\n",
    "        np.savetxt(file_to_write, X, delimiter=\";\", header = headers,fmt='%.6f')\n",
    "        if visu:\n",
    "            fig, ax = plt.subplots()\n",
    "            ax.scatter(element[\"y_test\"], element[\"y_pred\"], edgecolors=(0, 0, 0))\n",
    "            ax.errorbar(element[\"y_test\"], element[\"y_pred\"], \n",
    "                                xerr = element[\"y_std_test\"], yerr = element[\"y_pred_std\"], ls='none')\n",
    "            score = score_element\n",
    "            ax.set_xlabel('Measured')\n",
    "            ax.set_title(\"R squared is: {} for {} - {}\".format(round(score, 2), base_name, index))\n",
    "            ax.set_ylabel('Predicted')\n",
    "            ax.scatter(element[\"y_train\"], element[\"y_pred_train\"], edgecolors='red')\n",
    "            ax.errorbar(element[\"y_train\"], element[\"y_pred_train\"], \n",
    "                                xerr = element[\"y_std_train\"], yerr = element[\"y_pred_std_train\"], \n",
    "                        ls='none', ecolor = \"red\")\n",
    "            ax.plot([element[\"y_test\"].min(), element[\"y_test\"].max()],\n",
    "                     [element[\"y_test\"].min(), element[\"y_test\"].max()], 'k--', lw=4)\n",
    "            name_for_plotting = \"{}/{}_{}_model_vs_data.png\".format(folder_to_save, base_name, index)\n",
    "            plt.savefig(name_for_plotting)\n",
    "            plt.show()"
   ]
  },
  {
   "cell_type": "code",
   "execution_count": 10,
   "metadata": {},
   "outputs": [],
   "source": [
    "def obtaining_rest_of_data(already_sampled, X_total = None, y_mean_total = None, y_std_total = None):\n",
    "    means = []\n",
    "    errors = []\n",
    "    X_test = None\n",
    "    for row in X_total:\n",
    "        present_in_starting, i = present_in_array_index(row, already_sampled)\n",
    "        if not present_in_starting:\n",
    "            present, i = present_in_array_index(row, X_total)\n",
    "            mean, error = get_data_from_row(i, y_mean_total = y_mean_total, y_std_total = y_std_total)\n",
    "            means.append(mean)\n",
    "            errors.append(error)\n",
    "            if X_test is None:\n",
    "                X_test = np.reshape(row, (1, 11))\n",
    "            else:\n",
    "                X_test = np.concatenate((X_test, np.reshape(row, (1, 11))), axis = 0)\n",
    "    means = np.reshape(means, (len(means), 1))\n",
    "    errors = np.reshape(errors, (len(means), 1))\n",
    "    completed_array = np.concatenate((X_test, means, errors), axis = 1)\n",
    "\n",
    "    return(X_test, means, errors)"
   ]
  },
  {
   "cell_type": "code",
   "execution_count": 11,
   "metadata": {},
   "outputs": [],
   "source": [
    "def data_from_iteration(iteration_number = 1):\n",
    "    \"\"\"\n",
    "    Obtain data from the desired number of iterations, and not the whole data.\n",
    "    \"\"\"\n",
    "    full_plates_list = [plate_1_array, plate_2_array, plate_3_array, plate_4_array, plate_5_array,\n",
    "                        plate_6_array, plate_7_array, plate_8_array, plate_9_array, plate_10_array]\n",
    "    selected_plates = full_plates_list[0:iteration_number]\n",
    "    current_data = np.concatenate(selected_plates, axis = 0)\n",
    "    return(current_data)"
   ]
  },
  {
   "cell_type": "markdown",
   "metadata": {},
   "source": [
    "# Importing data from study"
   ]
  },
  {
   "cell_type": "code",
   "execution_count": 12,
   "metadata": {},
   "outputs": [],
   "source": [
    "data = np.genfromtxt(\"{}/102_points.csv\".format(folder_for_data), delimiter=',', skip_header = 1,dtype = \"float\")\n",
    "X_data, y_data, y_std_data = data[:, 0:11], data[:, 11], data[:, 12]"
   ]
  },
  {
   "cell_type": "code",
   "execution_count": 13,
   "metadata": {},
   "outputs": [],
   "source": [
    "chosen_X = np.genfromtxt(chosen_table, delimiter=',', skip_header  = 1, dtype = \"float\")\n",
    "X_train, y_train, y_std_train = filling_array_from_data(chosen_X,\n",
    "                                                        X_total = X_data, \n",
    "                                                        y_mean_total = y_data, \n",
    "                                                        y_std_total = y_std_data)\n",
    "\n",
    "X_test, y_test, y_std_test = obtaining_rest_of_data(chosen_X,\n",
    "                                                    X_total = X_data, \n",
    "                                                    y_mean_total = y_data, \n",
    "                                                    y_std_total = y_std_data)"
   ]
  },
  {
   "cell_type": "code",
   "execution_count": 14,
   "metadata": {},
   "outputs": [],
   "source": [
    "initial_max = []\n",
    "initial_max_test = []\n",
    "for i in range(X_train.shape[1]):\n",
    "    initial_max.append(max(X_train[:,i]))\n",
    "    X_train[:,i] = X_train[:,i]/max(X_train[:,i])\n",
    "for i in range(X_test.shape[1]):\n",
    "    initial_max_test.append(max(X_test[:,i]))\n",
    "    X_test[:,i] = X_test[:,i]/max(X_test[:,i])"
   ]
  },
  {
   "cell_type": "code",
   "execution_count": 15,
   "metadata": {},
   "outputs": [
    {
     "name": "stdout",
     "output_type": "stream",
     "text": [
      "[0.33, 0.068, 0.26, 1.5, 1.0, 30.0, 1.5, 0.2, 4.0, 0.75, 80.0]\n"
     ]
    }
   ],
   "source": [
    "assert initial_max_test == initial_max\n",
    "print(initial_max_test)"
   ]
  },
  {
   "cell_type": "markdown",
   "metadata": {},
   "source": [
    "# Analysing the specific plate we are interested in"
   ]
  },
  {
   "cell_type": "markdown",
   "metadata": {},
   "source": [
    "First, we will import the data from the various iterations.\n",
    "Then, we will verify the results from the plate that was selected for further study.\n",
    "\n",
    "Calling the above functions, we will generate most informative points for the chosen table on the full dataset. \n",
    "Parameters to define:\n",
    "- ensemble_size: number of models in the ensemble of models\n",
    "- models_number_repeat: number of times the model is trained\n",
    "\n",
    "The parameters used for the article were:\n",
    "- ensemble_size: 25\n",
    "- models_number_repeat: 10\n"
   ]
  },
  {
   "cell_type": "code",
   "execution_count": 16,
   "metadata": {},
   "outputs": [],
   "source": [
    "ensemble_size = 25\n",
    "models_number_repeat = 10\n",
    "visu = True"
   ]
  },
  {
   "cell_type": "code",
   "execution_count": 17,
   "metadata": {},
   "outputs": [],
   "source": [
    "score, y_pred_train, y_pred_std_train, y_pred, y_pred_std = obtain_split_score(X_train, X_test, y_train, y_test, \n",
    "                               ensemble_size = ensemble_size, models_number_repeat = models_number_repeat)\n",
    "best_test = handle_results(score, \n",
    "                           X_train, X_test, y_train, y_test, y_std_train, y_std_test, \n",
    "                           y_pred_train, y_pred_std_train, y_pred, y_pred_std, \n",
    "                           [])"
   ]
  },
  {
   "cell_type": "code",
   "execution_count": 18,
   "metadata": {},
   "outputs": [
    {
     "name": "stderr",
     "output_type": "stream",
     "text": [
      "/home/mkoch/miniconda3/envs/al/lib/python3.6/site-packages/ipykernel_launcher.py:16: MatplotlibDeprecationWarning: Support for passing a (n, 1)-shaped error array to errorbar() is deprecated since Matplotlib 3.1 and will be removed in 3.3; pass a 1D array instead.\n",
      "  app.launch_new_instance()\n",
      "/home/mkoch/miniconda3/envs/al/lib/python3.6/site-packages/ipykernel_launcher.py:24: MatplotlibDeprecationWarning: Support for passing a (n, 1)-shaped error array to errorbar() is deprecated since Matplotlib 3.1 and will be removed in 3.3; pass a 1D array instead.\n"
     ]
    },
    {
     "data": {
      "image/png": "[encoded data removed]",
      "text/plain": [
       "<Figure size 432x288 with 1 Axes>"
      ]
     },
     "metadata": {
      "needs_background": "light"
     },
     "output_type": "display_data"
    }
   ],
   "source": [
    "save_results(best_test, initial_max = initial_max, base_name = \"showcase\", folder_to_save = folder_to_save, visu = True)\n",
    "headers = \"nad;folinic_acid;coa;nucleo_mix;spermidin;pga;aa;trna;mg_gluta;camp;K_gluta;y_data;y_data_std;y_pr;y_std_pr\"\n",
    "\n",
    "for i in range(X_train.shape[1]):\n",
    "    X_train[:,i] = X_train[:,i]*initial_max[i]\n",
    "\n",
    "for i in range(X_test.shape[1]):\n",
    "    X_test[:,i] = X_test[:,i]*initial_max[i]\n",
    "\n",
    "total_train = np.concatenate((X_train, y_train, y_std_train, y_pred_train, y_pred_std_train), axis = 1)\n",
    "total_pr = np.concatenate((X_test, y_test, y_std_test, y_pred, y_pred_std), axis = 1)\n",
    "    \n",
    "file_to_write_train = \"{}/train.csv\".format(folder_to_save)\n",
    "np.savetxt(file_to_write_train, total_train, delimiter=\";\", header = headers,fmt='%.6f')\n",
    "# Testing data\n",
    "file_to_write_test = \"{}/test.csv\".format(folder_to_save)\n",
    "np.savetxt(file_to_write_test, total_pr, delimiter=\";\", header = headers,fmt='%.6f')"
   ]
  },
  {
   "cell_type": "code",
   "execution_count": null,
   "metadata": {},
   "outputs": [],
   "source": []
  },
  {
   "cell_type": "code",
   "execution_count": null,
   "metadata": {},
   "outputs": [],
   "source": []
  }
 ],
 "metadata": {
  "anaconda-cloud": {},
  "kernelspec": {
   "display_name": "Python 3",
   "language": "python",
   "name": "python3"
  },
  "language_info": {
   "codemirror_mode": {
    "name": "ipython",
    "version": 3
   },
   "file_extension": ".py",
   "mimetype": "text/x-python",
   "name": "python",
   "nbconvert_exporter": "python",
   "pygments_lexer": "ipython3",
   "version": "3.6.9"
  }
 },
 "nbformat": 4,
 "nbformat_minor": 1
}
