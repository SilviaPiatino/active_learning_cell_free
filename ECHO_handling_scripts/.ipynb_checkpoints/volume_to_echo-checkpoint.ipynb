{
 "cells": [
  {
   "cell_type": "markdown",
   "metadata": {},
   "source": [
    "Mathilde Koch, INRA, Faulon's group."
   ]
  },
  {
   "cell_type": "markdown",
   "metadata": {},
   "source": [
    "The aim of this script is to convert a volume file to instructions for the ECHO machine, as well as ..."
   ]
  },
  {
   "cell_type": "markdown",
   "metadata": {},
   "source": [
    "# Loading packages and data"
   ]
  },
  {
   "cell_type": "code",
   "execution_count": 1,
   "metadata": {},
   "outputs": [],
   "source": [
    "import numpy as np\n",
    "import itertools\n",
    "import csv\n",
    "import string"
   ]
  },
  {
   "cell_type": "code",
   "execution_count": 2,
   "metadata": {},
   "outputs": [],
   "source": [
    "folder = \"example\"\n",
    "file_name = \"example\"\n",
    "file_to_read = \"{}/{}_volumes.csv\".format(folder, file_name)"
   ]
  },
  {
   "cell_type": "markdown",
   "metadata": {},
   "source": [
    "# Load data"
   ]
  },
  {
   "cell_type": "code",
   "execution_count": 3,
   "metadata": {},
   "outputs": [
    {
     "name": "stdout",
     "output_type": "stream",
     "text": [
      "[[3.52   0.075  0.025  ... 0.     0.     3.8825]\n",
      " [3.52   0.075  0.025  ... 0.     0.     3.8825]\n",
      " [3.52   0.075  0.025  ... 0.     0.     3.8825]\n",
      " ...\n",
      " [3.52   0.25   0.25   ... 0.     0.     0.3175]\n",
      " [3.52   0.25   0.25   ... 0.     0.     0.3175]\n",
      " [3.52   0.25   0.25   ... 0.     0.     0.3175]]\n"
     ]
    }
   ],
   "source": [
    "my_current_data = np.genfromtxt(file_to_read, delimiter=',', skip_header  = 1, dtype = \"float\")\n",
    "print(my_current_data)\n",
    "# If this is a table filed with nan, check the delimiter of the csv file you are using. \n",
    "# The automatic save depedns on the system."
   ]
  },
  {
   "cell_type": "code",
   "execution_count": 4,
   "metadata": {},
   "outputs": [],
   "source": [
    "file_for_line_A = \"{}/line_A_volumes.csv\".format(folder)\n",
    "control_array_for_A = np.genfromtxt(file_for_line_A, delimiter=';', skip_header  = 1, dtype = \"float\")"
   ]
  },
  {
   "cell_type": "code",
   "execution_count": 5,
   "metadata": {},
   "outputs": [],
   "source": [
    "file_for_line_P = \"{}/line_P_volumes.csv\".format(folder)\n",
    "control_array_for_P = np.genfromtxt(file_for_line_P, delimiter=';', skip_header  = 1, dtype = \"float\")"
   ]
  },
  {
   "cell_type": "markdown",
   "metadata": {},
   "source": [
    "# Defining source plate set-up"
   ]
  },
  {
   "cell_type": "code",
   "execution_count": 6,
   "metadata": {},
   "outputs": [],
   "source": [
    "letter_list = list(string.ascii_uppercase)\n",
    "row_letters_tecan = letter_list[1:16]\n",
    "row_letters_source = letter_list[0:16]"
   ]
  },
  {
   "cell_type": "code",
   "execution_count": 7,
   "metadata": {},
   "outputs": [],
   "source": [
    "well_list_extract = list(range(1,3))\n",
    "extract_wells = [\"{}{}\".format(row, column) for column, row in list(itertools.product(well_list_extract, row_letters_source))]\n",
    "\n",
    "more_extract_wells = [\"A7\", \"B7\", \"C7\", \"D7\",\"E7\", \"F7\", \"G7\"]\n",
    "more_extract_wells = []\n",
    "extract_wells = extract_wells + more_extract_wells"
   ]
  },
  {
   "cell_type": "code",
   "execution_count": 8,
   "metadata": {},
   "outputs": [],
   "source": [
    "mg_gluta_wells = [\"A3\", \"B3\", \"C3\"]"
   ]
  },
  {
   "cell_type": "code",
   "execution_count": 9,
   "metadata": {},
   "outputs": [],
   "source": [
    "k_gluta_wells = [\"A4\", \"B4\", 'C4', 'D4', 'E4', 'F4', 'G4', 'H4']"
   ]
  },
  {
   "cell_type": "code",
   "execution_count": 10,
   "metadata": {},
   "outputs": [],
   "source": [
    "wells_list_aa = [5]\n",
    "aa_wells = [\"{}{}\".format(row, column) for column, row in list(itertools.product(wells_list_aa, row_letters_source))]"
   ]
  },
  {
   "cell_type": "code",
   "execution_count": 11,
   "metadata": {},
   "outputs": [],
   "source": [
    "well_list_peg = [6]\n",
    "peg_wells = [\"{}{}\".format(row, column) for row, column in list(itertools.product(row_letters_source, well_list_peg))]"
   ]
  },
  {
   "cell_type": "code",
   "execution_count": 12,
   "metadata": {},
   "outputs": [],
   "source": [
    "hepes_wells = [\"A7\", \"B7\", \"C7\", \"D7\"]"
   ]
  },
  {
   "cell_type": "code",
   "execution_count": 13,
   "metadata": {},
   "outputs": [],
   "source": [
    "trna_wells = [\"A8\", \"B8\", \"C8\"]\n",
    "coa_wells = [\"A9\", \"B9\", \"C9\"]\n",
    "nad_wells = [\"A10\", \"B10\", \"C10\"]\n",
    "camp_wells = [\"A11\", \"B11\", \"C11\"]\n",
    "folinic_acid_wells = [\"A12\", \"B12\", \"C12\"]\n",
    "spermidin_wells = [\"A13\", \"B13\", \"C13\"]\n",
    "pga_wells = [\"A14\", \"B14\", \"C14\", \"D14\", \"E14\", 'F14']\n",
    "ntp_wells = [\"A15\", \"B15\", \"C15\"]"
   ]
  },
  {
   "cell_type": "code",
   "execution_count": 14,
   "metadata": {},
   "outputs": [],
   "source": [
    "wells_list_dna_high_high = [16]\n",
    "dna_hh_wells = [\"{}{}\".format(row, column) for row, column in list(itertools.product(row_letters_source, wells_list_dna_high_high))]\n",
    "more_dna_wells = []\n",
    "dna_hh_wells = dna_hh_wells + more_dna_wells"
   ]
  },
  {
   "cell_type": "code",
   "execution_count": 15,
   "metadata": {},
   "outputs": [],
   "source": [
    "wells_list_dna_low_high = [17]\n",
    "dna_lh_wells = [\"{}{}\".format(row, column) for row, column in list(itertools.product(row_letters_source, wells_list_dna_low_high))]\n",
    "more_dna_wells = []\n",
    "dna_lh_wells = dna_lh_wells + more_dna_wells"
   ]
  },
  {
   "cell_type": "code",
   "execution_count": 16,
   "metadata": {},
   "outputs": [],
   "source": [
    "wells_list_dna_high_low = [18]\n",
    "dna_hl_wells = [\"{}{}\".format(row, column) for row, column in list(itertools.product(row_letters_source, wells_list_dna_high_low))]\n",
    "more_dna_wells = []\n",
    "dna_hl_wells = dna_hl_wells + more_dna_wells"
   ]
  },
  {
   "cell_type": "code",
   "execution_count": 17,
   "metadata": {},
   "outputs": [],
   "source": [
    "wells_list_dna_low_low = [19]\n",
    "dna_ll_wells = [\"{}{}\".format(row, column) for row, column in list(itertools.product(row_letters_source, wells_list_dna_low_low))]\n",
    "more_dna_wells = []\n",
    "dna_ll_wells = dna_ll_wells + more_dna_wells"
   ]
  },
  {
   "cell_type": "code",
   "execution_count": 18,
   "metadata": {},
   "outputs": [],
   "source": [
    "wells_list_water = list(range(21,23))\n",
    "water_wells = [\"{}{}\".format(row, column) for column, row in list(itertools.product(wells_list_water, row_letters_source))]"
   ]
  },
  {
   "cell_type": "code",
   "execution_count": 19,
   "metadata": {},
   "outputs": [],
   "source": [
    "all_wells_lists = {\"mg_gluta\": mg_gluta_wells, \n",
    "               \"k_gluta\": k_gluta_wells, \n",
    "               \"aa\": aa_wells, \n",
    "               \"peg\": peg_wells, \n",
    "               \"hepes\": hepes_wells, \n",
    "               \"trna\": trna_wells, \n",
    "               \"coa\": coa_wells, \n",
    "               \"nad\": nad_wells, \n",
    "               \"camp\": camp_wells, \n",
    "               \"folinic_acid\": folinic_acid_wells, \n",
    "               \"spermidine\": spermidin_wells, \n",
    "               \"pga\": pga_wells, \n",
    "               \"nucleo_mix\": ntp_wells, \n",
    "               \"dna_high_high\": dna_hh_wells,    \n",
    "               \"dna_high_low\": dna_hl_wells,\n",
    "               \"dna_low_high\": dna_lh_wells, \n",
    "               \"dna_low_low\": dna_ll_wells, \n",
    "               \"water\" :water_wells}"
   ]
  },
  {
   "cell_type": "markdown",
   "metadata": {},
   "source": [
    "# Specific file set-up"
   ]
  },
  {
   "cell_type": "code",
   "execution_count": 20,
   "metadata": {},
   "outputs": [],
   "source": [
    "current_row_index = 0\n",
    "current_column_index = 2\n",
    "tecan_wells_dict_list = []\n",
    "\n",
    "for row in my_current_data:\n",
    "    if current_column_index == 24:\n",
    "        current_row_index = current_row_index + 1\n",
    "        current_column_index = 2\n",
    "    well_name = \"{}{}\".format(row_letters_tecan[current_row_index], current_column_index)\n",
    "    well_dict = {'name': well_name,\n",
    "               \"extract_vol\": int(row[0]/0.0025) * 0.0025, \n",
    "               \"mg_gluta_vol\": int(row[1]/0.0025) * 0.0025, \n",
    "               \"k_gluta_vol\": int(row[2]/0.0025) * 0.0025, \n",
    "               \"aa_vol\": int(row[3]/0.0025) * 0.0025, \n",
    "               \"peg_vol\": int(row[4]/0.0025) * 0.0025, \n",
    "               \"hepes_vol\": int(row[5]/0.0025) * 0.0025, \n",
    "               \"trna_vol\": int(row[6]/0.0025) * 0.0025, \n",
    "               \"coa_vol\": int(row[7]/0.0025) * 0.0025, \n",
    "               \"nad_vol\": int(row[8]/0.0025) * 0.0025, \n",
    "               \"camp_vol\": int(row[9]/0.0025) * 0.0025, \n",
    "               \"folinic_acid_vol\": int(row[10]/0.0025) * 0.0025, \n",
    "               \"spermidine_vol\": int(row[11]/0.0025) * 0.0025, \n",
    "               \"pga_vol\": int(round(row[12]/0.0025)) * 0.0025, \n",
    "               \"nucleo_mix_vol\": int(row[13]/0.0025) * 0.0025, \n",
    "               \"dna_high_high_vol\": int(row[14]/0.0025) * 0.0025,  \n",
    "               \"dna_high_low_vol\": int(row[15]/0.0025) * 0.0025,  \n",
    "               \"dna_low_high_vol\": int(row[16]/0.0025) * 0.0025, \n",
    "               \"dna_low_low_vol\": int(row[17]/0.0025) * 0.0025, \n",
    "                \"water_vol\" :int(row[18]/0.0025) * 0.0025}\n",
    "    tecan_wells_dict_list.append(well_dict)\n",
    "    current_column_index = current_column_index + 1"
   ]
  },
  {
   "cell_type": "code",
   "execution_count": 21,
   "metadata": {},
   "outputs": [],
   "source": [
    "current_row_index = 0\n",
    "current_column_index = 2\n",
    "tecan_wells_dict_list_control_A = []\n",
    "\n",
    "for row in control_array_for_A:\n",
    "    if current_column_index == 24:\n",
    "        current_row_index = current_row_index + 1\n",
    "        current_column_index = 2\n",
    "    well_name = \"{}{}\".format('A', current_column_index)\n",
    "    well_dict = {'name': well_name,\n",
    "               \"extract_vol\": int(row[0]/0.0025) * 0.0025, \n",
    "               \"mg_gluta_vol\": int(row[1]/0.0025) * 0.0025, \n",
    "               \"k_gluta_vol\": int(row[2]/0.0025) * 0.0025, \n",
    "               \"aa_vol\": int(row[3]/0.0025) * 0.0025, \n",
    "               \"peg_vol\": int(row[4]/0.0025) * 0.0025, \n",
    "               \"hepes_vol\": int(row[5]/0.0025) * 0.0025, \n",
    "               \"trna_vol\": int(row[6]/0.0025) * 0.0025, \n",
    "               \"coa_vol\": int(row[7]/0.0025) * 0.0025, \n",
    "               \"nad_vol\": int(row[8]/0.0025) * 0.0025, \n",
    "               \"camp_vol\": int(row[9]/0.0025) * 0.0025, \n",
    "               \"folinic_acid_vol\": int(row[10]/0.0025) * 0.0025, \n",
    "               \"spermidine_vol\": int(row[11]/0.0025) * 0.0025, \n",
    "               \"pga_vol\": int(row[12]/0.0025) * 0.0025, \n",
    "               \"nucleo_mix_vol\": int(row[13]/0.0025) * 0.0025, \n",
    "               \"dna_high_high_vol\": int(row[14]/0.0025) * 0.0025,  \n",
    "               \"dna_high_low_vol\": int(row[15]/0.0025) * 0.0025,  \n",
    "               \"dna_low_high_vol\": int(row[16]/0.0025) * 0.0025, \n",
    "               \"dna_low_low_vol\": int(row[17]/0.0025) * 0.0025, \n",
    "                \"water_vol\" :int(row[18]/0.0025) * 0.0025}\n",
    "    tecan_wells_dict_list_control_A.append(well_dict)\n",
    "    current_column_index = current_column_index + 1"
   ]
  },
  {
   "cell_type": "code",
   "execution_count": 22,
   "metadata": {},
   "outputs": [],
   "source": [
    "current_row_index = 0\n",
    "current_column_index = 2\n",
    "tecan_wells_dict_list_control_P = []\n",
    "\n",
    "for row in control_array_for_P:\n",
    "    if current_column_index == 24:\n",
    "        current_row_index = current_row_index + 1\n",
    "        current_column_index = 2\n",
    "    well_name = \"{}{}\".format('P', current_column_index)\n",
    "    well_dict = {'name': well_name,\n",
    "               \"extract_vol\": int(row[0]/0.0025) * 0.0025, \n",
    "               \"mg_gluta_vol\": int(row[1]/0.0025) * 0.0025, \n",
    "               \"k_gluta_vol\": int(row[2]/0.0025) * 0.0025, \n",
    "               \"aa_vol\": int(row[3]/0.0025) * 0.0025, \n",
    "               \"peg_vol\": int(row[4]/0.0025) * 0.0025, \n",
    "               \"hepes_vol\": int(row[5]/0.0025) * 0.0025, \n",
    "               \"trna_vol\": int(row[6]/0.0025) * 0.0025, \n",
    "               \"coa_vol\": int(row[7]/0.0025) * 0.0025, \n",
    "               \"nad_vol\": int(row[8]/0.0025) * 0.0025, \n",
    "               \"camp_vol\": int(row[9]/0.0025) * 0.0025, \n",
    "               \"folinic_acid_vol\": int(row[10]/0.0025) * 0.0025, \n",
    "               \"spermidine_vol\": int(row[11]/0.0025) * 0.0025, \n",
    "               \"pga_vol\": int(round(row[12]/0.0025)) * 0.0025, \n",
    "               \"nucleo_mix_vol\": int(row[13]/0.0025) * 0.0025, \n",
    "               \"dna_high_high_vol\": int(row[14]/0.0025) * 0.0025,  \n",
    "               \"dna_high_low_vol\": int(row[15]/0.0025) * 0.0025,  \n",
    "               \"dna_low_high_vol\": int(row[16]/0.0025) * 0.0025, \n",
    "               \"dna_low_low_vol\": int(row[17]/0.0025) * 0.0025, \n",
    "                \"water_vol\" :int(row[18]/0.0025) * 0.0025}\n",
    "    tecan_wells_dict_list_control_P.append(well_dict)\n",
    "    current_column_index = current_column_index + 1"
   ]
  },
  {
   "cell_type": "markdown",
   "metadata": {},
   "source": [
    "# Exporting named volumes"
   ]
  },
  {
   "cell_type": "code",
   "execution_count": 23,
   "metadata": {},
   "outputs": [
    {
     "name": "stdout",
     "output_type": "stream",
     "text": [
      "Wells with 0 DNA are A6\n",
      "Wells with 0 DNA are A12\n",
      "Wells with 0 DNA are A18\n"
     ]
    }
   ],
   "source": [
    "for element in tecan_wells_dict_list_control_A:\n",
    "    if element[\"dna_high_high_vol\"] ==0:\n",
    "        print(\"Wells with 0 DNA are {}\".format(element[\"name\"]))"
   ]
  },
  {
   "cell_type": "code",
   "execution_count": 24,
   "metadata": {},
   "outputs": [],
   "source": [
    "fieldnames = [\"name\",\"extract_vol\",\"mg_gluta_vol\",\"k_gluta_vol\",\"aa_vol\",\"peg_vol\",\"hepes_vol\",\"trna_vol\",\n",
    "              \"coa_vol\",\"nad_vol\",\"camp_vol\",\"folinic_acid_vol\",\"spermidine_vol\",\"pga_vol\",\"nucleo_mix_vol\",\n",
    "              \"dna_high_high_vol\",\"dna_high_low_vol\",\"dna_low_high_vol\",\"dna_low_low_vol\",\"water_vol\"]\n",
    "\n",
    "with open(\"{}/{}_named_volumes.csv\".format(folder, file_name), \"w\") as instruction_file:\n",
    "    writer = csv.DictWriter(instruction_file, fieldnames=fieldnames)\n",
    "    writer.writeheader()\n",
    "    for well in tecan_wells_dict_list:\n",
    "        writer.writerow(well)"
   ]
  },
  {
   "cell_type": "code",
   "execution_count": 25,
   "metadata": {},
   "outputs": [],
   "source": [
    "fieldnames = [\"name\",\"extract_vol\",\"mg_gluta_vol\",\"k_gluta_vol\",\"aa_vol\",\"peg_vol\",\"hepes_vol\",\"trna_vol\",\n",
    "              \"coa_vol\",\"nad_vol\",\"camp_vol\",\"folinic_acid_vol\",\"spermidine_vol\",\"pga_vol\",\"nucleo_mix_vol\",\n",
    "              \"dna_high_high_vol\",\"dna_high_low_vol\",\"dna_low_high_vol\",\"dna_low_low_vol\",\"water_vol\"]\n",
    "\n",
    "with open(\"{}/line_A_named_volumes.csv\".format(folder), \"w\") as instruction_file:\n",
    "    writer = csv.DictWriter(instruction_file, fieldnames=fieldnames)\n",
    "    writer.writeheader()\n",
    "    for well in tecan_wells_dict_list_control_A:\n",
    "        writer.writerow(well)"
   ]
  },
  {
   "cell_type": "code",
   "execution_count": 26,
   "metadata": {},
   "outputs": [],
   "source": [
    "fieldnames = [\"name\",\"extract_vol\",\"mg_gluta_vol\",\"k_gluta_vol\",\"aa_vol\",\"peg_vol\",\"hepes_vol\",\"trna_vol\",\n",
    "              \"coa_vol\",\"nad_vol\",\"camp_vol\",\"folinic_acid_vol\",\"spermidine_vol\",\"pga_vol\",\"nucleo_mix_vol\",\n",
    "              \"dna_high_high_vol\",\"dna_high_low_vol\",\"dna_low_high_vol\",\"dna_low_low_vol\",\"water_vol\"]\n",
    "\n",
    "with open(\"{}/line_P_named_volumes.csv\".format(folder), \"w\") as instruction_file:\n",
    "    writer = csv.DictWriter(instruction_file, fieldnames=fieldnames)\n",
    "    writer.writeheader()\n",
    "    for well in tecan_wells_dict_list_control_P:\n",
    "        writer.writerow(well)"
   ]
  },
  {
   "cell_type": "markdown",
   "metadata": {},
   "source": [
    "# Filling the wells"
   ]
  },
  {
   "cell_type": "code",
   "execution_count": 27,
   "metadata": {},
   "outputs": [],
   "source": [
    "source_wells = {\n",
    "    \"extract_well\": 0,\n",
    "    \"extract_vol\" : 40,\n",
    "    \"mg_gluta_well\": 0,\n",
    "    \"mg_gluta_vol\" : 60,\n",
    "    \"k_gluta_well\": 0,\n",
    "    \"k_gluta_vol\" : 35,\n",
    "    \"aa_well\": 0,\n",
    "    \"aa_vol\" : 60,\n",
    "    \"peg_well\": 0,\n",
    "    \"peg_vol\" : 20,\n",
    "    \"hepes_well\": 0,\n",
    "    \"hepes_vol\" : 40,\n",
    "    \"trna_well\": 0,\n",
    "    \"trna_vol\" : 60,\n",
    "    \"coa_well\": 0,\n",
    "    \"coa_vol\" : 60,\n",
    "    \"nad_well\": 0,\n",
    "    \"nad_vol\" : 60,\n",
    "    \"camp_well\": 0,\n",
    "    \"camp_vol\" : 60,\n",
    "    \"folinic_acid_well\": 0,\n",
    "    \"folinic_acid_vol\" : 60,\n",
    "    \"spermidine_well\": 0,\n",
    "    \"spermidine_vol\" : 60,\n",
    "    \"pga_well\": 0,\n",
    "    \"pga_vol\" : 35,\n",
    "    \"nucleo_mix_well\": 0,\n",
    "    \"nucleo_mix_vol\": 60,\n",
    "    \"dna_high_high_well\": 0,\n",
    "    \"dna_high_high_vol\": 60,\n",
    "    \"dna_high_low_well\": 0,\n",
    "    \"dna_high_low_vol\": 60,\n",
    "    \"dna_low_high_well\": 0,\n",
    "    \"dna_low_high_vol\": 60,\n",
    "    \"dna_low_low_well\": 0,\n",
    "    \"dna_low_low_vol\": 60,\n",
    "    \"water_well\": 0,\n",
    "    \"water_vol\": 60\n",
    "}"
   ]
  },
  {
   "cell_type": "code",
   "execution_count": 28,
   "metadata": {},
   "outputs": [],
   "source": [
    "all_compounds_list = [\"mg_gluta\", \"k_gluta\", \"aa\", \"peg\", \"hepes\", \"trna\", \"coa\", \"nad\", \"camp\", \"folinic_acid\", \n",
    "                     \"spermidine\", \"pga\", \"nucleo_mix\",\"dna_high_high\", \"dna_high_low\", \"dna_low_high\", \"dna_low_low\" ,\"water\"]\n",
    "\n",
    "varying_compounds_list = [\"mg_gluta\",\"k_gluta\", \"aa\", \"trna\", \"coa\", \"nad\", \"camp\", \"folinic_acid\", \n",
    "                     \"spermidine\", \"pga\", \"nucleo_mix\",\"dna_high_high\" ,\"water\"]\n",
    "\n",
    "varying_compounds_list_no_dna = [\"mg_gluta\",\"k_gluta\", \"aa\", \"trna\", \"coa\", \"nad\", \"camp\", \"folinic_acid\", \n",
    "                     \"spermidine\", \"pga\", \"nucleo_mix\" ,\"water\"]"
   ]
  },
  {
   "cell_type": "code",
   "execution_count": 29,
   "metadata": {},
   "outputs": [],
   "source": [
    "tecan_wells_dict_list = tecan_wells_dict_list_control_A + tecan_wells_dict_list + tecan_wells_dict_list_control_P "
   ]
  },
  {
   "cell_type": "code",
   "execution_count": 30,
   "metadata": {},
   "outputs": [],
   "source": [
    "instruction_list = []\n",
    "i = 0\n",
    "\n",
    "left_over_volume = 20  # Lowest volume allowed in source wells.\n",
    "\n",
    "wells_as_dict_water = {}  # Quantities will also be pipetted by hand\n",
    "wells_as_dict_aa = {}  # Quantities will also be pipetted by hand\n",
    "\n",
    "for tecan_well in tecan_wells_dict_list:\n",
    "    i = i + 1\n",
    "    \n",
    "    # Other compounds handling:\n",
    "    for compound in varying_compounds_list_no_dna:\n",
    "        instructions = {\"Destination Well\": tecan_well[\"name\"], \"Source Plate Barcode\": \"Plate1\", \"Destination Plate Barcode\": \"destPlate100\"}\n",
    "        current_compound_volume = source_wells[\"{}_vol\".format(compound)]\n",
    "        # Verify there is enough in the well\n",
    "        required_volume = tecan_well[\"{}_vol\".format(compound)]\n",
    "        if compound == \"water\":\n",
    "            if required_volume > 3.5:\n",
    "                wells_as_dict_water[tecan_well[\"name\"]] = 3.5\n",
    "                required_volume = required_volume - 3.5\n",
    "            elif required_volume > 2.5:\n",
    "                wells_as_dict_water[tecan_well[\"name\"]] = 2.5\n",
    "                required_volume = required_volume - 2.5\n",
    "            elif required_volume > 1.5:\n",
    "                wells_as_dict_water[tecan_well[\"name\"]] = 1.5\n",
    "                required_volume = required_volume - 1.5\n",
    "            else:\n",
    "                wells_as_dict_water[tecan_well[\"name\"]] = 0\n",
    "        if compound == \"aa\":\n",
    "            if required_volume > 2.6:\n",
    "                wells_as_dict_aa[tecan_well[\"name\"]] = 2.6\n",
    "                required_volume = required_volume - 2.6\n",
    "            elif required_volume > 1.3:\n",
    "                wells_as_dict_aa[tecan_well[\"name\"]] = 1.3\n",
    "                required_volume = required_volume - 1.3\n",
    "            else:\n",
    "                wells_as_dict_aa[tecan_well[\"name\"]] = 0\n",
    "                \n",
    "            \n",
    "        if required_volume > (current_compound_volume - left_over_volume):\n",
    "            # Empty current well and then \n",
    "            compound_source = all_wells_lists[compound][source_wells[\"{}_well\".format(compound)]]\n",
    "            instructions[\"Transfer Volume\"] = 1000 * round((current_compound_volume - left_over_volume), 1)\n",
    "            required_volume = required_volume - round((current_compound_volume - left_over_volume), 1)\n",
    "            current_compound_volume = left_over_volume\n",
    "            instructions[\"Source Well\"] = compound_source\n",
    "            instruction_list.append(instructions)\n",
    "            source_wells[\"{}_well\".format(compound)] = source_wells[\"{}_well\".format(compound)] + 1\n",
    "            if compound == \"peg\":\n",
    "                 source_wells[\"{}_vol\".format(compound)] = 20\n",
    "            elif compound == \"pga\":\n",
    "                 source_wells[\"{}_vol\".format(compound)] = 35         \n",
    "            elif compound == \"k_gluta\":\n",
    "                 source_wells[\"{}_vol\".format(compound)] = 35\n",
    "            else:\n",
    "                source_wells[\"{}_vol\".format(compound)] = 60\n",
    "            instructions = {\"Destination Well\": tecan_well[\"name\"], \"Source Plate Barcode\": \"Plate1\", \"Destination Plate Barcode\": \"destPlate100\"}\n",
    "        compound_source = all_wells_lists[compound][source_wells[\"{}_well\".format(compound)]]\n",
    "        instructions[\"Transfer Volume\"] = round(1000 * required_volume,1)\n",
    "        instructions[\"Source Well\"] = compound_source\n",
    "        source_wells[\"{}_vol\".format(compound)] =  source_wells[\"{}_vol\".format(compound)] - required_volume\n",
    "        instruction_list.append(instructions)"
   ]
  },
  {
   "cell_type": "code",
   "execution_count": 31,
   "metadata": {},
   "outputs": [],
   "source": [
    "# for k, v in source_wells.items():\n",
    "#     print(k,v)"
   ]
  },
  {
   "cell_type": "markdown",
   "metadata": {},
   "source": [
    "# Exporting instructions"
   ]
  },
  {
   "cell_type": "markdown",
   "metadata": {},
   "source": [
    "Various instructions will be exported: names of wells to fill in the source plate, instructions, water and amino acid files."
   ]
  },
  {
   "cell_type": "code",
   "execution_count": 32,
   "metadata": {},
   "outputs": [
    {
     "name": "stdout",
     "output_type": "stream",
     "text": [
      "For compound mg_gluta, fill until well B3\n",
      "For compound k_gluta, fill until well E4\n",
      "For compound aa, fill until well C5\n",
      "For compound trna, fill until well A8\n",
      "For compound coa, fill until well A9\n",
      "For compound nad, fill until well A10\n",
      "For compound camp, fill until well A11\n",
      "For compound folinic_acid, fill until well A12\n",
      "For compound spermidine, fill until well A13\n",
      "For compound pga, fill until well B14\n",
      "For compound nucleo_mix, fill until well A15\n",
      "For compound water, fill until well E21\n"
     ]
    }
   ],
   "source": [
    "# Names of wells to fill in source plate\n",
    "\n",
    "for compound in varying_compounds_list_no_dna:\n",
    "    print(\"For compound {}, fill until well {}\".format(compound, all_wells_lists[compound][source_wells[\"{}_well\".format(compound)]]))"
   ]
  },
  {
   "cell_type": "code",
   "execution_count": 33,
   "metadata": {},
   "outputs": [],
   "source": [
    "# Exporting instructions\n",
    "\n",
    "fieldnames = [\"Source Plate Barcode\", \"Source Well\", \"Destination Plate Barcode\", \"Destination Well\", \"Transfer Volume\"]\n",
    "with open(\"{}/{}_instructions.csv\".format(folder, file_name), \"w\") as instruction_file:\n",
    "    writer = csv.DictWriter(instruction_file, fieldnames=fieldnames)\n",
    "    writer.writeheader()\n",
    "    for element in instruction_list:\n",
    "        if element[\"Transfer Volume\"] == 0:\n",
    "            pass\n",
    "        else:\n",
    "            writer.writerow(element)\n"
   ]
  },
  {
   "cell_type": "code",
   "execution_count": 34,
   "metadata": {},
   "outputs": [],
   "source": [
    "fieldnames_plate = ['row']\n",
    "for i in range(2,24):\n",
    "    fieldnames_plate.append(str(i))"
   ]
  },
  {
   "cell_type": "code",
   "execution_count": 35,
   "metadata": {},
   "outputs": [],
   "source": [
    "with open(\"{}/{}_water.csv\".format(folder, file_name), \"w\") as instruction_file:\n",
    "    writer = csv.DictWriter(instruction_file, fieldnames=fieldnames_plate, restval='0')\n",
    "    writer.writeheader()\n",
    "    current_row = 'A'\n",
    "    row = {}\n",
    "    row[\"row\"] = current_row\n",
    "    for element in sorted(wells_as_dict_water.keys()):\n",
    "        if element.startswith(current_row):\n",
    "            row[element[1:]] = wells_as_dict_water[element]\n",
    "        else:\n",
    "            writer.writerow(row)\n",
    "            current_row = element[0]\n",
    "            row = {\"row\": current_row}\n",
    "            row[element[1:]] = wells_as_dict_water[element]\n",
    "    writer.writerow(row)"
   ]
  },
  {
   "cell_type": "code",
   "execution_count": 36,
   "metadata": {},
   "outputs": [],
   "source": [
    "with open(\"{}/{}_aa.csv\".format(folder, file_name), \"w\") as instruction_file:\n",
    "    writer = csv.DictWriter(instruction_file, fieldnames=fieldnames_plate, restval='0')\n",
    "    writer.writeheader()\n",
    "    current_row = 'A'\n",
    "    row = {}\n",
    "    row[\"row\"] = current_row\n",
    "    for element in sorted(wells_as_dict_aa.keys()):\n",
    "        if element.startswith(current_row):\n",
    "            row[element[1:]] = wells_as_dict_aa[element]\n",
    "        else:\n",
    "            writer.writerow(row)\n",
    "            current_row = element[0]\n",
    "            row = {\"row\": current_row}\n",
    "            row[element[1:]] = wells_as_dict_aa[element]\n",
    "    writer.writerow(row)"
   ]
  },
  {
   "cell_type": "code",
   "execution_count": null,
   "metadata": {},
   "outputs": [],
   "source": []
  },
  {
   "cell_type": "code",
   "execution_count": null,
   "metadata": {},
   "outputs": [],
   "source": []
  },
  {
   "cell_type": "code",
   "execution_count": null,
   "metadata": {},
   "outputs": [],
   "source": []
  }
 ],
 "metadata": {
  "anaconda-cloud": {},
  "kernelspec": {
   "display_name": "Python 3",
   "language": "python",
   "name": "python3"
  },
  "language_info": {
   "codemirror_mode": {
    "name": "ipython",
    "version": 3
   },
   "file_extension": ".py",
   "mimetype": "text/x-python",
   "name": "python",
   "nbconvert_exporter": "python",
   "pygments_lexer": "ipython3",
   "version": "3.6.9"
  }
 },
 "nbformat": 4,
 "nbformat_minor": 1
}
