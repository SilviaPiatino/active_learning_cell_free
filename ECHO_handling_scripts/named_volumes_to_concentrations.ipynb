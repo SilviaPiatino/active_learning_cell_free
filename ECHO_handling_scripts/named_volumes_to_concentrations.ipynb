{
 "cells": [
  {
   "cell_type": "markdown",
   "metadata": {},
   "source": [
    "Mathilde Koch, INRA, Faulon's group"
   ]
  },
  {
   "cell_type": "markdown",
   "metadata": {},
   "source": [
    "The aim of this script is to convert a named volume file to a named concentration file."
   ]
  },
  {
   "cell_type": "markdown",
   "metadata": {},
   "source": [
    "# Importing necessary libraries"
   ]
  },
  {
   "cell_type": "code",
   "execution_count": 1,
   "metadata": {},
   "outputs": [],
   "source": [
    "import numpy as np\n",
    "import csv\n",
    "import string"
   ]
  },
  {
   "cell_type": "code",
   "execution_count": 2,
   "metadata": {},
   "outputs": [],
   "source": [
    "folder = \"example\"\n",
    "file_name = \"line_P\"\n",
    "file_to_read = \"{}/{}_named_volumes.csv\".format(folder, file_name)\n",
    "file_to_write = \"{}/{}_concentrations_reconstituted.csv\".format(folder, file_name)"
   ]
  },
  {
   "cell_type": "markdown",
   "metadata": {},
   "source": [
    "# Load data"
   ]
  },
  {
   "cell_type": "code",
   "execution_count": 3,
   "metadata": {},
   "outputs": [],
   "source": [
    "my_current_data = np.genfromtxt(file_to_read, delimiter=',', skip_header  = 1, dtype = \"str\")"
   ]
  },
  {
   "cell_type": "markdown",
   "metadata": {},
   "source": [
    "# Define concentrations and columes"
   ]
  },
  {
   "cell_type": "code",
   "execution_count": 4,
   "metadata": {},
   "outputs": [],
   "source": [
    "# Volume required and stocks - calculated for compatibility with 2.5 nL nanodrops of the ECHO\n",
    "vol_max = 10.5\n",
    "\n",
    "n = 5  # Number of drops at minimal concentration. We chose to have at least 5 drops even at minimal concentration.\n",
    "\n",
    "stock_extract = 89.5\n",
    "stock_mg_gluta = 168\n",
    "stock_K_gluta = 3360\n",
    "stock_aa = 6\n",
    "stock_peg = 40\n",
    "stock_hepes = 2100\n",
    "stock_trna = 84/n\n",
    "stock_coa = 109.2/n\n",
    "stock_nad = 138.6/n\n",
    "stock_camp = 315/n\n",
    "stock_folinic_acid = 28.56/n\n",
    "stock_spermidine = 420/n\n",
    "stock_pga = 1400\n",
    "stock_nucleo = 630/n\n",
    "stock_dna = 300"
   ]
  },
  {
   "cell_type": "markdown",
   "metadata": {},
   "source": [
    "# Calculate volumes for each sample"
   ]
  },
  {
   "cell_type": "code",
   "execution_count": 5,
   "metadata": {},
   "outputs": [],
   "source": [
    "letter_list = list(string.ascii_uppercase)\n",
    "row_letters_tecan = letter_list[1:16]\n",
    "row_letters_source = letter_list[0:16]"
   ]
  },
  {
   "cell_type": "code",
   "execution_count": 6,
   "metadata": {},
   "outputs": [],
   "source": [
    "current_row_index = 0\n",
    "current_column_index = 2\n",
    "tecan_wells_dict_list = []\n",
    "\n",
    "for row in my_current_data:\n",
    "    if current_column_index == 24:\n",
    "        current_row_index = current_row_index + 1\n",
    "        current_column_index = 2\n",
    "    well_name = \"{}{}\".format(row_letters_tecan[current_row_index], current_column_index)\n",
    "    well_dict = {'name': row[0],\n",
    "               \"extract_vol\": int(float(row[1])/0.0025) * 0.0025, \n",
    "               \"mg_gluta_vol\": int(float(row[2])/0.0025) * 0.0025, \n",
    "               \"k_gluta_vol\": int(float(row[3])/0.0025) * 0.0025, \n",
    "               \"aa_vol\": int(float(row[4])/0.0025) * 0.0025, \n",
    "               \"peg_vol\": int(float(row[5])/0.0025) * 0.0025, \n",
    "               \"hepes_vol\": int(float(row[6])/0.0025) * 0.0025, \n",
    "               \"trna_vol\": int(float(row[7])/0.0025) * 0.0025, \n",
    "               \"coa_vol\": int(float(row[8])/0.0025) * 0.0025, \n",
    "               \"nad_vol\": int(float(row[9])/0.0025) * 0.0025, \n",
    "               \"camp_vol\": int(float(row[10])/0.0025) * 0.0025, \n",
    "               \"folinic_acid_vol\": int(float(row[11])/0.0025) * 0.0025, \n",
    "               \"spermidine_vol\": int(float(row[12])/0.0025) * 0.0025, \n",
    "               \"pga_vol\": int(float(row[13])/0.0025) * 0.0025, \n",
    "               \"nucleo_mix_vol\": int(float(row[14])/0.0025) * 0.0025, \n",
    "               \"dna_high_high_vol\": int(float(row[15])/0.0025) * 0.0025,  \n",
    "               \"dna_high_low_vol\": int(float(row[16])/0.0025) * 0.0025,  \n",
    "               \"dna_low_high_vol\": int(float(row[17])/0.0025) * 0.0025, \n",
    "               \"dna_low_low_vol\": int(float(row[18])/0.0025) * 0.0025, \n",
    "                \"water_vol\" :int(float(row[19])/0.0025) * 0.0025}\n",
    "    tecan_wells_dict_list.append(well_dict)\n",
    "    current_column_index = current_column_index + 1\n"
   ]
  },
  {
   "cell_type": "code",
   "execution_count": 7,
   "metadata": {},
   "outputs": [],
   "source": [
    "named_wells_concentrations = []\n",
    "for well in tecan_wells_dict_list:\n",
    "    named_well = {\"name\": well[\"name\"]}\n",
    "    named_well[\"mg_gluta\"] = round(well[\"mg_gluta_vol\"] * stock_mg_gluta/vol_max, 4)\n",
    "    named_well[\"K_gluta\"] = round(well[\"k_gluta_vol\"] * stock_K_gluta/vol_max, 4)\n",
    "    named_well[\"aa\"] = round(well[\"aa_vol\"] * stock_aa/vol_max, 4)\n",
    "    named_well[\"peg\"] = round(well[\"peg_vol\"] * stock_peg/vol_max, 4)\n",
    "    named_well[\"hepes\"] = round(well[\"hepes_vol\"] * stock_hepes/vol_max, 4)\n",
    "    named_well[\"trna\"] = round(well[\"trna_vol\"] * stock_trna/vol_max, 4)\n",
    "    named_well[\"coa\"] = round(well[\"coa_vol\"] * stock_coa/vol_max, 4)\n",
    "    named_well[\"nad\"] = round(well[\"nad_vol\"] * stock_nad/vol_max, 4)\n",
    "    named_well[\"camp\"] = round(well[\"camp_vol\"] * stock_camp/vol_max, 4)\n",
    "    named_well[\"folinic_acid\"] = round(well[\"folinic_acid_vol\"] * stock_folinic_acid/vol_max, 4)\n",
    "    named_well[\"spermidin\"] = round(well[\"spermidine_vol\"] * stock_spermidine/vol_max, 4)\n",
    "    named_well[\"pga\"] = round(well[\"pga_vol\"] * stock_pga/vol_max, 4)\n",
    "    named_well[\"nucleo_mix\"] = round(well[\"nucleo_mix_vol\"] * stock_nucleo/vol_max, 4)\n",
    "    \n",
    "    if well[\"dna_low_low_vol\"] != 0:\n",
    "        named_well[\"DNA\"] = well[\"dna_low_low_vol\"]*50/1.75\n",
    "        named_well[\"promoter\"] = 1\n",
    "        named_well[\"RBS\"] = 1\n",
    "    elif well[\"dna_low_high_vol\"] != 0:\n",
    "        named_well[\"DNA\"] = well[\"dna_low_high_vol\"]*50/1.75\n",
    "        named_well[\"promoter\"] = 1\n",
    "        named_well[\"RBS\"] = 10\n",
    "    elif well[\"dna_high_low_vol\"] != 0:\n",
    "        named_well[\"DNA\"] = well[\"dna_high_low_vol\"]*50/1.75\n",
    "        named_well[\"promoter\"] = 10\n",
    "        named_well[\"RBS\"] = 1\n",
    "    else:\n",
    "        named_well[\"DNA\"] = well[\"dna_high_high_vol\"]*50/1.75\n",
    "        named_well[\"promoter\"] = 10\n",
    "        named_well[\"RBS\"] = 10\n",
    "    named_wells_concentrations.append(named_well)"
   ]
  },
  {
   "cell_type": "markdown",
   "metadata": {},
   "source": [
    "# Exporting results"
   ]
  },
  {
   "cell_type": "code",
   "execution_count": 8,
   "metadata": {},
   "outputs": [],
   "source": [
    "fieldnames = ['nad', 'folinic_acid', 'DNA', 'coa', 'RBS', 'peg', 'nucleo_mix', 'spermidin', 'pga', 'aa', \n",
    "              'trna', 'mg_gluta', 'hepes', 'camp', 'K_gluta', 'promoter', 'name']\n",
    "\n",
    "with open(\"{}\".format(file_to_write), \"w\") as instruction_file:\n",
    "    writer = csv.DictWriter(instruction_file, fieldnames=fieldnames)\n",
    "    writer.writeheader()\n",
    "    for well in named_wells_concentrations:\n",
    "        writer.writerow(well)"
   ]
  },
  {
   "cell_type": "code",
   "execution_count": null,
   "metadata": {},
   "outputs": [],
   "source": []
  }
 ],
 "metadata": {
  "anaconda-cloud": {},
  "kernelspec": {
   "display_name": "Python 3",
   "language": "python",
   "name": "python3"
  },
  "language_info": {
   "codemirror_mode": {
    "name": "ipython",
    "version": 3
   },
   "file_extension": ".py",
   "mimetype": "text/x-python",
   "name": "python",
   "nbconvert_exporter": "python",
   "pygments_lexer": "ipython3",
   "version": "3.6.9"
  }
 },
 "nbformat": 4,
 "nbformat_minor": 1
}
