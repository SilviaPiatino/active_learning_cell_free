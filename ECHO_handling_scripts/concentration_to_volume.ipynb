{
 "cells": [
  {
   "cell_type": "markdown",
   "metadata": {},
   "source": [
    "Mathilde Koch, INRA, Faulon's group."
   ]
  },
  {
   "cell_type": "markdown",
   "metadata": {},
   "source": [
    "The aim of this script is to convert a completed concentration file to a volume file."
   ]
  },
  {
   "cell_type": "markdown",
   "metadata": {},
   "source": [
    "# Importing necessary libraries"
   ]
  },
  {
   "cell_type": "code",
   "execution_count": 1,
   "metadata": {},
   "outputs": [],
   "source": [
    "import numpy as np\n",
    "import csv"
   ]
  },
  {
   "cell_type": "code",
   "execution_count": 2,
   "metadata": {},
   "outputs": [],
   "source": [
    "folder = \"example\"\n",
    "file_name = \"example\"\n",
    "file_to_read = \"{}/concentrations_{}_completed.csv\".format(folder, file_name)\n",
    "file_to_write = \"{}/{}_volumes.csv\".format(folder, file_name)"
   ]
  },
  {
   "cell_type": "markdown",
   "metadata": {},
   "source": [
    "# Load data"
   ]
  },
  {
   "cell_type": "code",
   "execution_count": 3,
   "metadata": {},
   "outputs": [],
   "source": [
    "my_current_data = np.genfromtxt(file_to_read, delimiter=';', skip_header  = 1, dtype = \"float\")"
   ]
  },
  {
   "cell_type": "markdown",
   "metadata": {},
   "source": [
    "# Define concentrations and columes"
   ]
  },
  {
   "cell_type": "code",
   "execution_count": 4,
   "metadata": {},
   "outputs": [],
   "source": [
    "# Maximum concentrations for each component\n",
    "\n",
    "extract_max = 30\n",
    "mg_gluta_max = 4\n",
    "K_gluta_max = 80\n",
    "aa_max = 1.5\n",
    "peg_max = 2\n",
    "hepes_max = 50\n",
    "trna_max = 0.2\n",
    "coa_max = 0.26\n",
    "nad_max = 0.33\n",
    "camp_max = 0.75\n",
    "folinic_acid_max = 0.068\n",
    "spemidine_max = 1\n",
    "pga_max = 30\n",
    "nucleo_mix_max = 1.5\n",
    "DNA_max = 50\n",
    "\n",
    "promoter_max = 10\n",
    "RBS_max = 10"
   ]
  },
  {
   "cell_type": "code",
   "execution_count": 5,
   "metadata": {},
   "outputs": [],
   "source": [
    "# Volume required and stocks - calculated for compatibility with 2.5 nL nanodrops of the ECHO\n",
    "vol_max = 10.5\n",
    "\n",
    "n = 5  # Number of drops at minimal concentration. We chose to have at least 5 drops even at minimal concentration.\n",
    "\n",
    "stock_extract = 89.5\n",
    "stock_mg_gluta = 168\n",
    "stock_K_gluta = 3360\n",
    "stock_aa = 6\n",
    "stock_peg = 40\n",
    "stock_hepes = 2100\n",
    "stock_trna = 84/n\n",
    "stock_coa = 109.2/n\n",
    "stock_nad = 138.6/n\n",
    "stock_camp = 315/n\n",
    "stock_folinic_acid = 28.56/n\n",
    "stock_spermidine = 420/n\n",
    "stock_pga = 1400\n",
    "stock_nucleo = 630/n\n",
    "stock_dna = 300"
   ]
  },
  {
   "cell_type": "markdown",
   "metadata": {},
   "source": [
    "# Calculate volumes for each sample"
   ]
  },
  {
   "cell_type": "code",
   "execution_count": 6,
   "metadata": {},
   "outputs": [],
   "source": [
    "answer_array = np.concatenate((my_current_data, my_current_data, my_current_data), axis = 0)"
   ]
  },
  {
   "cell_type": "code",
   "execution_count": 7,
   "metadata": {},
   "outputs": [],
   "source": [
    "promoter = answer_array[:, 15]\n",
    "RBS = answer_array[:, 16]\n",
    "\n",
    "promoter_high = np.array(promoter == 10)\n",
    "RBS_high = np.array(RBS == 10)"
   ]
  },
  {
   "cell_type": "code",
   "execution_count": 8,
   "metadata": {},
   "outputs": [],
   "source": [
    "volume_array = None\n",
    "extract_vol = np.reshape(np.round_(answer_array[:, 0] * vol_max/stock_extract/0.0025, 0) * 0.0025, (answer_array.shape[0],1))\n",
    "mg_gluta_vol = np.reshape(np.round_(answer_array[:, 1] * vol_max/stock_mg_gluta/0.0025, 0) * 0.0025, (answer_array.shape[0],1))\n",
    "k_gluta_vol = np.reshape(np.round_(answer_array[:, 2] * vol_max/stock_K_gluta/0.0025, 0) * 0.0025, (answer_array.shape[0],1))\n",
    "aa_vol = np.reshape(np.round_(answer_array[:, 3] * vol_max/stock_aa/0.0025, 0) * 0.0025, (answer_array.shape[0],1))\n",
    "peg_vol = np.reshape(np.round_(answer_array[:, 4] * vol_max/stock_peg/0.0025, 0) * 0.0025, (answer_array.shape[0],1))\n",
    "hepes_vol = np.reshape(np.round_(answer_array[:, 5] * vol_max/stock_hepes/0.0025, 0) * 0.0025, (answer_array.shape[0],1))\n",
    "trna_vol = np.reshape(np.round_(answer_array[:, 6] * vol_max/stock_trna/0.0025, 0) * 0.0025, (answer_array.shape[0],1))\n",
    "coa_vol = np.reshape(np.round_(answer_array[:, 7] * vol_max/stock_coa/0.0025, 0) * 0.0025, (answer_array.shape[0],1))\n",
    "nad_vol = np.reshape(np.round_(answer_array[:, 8] * vol_max/stock_nad/0.0025, 0) * 0.0025 , (answer_array.shape[0],1))\n",
    "camp_vol = np.reshape(np.round_(answer_array[:, 9] * vol_max/stock_camp/0.0025, 0) * 0.0025, (answer_array.shape[0],1))\n",
    "folinic_acid_vol = np.reshape(np.round_(answer_array[:, 10] * vol_max/stock_folinic_acid/0.0025, 0) * 0.0025, (answer_array.shape[0],1))\n",
    "spermidine_vol = np.reshape(np.round_(answer_array[:, 11] * vol_max/stock_spermidine/0.0025, 0) * 0.0025, (answer_array.shape[0],1))\n",
    "pga_vol = np.reshape(np.round_(answer_array[:, 12] * vol_max/stock_pga/0.0025, 1) * 0.0025, (answer_array.shape[0],1))\n",
    "nucleo_vol = np.reshape(np.round_(answer_array[:, 13] * vol_max/stock_nucleo/0.0025, 0) * 0.0025, (answer_array.shape[0],1))\n",
    "dna_vol = np.reshape(np.round_(answer_array[:, 14] * vol_max/stock_dna/0.0025, 0) * 0.0025, (answer_array.shape[0],1))\n",
    "\n",
    "promoter = answer_array[:, 15]\n",
    "RBS = answer_array[:, 16]\n",
    "\n",
    "promoter_high = np.array(promoter == 10)\n",
    "RBS_high = np.array(RBS == 10)\n",
    "\n",
    "dna_high_high = np.zeros((answer_array.shape[0], 1))\n",
    "dna_low_high = np.zeros((answer_array.shape[0], 1))\n",
    "dna_high_low = np.zeros((answer_array.shape[0], 1))\n",
    "dna_low_low = np.zeros((answer_array.shape[0], 1))\n",
    "\n",
    "for i in range(answer_array.shape[0]):\n",
    "    if promoter_high[i]:\n",
    "        if RBS_high[i]:\n",
    "            dna_high_high[i] = dna_vol[i]\n",
    "        else:\n",
    "            dna_high_low[i] = dna_vol[i]\n",
    "    else:\n",
    "        if RBS_high[i]:\n",
    "            dna_low_high[i] = dna_vol[i]\n",
    "        else:\n",
    "            dna_low_low[i] = dna_vol[i]\n",
    "volume_array = np.concatenate((extract_vol,\n",
    "                                mg_gluta_vol,\n",
    "                                k_gluta_vol,\n",
    "                                aa_vol,\n",
    "                                peg_vol,\n",
    "                                hepes_vol,\n",
    "                                trna_vol,\n",
    "                                coa_vol,\n",
    "                                nad_vol,\n",
    "                                camp_vol,\n",
    "                                folinic_acid_vol,\n",
    "                                spermidine_vol,\n",
    "                                pga_vol,\n",
    "                                nucleo_vol,\n",
    "                                dna_high_high,\n",
    "                                dna_high_low, \n",
    "                                dna_low_high,\n",
    "                                dna_low_low), axis = 1)\n",
    "used_volumes = np.sum(volume_array, axis = 1)\n",
    "water = np.ones((answer_array.shape[0],1)) * vol_max \n",
    "water = np.subtract(water, np.reshape(used_volumes, (answer_array.shape[0],1)))\n",
    "volume_array = np.concatenate((volume_array,\n",
    "                                water), axis = 1)"
   ]
  },
  {
   "cell_type": "code",
   "execution_count": 9,
   "metadata": {},
   "outputs": [],
   "source": [
    "headers_water = \"extract; mg_gluta; K_gluta; aa; peg; hepes; trna; coa; nad; camp; folinic_acid; spemidin; pga; nucleo_mix; dna_high_high; dna_high_low; dna_low_high; dna_low_low; water\"\n",
    "np.savetxt(file_to_write, volume_array, delimiter=\";\", header = headers_water,fmt='%.6f')\n"
   ]
  },
  {
   "cell_type": "code",
   "execution_count": null,
   "metadata": {},
   "outputs": [],
   "source": []
  },
  {
   "cell_type": "code",
   "execution_count": null,
   "metadata": {},
   "outputs": [],
   "source": []
  }
 ],
 "metadata": {
  "anaconda-cloud": {},
  "kernelspec": {
   "display_name": "Python 3",
   "language": "python",
   "name": "python3"
  },
  "language_info": {
   "codemirror_mode": {
    "name": "ipython",
    "version": 3
   },
   "file_extension": ".py",
   "mimetype": "text/x-python",
   "name": "python",
   "nbconvert_exporter": "python",
   "pygments_lexer": "ipython3",
   "version": "3.6.9"
  }
 },
 "nbformat": 4,
 "nbformat_minor": 1
}
