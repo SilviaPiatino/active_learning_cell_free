{
 "cells": [
  {
   "cell_type": "markdown",
   "metadata": {},
   "source": [
    "Mathilde Koch, INRA, Faulon's group."
   ]
  },
  {
   "cell_type": "markdown",
   "metadata": {},
   "source": [
    "The aim of this script is to generate best composition prediction from 20 compositions."
   ]
  },
  {
   "cell_type": "markdown",
   "metadata": {},
   "source": [
    "# Importing necessary libraries"
   ]
  },
  {
   "cell_type": "code",
   "execution_count": 1,
   "metadata": {},
   "outputs": [],
   "source": [
    "import numpy as np\n",
    "\n",
    "import matplotlib.pyplot as plt\n",
    "\n",
    "import sklearn\n",
    "from sklearn import linear_model\n",
    "from sklearn import decomposition\n",
    "from sklearn.neural_network import MLPRegressor\n",
    "from sklearn.model_selection import cross_val_score\n",
    "\n",
    "import time\n",
    "import datetime\n",
    "import random\n",
    "import csv\n",
    "import os\n",
    "import copy\n",
    "\n",
    "# This is data that has already been geenrated due to DOE methodology\n",
    "import warnings\n",
    "\n",
    "from sklearn.exceptions import ConvergenceWarning\n",
    "warnings.filterwarnings(action='ignore', category=ConvergenceWarning)"
   ]
  },
  {
   "cell_type": "markdown",
   "metadata": {},
   "source": [
    "# Importing data from the study"
   ]
  },
  {
   "cell_type": "code",
   "execution_count": 2,
   "metadata": {},
   "outputs": [
    {
     "name": "stdout",
     "output_type": "stream",
     "text": [
      "[[3.300000e-02 2.040000e-02 2.600000e-02 7.500000e-01 3.000000e-01\n",
      "  3.000000e+00 1.500000e-01 2.000000e-02 1.200000e+00 7.500000e-02\n",
      "  8.000000e+00 6.353000e-01 3.000000e-03 6.540760e-01 1.062300e-01]\n",
      " [1.650000e-01 6.800000e-03 7.800000e-02 1.500000e+00 1.000000e-01\n",
      "  9.000000e+00 4.500000e-01 2.000000e-02 4.000000e+00 7.500000e-02\n",
      "  8.000000e+01 1.926200e+00 2.140000e-02 1.763208e+00 1.259950e-01]\n",
      " [3.300000e-02 2.040000e-02 2.600000e-02 1.500000e+00 1.000000e-01\n",
      "  9.000000e+00 1.500000e+00 2.000000e-02 4.000000e+00 2.250000e-01\n",
      "  8.000000e+01 2.076200e+00 3.040000e-02 2.058583e+00 8.316900e-02]\n",
      " [1.650000e-01 3.400000e-02 7.800000e-02 1.500000e+00 1.000000e-01\n",
      "  9.000000e+00 1.500000e+00 1.000000e-01 4.000000e+00 3.750000e-01\n",
      "  8.000000e+01 1.997700e+00 2.460000e-02 1.854596e+00 1.048660e-01]\n",
      " [9.900000e-02 2.040000e-02 2.600000e-02 1.500000e+00 1.000000e-01\n",
      "  9.000000e+00 1.500000e+00 6.000000e-02 4.000000e+00 7.500000e-02\n",
      "  8.000000e+01 2.107100e+00 1.182000e-01 2.106335e+00 5.752900e-02]\n",
      " [9.900000e-02 6.800000e-03 2.600000e-02 1.500000e+00 3.000000e-01\n",
      "  9.000000e+00 1.500000e-01 2.000000e-01 4.000000e+00 7.500000e-02\n",
      "  8.000000e+01 1.448800e+00 2.000000e-02 1.455883e+00 8.947200e-02]\n",
      " [1.650000e-01 3.400000e-02 2.600000e-02 1.500000e+00 1.000000e-01\n",
      "  9.000000e+00 1.500000e+00 1.000000e-01 4.000000e+00 7.500000e-02\n",
      "  8.000000e+01 2.077400e+00 3.710000e-02 2.099440e+00 3.550900e-02]\n",
      " [3.300000e-01 6.800000e-02 2.600000e-01 1.500000e+00 1.000000e-01\n",
      "  3.000000e+01 1.500000e+00 2.000000e-01 4.000000e+00 7.500000e-01\n",
      "  8.000000e+01 1.639000e-01 2.100000e-03 3.154620e-01 1.246360e-01]\n",
      " [3.300000e-02 3.400000e-02 7.800000e-02 7.500000e-01 1.000000e-01\n",
      "  9.000000e+00 4.500000e-01 1.000000e-01 2.000000e+00 7.500000e-02\n",
      "  4.000000e+01 1.123100e+00 1.180000e-02 1.182315e+00 5.246700e-02]\n",
      " [3.300000e-02 2.040000e-02 2.600000e-02 1.500000e+00 1.000000e-01\n",
      "  9.000000e+00 1.500000e+00 1.000000e-01 2.000000e+00 7.500000e-02\n",
      "  8.000000e+01 1.665200e+00 3.680000e-02 1.813537e+00 1.083180e-01]\n",
      " [3.300000e-02 6.800000e-03 7.800000e-02 1.500000e+00 1.000000e-01\n",
      "  9.000000e+00 7.500000e-01 2.000000e-01 4.000000e+00 7.500000e-02\n",
      "  8.000000e+01 2.001800e+00 1.530000e-02 1.858745e+00 9.398400e-02]\n",
      " [3.300000e-02 6.800000e-03 7.800000e-02 1.500000e+00 1.000000e+00\n",
      "  9.000000e+00 4.500000e-01 6.000000e-02 4.000000e+00 7.500000e-02\n",
      "  8.000000e+01 1.158000e-01 2.280000e-02 2.202190e-01 1.298980e-01]\n",
      " [3.300000e-02 6.800000e-03 2.600000e-02 4.500000e-01 3.000000e-01\n",
      "  1.500000e+01 1.500000e-01 1.000000e-01 2.000000e+00 2.250000e-01\n",
      "  4.000000e+01 7.089000e-01 2.010000e-02 7.310020e-01 8.199600e-02]\n",
      " [9.900000e-02 3.400000e-02 1.300000e-01 7.500000e-01 3.000000e-01\n",
      "  1.500000e+01 1.500000e-01 6.000000e-02 1.200000e+00 7.500000e-02\n",
      "  4.000000e+01 6.722000e-01 6.900000e-03 6.257540e-01 6.138600e-02]\n",
      " [3.300000e-02 6.800000e-03 2.600000e-02 1.500000e+00 1.000000e+00\n",
      "  9.000000e+00 4.500000e-01 1.000000e-01 4.000000e+00 7.500000e-02\n",
      "  8.000000e+01 9.380000e-02 2.050000e-02 2.692290e-01 1.400740e-01]\n",
      " [3.300000e-02 3.400000e-02 2.600000e-02 7.500000e-01 3.000000e-01\n",
      "  1.500000e+01 4.500000e-01 1.000000e-01 2.000000e+00 2.250000e-01\n",
      "  4.000000e+01 9.456000e-01 3.360000e-02 9.141430e-01 5.624800e-02]\n",
      " [1.650000e-01 2.040000e-02 7.800000e-02 4.500000e-01 3.000000e-01\n",
      "  9.000000e+00 4.500000e-01 1.000000e-01 4.000000e-01 2.250000e-01\n",
      "  2.400000e+01 6.765000e-01 6.000000e-03 5.591320e-01 9.814100e-02]\n",
      " [3.300000e-02 3.400000e-02 1.300000e-01 1.500000e+00 3.000000e-01\n",
      "  9.000000e+00 1.500000e-01 2.000000e-02 4.000000e+00 7.500000e-02\n",
      "  8.000000e+01 1.449800e+00 2.300000e-02 1.368991e+00 9.803000e-02]\n",
      " [3.300000e-02 6.800000e-03 7.800000e-02 1.500000e+00 1.000000e-01\n",
      "  9.000000e+00 1.500000e+00 2.000000e-01 4.000000e+00 3.750000e-01\n",
      "  8.000000e+01 2.019400e+00 5.890000e-02 1.949557e+00 1.121160e-01]\n",
      " [9.900000e-02 3.400000e-02 2.600000e-02 7.500000e-01 3.000000e-01\n",
      "  1.500000e+01 4.500000e-01 2.000000e-02 2.000000e+00 2.250000e-01\n",
      "  4.000000e+01 1.022000e+00 2.480000e-02 9.373320e-01 7.169600e-02]]\n"
     ]
    }
   ],
   "source": [
    "plate_1 = \"example_prediction_PS.csv\"\n",
    "data = np.genfromtxt(plate_1, delimiter=',', skip_header = 1,dtype = \"float\")\n",
    "print(data)"
   ]
  },
  {
   "cell_type": "markdown",
   "metadata": {},
   "source": [
    "This study was performed using a random seed, so the methodology presented below holds but exact values used for the next iteration should not be expected. Exemple on filling of data is presented below."
   ]
  },
  {
   "cell_type": "markdown",
   "metadata": {},
   "source": [
    "# Defining tested concentrations and volumes"
   ]
  },
  {
   "cell_type": "code",
   "execution_count": 3,
   "metadata": {},
   "outputs": [],
   "source": [
    "# Maximum concentrations for each component\n",
    "\n",
    "extract_max = 30\n",
    "mg_gluta_max = 4\n",
    "K_gluta_max = 80\n",
    "aa_max = 1.5\n",
    "peg_max = 2\n",
    "hepes_max = 50\n",
    "trna_max = 0.2\n",
    "coa_max = 0.26\n",
    "nad_max = 0.33\n",
    "camp_max = 0.75\n",
    "folinic_acid_max = 0.068\n",
    "spemidine_max = 1\n",
    "pga_max = 30\n",
    "nucleo_mix_max = 1.5\n",
    "DNA_max = 50\n",
    "\n",
    "promoter_max = 10\n",
    "RBS_max = 10"
   ]
  },
  {
   "cell_type": "code",
   "execution_count": 4,
   "metadata": {},
   "outputs": [],
   "source": [
    "# Concentration data: tested concentrations for each reagent\n",
    "\n",
    "mg_gluta_conc = [0.1, 0.3, 0.5, 1]\n",
    "K_gluta_conc = [0.1, 0.3, 0.5, 1]\n",
    "aa_conc = [0.1, 0.3, 0.5, 1]\n",
    "trna_conc = [0.1, 0.3, 0.5, 1]\n",
    "coa_conc = [0.1, 0.3, 0.5, 1]\n",
    "nad_conc = [0.1, 0.3, 0.5, 1]\n",
    "camp_conc = [0.1, 0.3, 0.5, 1]\n",
    "folinic_acid_conc = [0.1, 0.3, 0.5, 1]\n",
    "spermidine_conc = [0.1, 0.3, 0.5, 1]\n",
    "pga_conc = [0.1, 0.3, 0.5, 1]\n",
    "nucleo_conc = [0.1, 0.3, 0.5, 1]"
   ]
  },
  {
   "cell_type": "markdown",
   "metadata": {},
   "source": [
    "# Reshaping data for following tests"
   ]
  },
  {
   "cell_type": "code",
   "execution_count": 5,
   "metadata": {},
   "outputs": [
    {
     "name": "stdout",
     "output_type": "stream",
     "text": [
      "[0.33, 0.068, 0.26, 1.5, 1.0, 30.0, 1.5, 0.2, 4.0, 0.75, 80.0]\n"
     ]
    }
   ],
   "source": [
    "initial_max = []  # This stores maximum values for normalisation later on.\n",
    "X_data, y_data, y_std_data = data[:, 0:11], data[:, 11], data[:, 12]\n",
    "for i in range(X_data.shape[1]):\n",
    "    initial_max.append(copy.deepcopy(max(X_data[:,i])))\n",
    "    X_data[:,i] = X_data[:,i]/max(X_data[:,i])\n",
    "print(initial_max)\n",
    "# my_current_data = np.concatenate((plate_1a_array, plate_1b_array), axis = 0)"
   ]
  },
  {
   "cell_type": "code",
   "execution_count": 6,
   "metadata": {},
   "outputs": [
    {
     "name": "stdout",
     "output_type": "stream",
     "text": [
      "2.1071\n"
     ]
    }
   ],
   "source": [
    "# Maximum yield attained at those iterations\n",
    "best_of = np.amax(y_data)\n",
    "print(best_of)"
   ]
  },
  {
   "cell_type": "markdown",
   "metadata": {},
   "source": [
    "# Defining necessary functions"
   ]
  },
  {
   "cell_type": "code",
   "execution_count": 7,
   "metadata": {},
   "outputs": [],
   "source": [
    "def present_in_array_index(new_sample, array, size = 11):\n",
    "    \"\"\"\n",
    "    Verify if a sample is present in an array.\n",
    "    \"\"\"\n",
    "    present = False\n",
    "    new_sample = np.reshape(np.array(new_sample), (1,size))\n",
    "    for i in range(array.shape[0]):\n",
    "        if np.array_equiv(array[i,:],new_sample):\n",
    "            present = True\n",
    "            break\n",
    "    return(present, i)"
   ]
  },
  {
   "cell_type": "code",
   "execution_count": 8,
   "metadata": {},
   "outputs": [],
   "source": [
    "def select_current_best_model(X, y, models_number = 10, \n",
    "                              verbose = False, \n",
    "                             MLP = True,\n",
    "                             visu = False,\n",
    "                             model_name = \"test\"):\n",
    "    with warnings.catch_warnings():\n",
    "        warnings.simplefilter(\"ignore\")\n",
    "\n",
    "    trained_model_list = []\n",
    "    # Training all models\n",
    "    for i in range(models_number):\n",
    "        X_train, y_train = X, y\n",
    "        if MLP:\n",
    "            other_MLP = MLPRegressor(hidden_layer_sizes  = (10, 100,100, 20), solver =\"adam\", max_iter=20000, \n",
    "                                      early_stopping = True, learning_rate = \"adaptive\")\n",
    "            other_MLP.fit(X_train, y_train.flatten())    \n",
    "            trained_model_list.append(other_MLP)\n",
    "\n",
    "            big_MLP = MLPRegressor(hidden_layer_sizes  = (100,100, 20),solver =\"adam\", max_iter=20000, \n",
    "                                      early_stopping = True, learning_rate = \"adaptive\")\n",
    "            big_MLP.fit(X_train, y_train.flatten())    \n",
    "            trained_model_list.append(big_MLP)\n",
    "\n",
    "\n",
    "            medium_MLP = MLPRegressor(hidden_layer_sizes  = (40, 10), solver =\"adam\", max_iter=20000, \n",
    "                                      early_stopping = True, learning_rate = \"adaptive\")\n",
    "            medium_MLP.fit(X_train, y_train.flatten())    \n",
    "            trained_model_list.append(medium_MLP)\n",
    "  \n",
    "            small_MLP = MLPRegressor(hidden_layer_sizes  = (10), solver =\"adam\", max_iter=20000, \n",
    "                                      early_stopping = True, learning_rate = \"adaptive\")\n",
    "            small_MLP.fit(X_train, y_train.flatten())    \n",
    "            trained_model_list.append(small_MLP)\n",
    "        \n",
    "    # Evaluating all \n",
    "    all_scores = []\n",
    "    for i in range(len(trained_model_list)):\n",
    "        selected_mdoel = trained_model_list[i]\n",
    "        y_pred = selected_mdoel.predict(X)\n",
    "        score = sklearn.metrics.r2_score(y, y_pred)\n",
    "        all_scores.append(score)\n",
    "\n",
    "    try:\n",
    "        best_index = all_scores.index(max(all_scores))\n",
    "        best_score = all_scores[best_index]\n",
    "    except ValueError:\n",
    "        best_index = 0\n",
    "    if verbose:\n",
    "        print(all_scores)\n",
    "        print(\"Best index is {}\".format(best_index))\n",
    "        print(\"Best score is {}\".format(best_score))\n",
    "    best_model = trained_model_list[best_index]\n",
    "    if visu:        \n",
    "        model = best_model\n",
    "        y_pred = model.predict(X)\n",
    "        score = sklearn.metrics.r2_score(y, y_pred)\n",
    "        fig, ax = plt.subplots()\n",
    "        ax.scatter(y, y_pred, edgecolors=(0, 0, 0))\n",
    "        ax.plot([y.min(), y.max()], [y.min(), y.max()], 'k--', lw=4)\n",
    "        ax.set_xlabel('Measured')\n",
    "        ax.set_title(\"Model prediction for model {}: {}\".format(model_name, score))\n",
    "        ax.set_ylabel('Predicted')\n",
    "        plt.show()\n",
    "    return(best_model, best_score)"
   ]
  },
  {
   "cell_type": "markdown",
   "metadata": {},
   "source": [
    "# Ensemble model training"
   ]
  },
  {
   "cell_type": "markdown",
   "metadata": {},
   "source": [
    "This part of the code trains the model on all available data, to generate an ensemble of models used for later predictions. Parameters used for the study were:\n",
    "- n = 25 models for ensemble size\n",
    "- models_number = 10 for repeating training"
   ]
  },
  {
   "cell_type": "code",
   "execution_count": 9,
   "metadata": {},
   "outputs": [
    {
     "data": {
      "image/png": "[encoded data removed]",
      "text/plain": [
       "<Figure size 432x288 with 1 Axes>"
      ]
     },
     "metadata": {
      "needs_background": "light"
     },
     "output_type": "display_data"
    },
    {
     "data": {
      "image/png": "[encoded data removed]",
      "text/plain": [
       "<Figure size 432x288 with 1 Axes>"
      ]
     },
     "metadata": {
      "needs_background": "light"
     },
     "output_type": "display_data"
    },
    {
     "data": {
      "image/png": "[encoded data removed]",
      "text/plain": [
       "<Figure size 432x288 with 1 Axes>"
      ]
     },
     "metadata": {
      "needs_background": "light"
     },
     "output_type": "display_data"
    }
   ],
   "source": [
    "\n",
    "training_mlp_start_time = time.time()\n",
    "ensemble_MLP = []\n",
    "ensemble_models = 3\n",
    "models_number = 10\n",
    "# n = 25\n",
    "for i in range(ensemble_models):\n",
    "    current_best, best_score = select_current_best_model(X_data, y_data, \n",
    "                                             models_number = models_number, verbose = False,\n",
    "                                             MLP = True,\n",
    "                                             visu = True,\n",
    "                                             model_name = i)\n",
    "    ensemble_MLP.append(current_best)\n",
    "training_mlp_end_time = time.time()"
   ]
  },
  {
   "cell_type": "markdown",
   "metadata": {},
   "source": [
    "We can then visualise individual model predictions: it will be the same as using visu in the above function"
   ]
  },
  {
   "cell_type": "code",
   "execution_count": 10,
   "metadata": {},
   "outputs": [
    {
     "data": {
      "image/png": "[encoded data removed]",
      "text/plain": [
       "<Figure size 432x288 with 1 Axes>"
      ]
     },
     "metadata": {
      "needs_background": "light"
     },
     "output_type": "display_data"
    },
    {
     "data": {
      "image/png": "[encoded data removed]",
      "text/plain": [
       "<Figure size 432x288 with 1 Axes>"
      ]
     },
     "metadata": {
      "needs_background": "light"
     },
     "output_type": "display_data"
    },
    {
     "data": {
      "image/png": "[encoded data removed]",
      "text/plain": [
       "<Figure size 432x288 with 1 Axes>"
      ]
     },
     "metadata": {
      "needs_background": "light"
     },
     "output_type": "display_data"
    }
   ],
   "source": [
    "# See what the models do\n",
    "for i in range(len(ensemble_MLP)):\n",
    "    model = ensemble_MLP[i]\n",
    "    y_pred = model.predict(X_data)\n",
    "    score = sklearn.metrics.r2_score(y_data, y_pred)\n",
    "    fig, ax = plt.subplots()\n",
    "    ax.scatter(y_data, y_pred, edgecolors=(0, 0, 0))\n",
    "    ax.errorbar(y_data, y_pred,xerr = y_std_data, ls='none')\n",
    "    ax.plot([y_data.min(), y_data.max()], [y_data.min(), y_data.max()], 'k--', lw=4)\n",
    "    ax.set_xlabel('Measured')\n",
    "    ax.set_title(\"Model prediction for model {}: {}\".format(i, score))\n",
    "    ax.set_ylabel('Predicted')\n",
    "    plt.show()"
   ]
  },
  {
   "cell_type": "markdown",
   "metadata": {},
   "source": [
    "We can also see the generated ensemble prediction of the n models, including the uncertainty on some points."
   ]
  },
  {
   "cell_type": "code",
   "execution_count": 11,
   "metadata": {},
   "outputs": [
    {
     "data": {
      "image/png": "[encoded data removed]",
      "text/plain": [
       "<Figure size 432x288 with 1 Axes>"
      ]
     },
     "metadata": {
      "needs_background": "light"
     },
     "output_type": "display_data"
    }
   ],
   "source": [
    "all_predictions = None\n",
    "for model in ensemble_MLP:\n",
    "    y_pred = model.predict(X_data)\n",
    "    answer_array_pred = y_pred.reshape(X_data.shape[0], -1)\n",
    "    if all_predictions is None:\n",
    "        all_predictions = y_pred.reshape(X_data.shape[0], -1)\n",
    "    else:\n",
    "        all_predictions =np.concatenate((all_predictions, y_pred.reshape(X_data.shape[0], -1)), axis = 1)\n",
    "\n",
    "y_pred, y_pred_std = np.mean(all_predictions, axis = 1), np.std(all_predictions, axis = 1)\n",
    "score = sklearn.metrics.r2_score(y_data, y_pred)\n",
    "\n",
    "fig, ax = plt.subplots()\n",
    "ax.scatter(y_data, y_pred, edgecolors=(0, 0, 0))\n",
    "ax.errorbar(y_data, y_pred, xerr = y_std_data, yerr = y_pred_std, ls='none')\n",
    "ax.plot([y_data.min(), y_data.max()], [y_data.min(), y_data.max()], 'k--', lw=4)\n",
    "ax.set_xlabel('Measured')\n",
    "ax.set_title(\"Model prediction for ensemble of models: {}\".format(score))\n",
    "ax.set_ylabel('Predicted')\n",
    "plt.show()"
   ]
  },
  {
   "cell_type": "markdown",
   "metadata": {},
   "source": [
    "# Functions for suggesting experimental points"
   ]
  },
  {
   "cell_type": "markdown",
   "metadata": {},
   "source": [
    "The next step once our ensemble is trained is to use it for the active learning itself."
   ]
  },
  {
   "cell_type": "code",
   "execution_count": 12,
   "metadata": {},
   "outputs": [],
   "source": [
    "def generate_random_grid(array_to_avoid, sample_size = 100, normalisation = True, verbose = True):\n",
    "    \"\"\"\n",
    "    Generates a random grid of desired size avoiding predefined concentrations.\n",
    "    Can be quite long for big arrays, as it verifies combinations were not previously sampled.\n",
    "    \"\"\"\n",
    "    if verbose:\n",
    "        print(\"Started generating the random array\")\n",
    "    active_learning_array = None\n",
    "    answerSize = 0\n",
    "    while answerSize < sample_size:\n",
    "        \n",
    "        this_sample = np.random.randint(0, high=4, size=11, dtype='int')  # 11 concentrations that can move\n",
    "        if normalisation:\n",
    "            this_sample_conc = [nad_conc[this_sample[0]], \n",
    "                               folinic_acid_conc[this_sample[1]],\n",
    "                                coa_conc[this_sample[2]], \n",
    "                                nucleo_conc[this_sample[3]],\n",
    "                                spermidine_conc[this_sample[4]],\n",
    "                                pga_conc[1], \n",
    "                                aa_conc[this_sample[6]], \n",
    "                                trna_conc[this_sample[7]],\n",
    "                                mg_gluta_conc[this_sample[8]], \n",
    "                                camp_conc[this_sample[9]], \n",
    "                                K_gluta_conc[this_sample[10]]                          \n",
    "                                ]\n",
    "        else:\n",
    "            this_sample_conc = [nad_conc[this_sample[0]] * nad_max, \n",
    "                               folinic_acid_conc[this_sample[1]] * folinic_acid_max,\n",
    "                                coa_conc[this_sample[2]] * coa_max, \n",
    "                                nucleo_conc[this_sample[3]] * nucleo_mix_max,\n",
    "                                spermidine_conc[this_sample[4]] * spemidine_max,\n",
    "                                pga_conc[1] * pga_max, \n",
    "                                aa_conc[this_sample[6]] * aa_max, \n",
    "                                trna_conc[this_sample[7]] * trna_max,\n",
    "                                mg_gluta_conc[this_sample[8]] * mg_gluta_max, \n",
    "                                camp_conc[this_sample[9]] * camp_max, \n",
    "                                K_gluta_conc[this_sample[10]] * K_gluta_max                          \n",
    "                                ]\n",
    "        this_sample_conc = np.reshape(this_sample_conc, (1, 11))\n",
    "        if not present_in_array_index(this_sample_conc, array_to_avoid, size = 11)[0]:\n",
    "            answerSize = answerSize + 1\n",
    "            if active_learning_array is None:\n",
    "                active_learning_array = this_sample_conc\n",
    "            else:\n",
    "                active_learning_array = np.concatenate((active_learning_array, this_sample_conc), axis = 0)\n",
    "            array_to_avoid = np.concatenate((array_to_avoid, this_sample_conc), axis = 0)\n",
    "    if verbose:\n",
    "        print(\"Finished generating the random array\")\n",
    "    return(active_learning_array)\n"
   ]
  },
  {
   "cell_type": "code",
   "execution_count": null,
   "metadata": {},
   "outputs": [],
   "source": []
  },
  {
   "cell_type": "code",
   "execution_count": 13,
   "metadata": {},
   "outputs": [],
   "source": [
    "def select_best_predictions_from_ensemble_model(ensemble_of_models, array_to_avoid, \n",
    "                                                total_sampling_size = 1000,\n",
    "                                                sample_size = 500,\n",
    "                                                exploitation = 1,\n",
    "                                                exploration = 1.41, \n",
    "                                                normalisation = True, \n",
    "                                               initial_max = initial_max,\n",
    "                                               verbose = True,\n",
    "                                               show_expected_yield = False): \n",
    "    \"\"\"\n",
    "    Heart of the active learning process.\n",
    "    Uses a pre-trained ensemble of models to predict on randomly chosen combinations and selects next experiments.\n",
    "    total_sampling_size: number of combinations to randomly sample\n",
    "    sample_size: number to export for further analysis\n",
    "    exploitation: weighting of the yield for UCT equivalent\n",
    "    exploration: weighting of the ucnertainty (yield std) for UCT equivalent \n",
    "    normalisation: normalise concentrations (maximum at 1) \n",
    "    \"\"\"\n",
    "    # Random concentrations to test\n",
    "    active_learning_array  = generate_random_grid(array_to_avoid, sample_size = total_sampling_size, normalisation = normalisation)\n",
    "    # Predicting the full random grid\n",
    "    answer_array_pred = np.empty\n",
    "    all_predictions = None\n",
    "    if verbose:\n",
    "        print(\"Starting ensemble predictions\")\n",
    "    for model in ensemble_of_models:\n",
    "        y_pred = model.predict(active_learning_array)\n",
    "        answer_array_pred = y_pred.reshape(active_learning_array.shape[0], -1)\n",
    "        if all_predictions is None:\n",
    "            all_predictions = y_pred.reshape(active_learning_array.shape[0], -1)\n",
    "        else:\n",
    "            all_predictions =np.concatenate((all_predictions, y_pred.reshape(active_learning_array.shape[0], -1)), axis = 1)\n",
    "    if verbose:\n",
    "        print(\"Finished ensemble predictions\")    \n",
    "    # Otaining mean and std for predicted array\n",
    "    y_pred, y_pred_std = np.mean(all_predictions, axis = 1), np.std(all_predictions, axis = 1)\n",
    "    y_pred_deletions = copy.deepcopy(y_pred)\n",
    "    y_pred_std_deletions = copy.deepcopy(y_pred_std)\n",
    "    # Create the array to maximise, balancing between exploration and exploitation\n",
    "    array_to_maximise = copy.deepcopy(exploitation * y_pred + exploration * y_pred_std)\n",
    "    # Select arrays depending on choice of way to eplore: only uncertainty, only yield, or a mix of both.\n",
    "    conditions_list_pure_exploitation = []\n",
    "    for count in range(sample_size):\n",
    "        i = np.argmax(y_pred_deletions)\n",
    "        conditions_list_pure_exploitation.append(int(i))\n",
    "        if verbose:\n",
    "            print(\"Maximising sample {} is yield: {}, std = {}\".format(i, y_pred[i], y_pred_std[i]))\n",
    "        y_pred_deletions[i] = -1\n",
    "        \n",
    "    conditions_list_pure_exploration = []\n",
    "    for count in range(sample_size):\n",
    "        i = np.argmax(y_pred_std_deletions)\n",
    "        conditions_list_pure_exploration.append(int(i))\n",
    "        if verbose:\n",
    "            print(\"Maximising sample {} is yield: {}, std = {}\".format(i, y_pred[i], y_pred_std[i]))\n",
    "        y_pred_std_deletions[i] = -1\n",
    "    \n",
    "    conditions_list = []\n",
    "    for count in range(sample_size):\n",
    "        i = np.argmax(array_to_maximise)\n",
    "        conditions_list.append(int(i))\n",
    "        if verbose:\n",
    "            print(\"Maximising sample {} is yield: {}, std = {}\".format(i, y_pred[i], y_pred_std[i]))\n",
    "        array_to_maximise[i] = -1\n",
    "\n",
    "    if normalisation:\n",
    "        for i in range(active_learning_array.shape[1]):\n",
    "            active_learning_array[:,i] = active_learning_array[:,i]*initial_max[i]\n",
    "    else:\n",
    "        active_learning_array =  active_learning_array\n",
    "    if show_expected_yield:\n",
    "        # Reshaping and exporting for mix\n",
    "        y_pred_mix = np.reshape(np.array(y_pred[conditions_list]), (sample_size, 1))\n",
    "        y_pred_std_mix = np.reshape(np.array(y_pred_std[conditions_list]), (sample_size, 1))\n",
    "        conditions_to_test = np.concatenate((active_learning_array[conditions_list,:], \n",
    "                                             y_pred_mix, \n",
    "                                            y_pred_std_mix), axis = 1)\n",
    "        # Reshaping and exporting for exploration\n",
    "        y_pred_eploration = np.reshape(np.array(y_pred[conditions_list_pure_exploration]), (sample_size, 1))\n",
    "        y_pred_std_eploration = np.reshape(np.array(y_pred_std[conditions_list_pure_exploration]), (sample_size, 1))\n",
    "        conditions_to_test_eploration = np.concatenate((active_learning_array[conditions_list_pure_exploration,:], \n",
    "                                             y_pred_eploration, \n",
    "                                            y_pred_std_eploration), axis = 1)\n",
    "        # Reshaping and exporting for exploitation\n",
    "        y_pred_exploitation = np.reshape(np.array(y_pred[conditions_list_pure_exploitation]), (sample_size, 1))\n",
    "        y_pred_std_exploitation = np.reshape(np.array(y_pred_std[conditions_list_pure_exploitation]), (sample_size, 1))\n",
    "        conditions_to_test_exploitation = np.concatenate((active_learning_array[conditions_list_pure_exploitation,:], \n",
    "                                             y_pred_exploitation, \n",
    "                                            y_pred_std_exploitation), axis = 1)\n",
    "    else:\n",
    "        conditions_to_test = active_learning_array[conditions_list,:]\n",
    "        conditions_to_test_eploration = active_learning_array[conditions_list_pure_exploration,:]\n",
    "        conditions_to_test_exploitation = active_learning_array[conditions_list_pure_exploitation,:]\n",
    "    return(conditions_to_test, conditions_to_test_eploration, conditions_to_test_exploitation)"
   ]
  },
  {
   "cell_type": "code",
   "execution_count": 14,
   "metadata": {},
   "outputs": [],
   "source": [
    "def export_array_of_elements_of_interest(array, file_place, show_expected_yield = False):\n",
    "    \"\"\"\n",
    "    Export an array as a csv in the destined place\n",
    "    \"\"\"\n",
    "    if show_expected_yield:\n",
    "        fieldnames = [\"nad\", \"folinic_acid\", \"DNA\", \"coa\", \"RBS\", \"peg\", \"nucleo_mix\", \n",
    "                  \"spermidin\", \"pga\", \"aa\", \"trna\", \"mg_gluta\", \"hepes\", \"camp\", \"K_gluta\", \"promoter\", \"yield\", \"std\"]\n",
    "    else:\n",
    "        fieldnames = [\"nad\", \"folinic_acid\", \"DNA\", \"coa\", \"RBS\", \"peg\", \"nucleo_mix\", \n",
    "                  \"spermidin\", \"pga\", \"aa\", \"trna\", \"mg_gluta\", \"hepes\", \"camp\", \"K_gluta\", \"promoter\"]\n",
    "    export_as_list = []\n",
    "    # They were not modified in this project.\n",
    "    peg = 1\n",
    "    hepes = 1\n",
    "    \n",
    "    for row in array:\n",
    "        new_dict = {}\n",
    "        new_dict[\"nad\"] = round(float(row[0]), 5)\n",
    "        new_dict[\"folinic_acid\"] = round(float(row[1]), 5)\n",
    "        new_dict[\"DNA\"] = 50\n",
    "        new_dict[\"coa\"] = round(float(row[2]), 5)\n",
    "        new_dict[\"RBS\"] = 10\n",
    "        new_dict[\"peg\"] = 2\n",
    "        new_dict[\"nucleo_mix\"] = round(float(row[3]), 5)\n",
    "        new_dict[\"spermidin\"] = round(float(row[4]), 5)\n",
    "        new_dict[\"pga\"] = round(float(row[5]), 5)\n",
    "        new_dict[\"aa\"] = round(float(row[6]), 5)\n",
    "        new_dict[\"trna\"] = round(float(row[7]), 5)\n",
    "        new_dict[\"mg_gluta\"] = round(float(row[8]), 4)\n",
    "        new_dict[\"hepes\"] = 50\n",
    "        new_dict[\"camp\"] = round(float(row[9]), 4)\n",
    "        new_dict[\"K_gluta\"] = round(float(row[10]), 4)\n",
    "        new_dict[\"promoter\"] = 10\n",
    "        if show_expected_yield:\n",
    "            new_dict[\"yield\"] = round(float(row[11]), 4)\n",
    "            new_dict[\"std\"] = round(float(row[12]), 4)\n",
    "        export_as_list.append(new_dict)\n",
    "    with open(file_place, \"w\") as csv_handle:\n",
    "        csv_writer = csv.DictWriter(csv_handle, fieldnames, restval='', extrasaction='ignore')\n",
    "        csv_writer.writeheader()\n",
    "        for result in export_as_list:\n",
    "            csv_writer.writerow(result)\n",
    "\n"
   ]
  },
  {
   "cell_type": "markdown",
   "metadata": {},
   "source": [
    "# Active learning"
   ]
  },
  {
   "cell_type": "markdown",
   "metadata": {},
   "source": [
    "In the article, we used a total sampling size of 100000, and exported samples of 500 combinations."
   ]
  },
  {
   "cell_type": "code",
   "execution_count": 15,
   "metadata": {},
   "outputs": [
    {
     "name": "stdout",
     "output_type": "stream",
     "text": [
      "Started generating the random array\n",
      "Finished generating the random array\n"
     ]
    }
   ],
   "source": [
    "conditions_to_test, conditions_to_test_eploration, conditions_to_test_exploitation = select_best_predictions_from_ensemble_model(ensemble_of_models = ensemble_MLP, \n",
    "                                            array_to_avoid = X_data, \n",
    "                                            total_sampling_size = 10000, \n",
    "                                            verbose = False,\n",
    "                                            sample_size = 10,\n",
    "                                            show_expected_yield = True)"
   ]
  },
  {
   "cell_type": "code",
   "execution_count": 16,
   "metadata": {},
   "outputs": [],
   "source": [
    "base_name = \"PS_10000\"\n",
    "export_array_of_elements_of_interest(conditions_to_test, file_place = \"{}.csv\".format(base_name),\n",
    "                                            show_expected_yield = True)\n",
    "export_array_of_elements_of_interest(conditions_to_test_eploration, file_place = \"{}_exploration.csv\".format(base_name),\n",
    "                                            show_expected_yield = True)\n",
    "export_array_of_elements_of_interest(conditions_to_test_exploitation, file_place = \"{}_exploitation.csv\".format(base_name),\n",
    "                                            show_expected_yield = True)"
   ]
  },
  {
   "cell_type": "code",
   "execution_count": null,
   "metadata": {},
   "outputs": [],
   "source": []
  },
  {
   "cell_type": "code",
   "execution_count": null,
   "metadata": {},
   "outputs": [],
   "source": []
  },
  {
   "cell_type": "code",
   "execution_count": null,
   "metadata": {},
   "outputs": [],
   "source": []
  }
 ],
 "metadata": {
  "anaconda-cloud": {},
  "kernelspec": {
   "display_name": "Python 3",
   "language": "python",
   "name": "python3"
  },
  "language_info": {
   "codemirror_mode": {
    "name": "ipython",
    "version": 3
   },
   "file_extension": ".py",
   "mimetype": "text/x-python",
   "name": "python",
   "nbconvert_exporter": "python",
   "pygments_lexer": "ipython3",
   "version": "3.6.9"
  }
 },
 "nbformat": 4,
 "nbformat_minor": 1
}
