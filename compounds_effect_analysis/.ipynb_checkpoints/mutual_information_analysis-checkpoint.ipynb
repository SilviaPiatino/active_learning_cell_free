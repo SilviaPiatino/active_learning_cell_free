{
 "cells": [
  {
   "cell_type": "markdown",
   "metadata": {},
   "source": [
    "Mathilde Koch, INRA, Faulon's group."
   ]
  },
  {
   "cell_type": "markdown",
   "metadata": {},
   "source": [
    "The aim of this script is to extract information on compounds' effects on the mix, thorugh a linear regression. These results are presented in Figure 1g and ...."
   ]
  },
  {
   "cell_type": "markdown",
   "metadata": {},
   "source": [
    "# Importing necessary libraries and specifying data location "
   ]
  },
  {
   "cell_type": "code",
   "execution_count": 1,
   "metadata": {},
   "outputs": [],
   "source": [
    "import sklearn\n",
    "from sklearn import linear_model\n",
    "from sklearn.model_selection import KFold\n",
    "from sklearn.feature_selection import mutual_info_regression\n",
    "import numpy as np\n",
    "import csv\n",
    "import random\n",
    "\n",
    "import matplotlib.pyplot as plt"
   ]
  },
  {
   "cell_type": "code",
   "execution_count": 2,
   "metadata": {},
   "outputs": [],
   "source": [
    "specific_experimentalist = \"ORI\"\n",
    "\n",
    "folder_for_full_data = \"data/ORI_full/no_controls\"  # Data from the study, without the control points of lines A and P. \n",
    "folder_for_reduced_data = \"data/{}\".format(specific_experimentalist)\n",
    "folder_to_save = \"{}_mi\".format(specific_experimentalist)\n",
    "# folder_to_save = \"{}\".format(\"OB_full_mi\")"
   ]
  },
  {
   "cell_type": "markdown",
   "metadata": {},
   "source": [
    "# Importing full data from the study"
   ]
  },
  {
   "cell_type": "code",
   "execution_count": 3,
   "metadata": {},
   "outputs": [],
   "source": [
    "plate_1 = \"{}/plate_AL_1_raw_yield_and_std.csv\".format(folder_for_full_data)\n",
    "plate_1_array = np.genfromtxt(plate_1, delimiter=',', skip_header = 1,dtype = \"float\")\n",
    "\n",
    "plate_2 = \"{}/plate_AL_2_raw_yield_and_std.csv\".format(folder_for_full_data)\n",
    "plate_2_array = np.genfromtxt(plate_2, delimiter=',', skip_header = 1,dtype = \"float\")\n",
    "\n",
    "plate_3 = \"{}/plate_AL_3_raw_yield_and_std.csv\".format(folder_for_full_data)\n",
    "plate_3_array = np.genfromtxt(plate_3, delimiter=',', skip_header = 1,dtype = \"float\")\n",
    "\n",
    "plate_4 = \"{}/plate_AL_4_raw_yield_and_std.csv\".format(folder_for_full_data)\n",
    "plate_4_array = np.genfromtxt(plate_4, delimiter=',', skip_header = 1,dtype = \"float\")\n",
    "\n",
    "plate_5 = \"{}/plate_AL_5_raw_yield_and_std.csv\".format(folder_for_full_data)\n",
    "plate_5_array = np.genfromtxt(plate_5, delimiter=',', skip_header = 1,dtype = \"float\")\n",
    "\n",
    "plate_6 = \"{}/plate_AL_6_raw_yield_and_std.csv\".format(folder_for_full_data)\n",
    "plate_6_array = np.genfromtxt(plate_6, delimiter=',', skip_header = 1,dtype = \"float\")\n",
    "\n",
    "plate_7 = \"{}/plate_AL_7_raw_yield_and_std.csv\".format(folder_for_full_data)\n",
    "plate_7_array = np.genfromtxt(plate_7, delimiter=',', skip_header = 1,dtype = \"float\")\n",
    "\n",
    "plate_8 = \"{}/plate_AL_8_raw_yield_and_std.csv\".format(folder_for_full_data)\n",
    "plate_8_array = np.genfromtxt(plate_8, delimiter=',', skip_header = 1,dtype = \"float\")\n",
    "\n",
    "plate_9 = \"{}/plate_AL_9_raw_yield_and_std.csv\".format(folder_for_full_data)\n",
    "plate_9_array = np.genfromtxt(plate_9, delimiter=',', skip_header = 1,dtype = \"float\")\n",
    "\n",
    "plate_10 = \"{}/plate_AL_10_raw_yield_and_std.csv\".format(folder_for_full_data)\n",
    "plate_10_array = np.genfromtxt(plate_10, delimiter=',', skip_header = 1,dtype = \"float\")"
   ]
  },
  {
   "cell_type": "code",
   "execution_count": 4,
   "metadata": {},
   "outputs": [],
   "source": [
    "def data_from_iteration(iteration_number = 1):\n",
    "    \"\"\"\n",
    "    Obtain data from the desired number of iterations, and not the whole data.\n",
    "    \"\"\"\n",
    "    full_plates_list = [plate_1_array, plate_2_array, plate_3_array, plate_4_array, plate_5_array,\n",
    "                        plate_6_array, plate_7_array, plate_8_array, plate_9_array, plate_10_array]\n",
    "    selected_plates = full_plates_list[0:iteration_number]\n",
    "    current_data = np.concatenate(selected_plates, axis = 0)\n",
    "    return(current_data)"
   ]
  },
  {
   "cell_type": "code",
   "execution_count": 5,
   "metadata": {},
   "outputs": [],
   "source": [
    "data = data_from_iteration(10)\n",
    "X_data, y_data, y_std_data = data[:, 0:11], data[:, 11], data[:, 12]\n",
    "for i in range(X_data.shape[1]):\n",
    "    X_data[:,i] = X_data[:,i]/max(X_data[:,i])"
   ]
  },
  {
   "cell_type": "markdown",
   "metadata": {},
   "source": [
    "# Importing specific datasets"
   ]
  },
  {
   "cell_type": "code",
   "execution_count": 6,
   "metadata": {},
   "outputs": [],
   "source": [
    "data = np.genfromtxt(\"{}/102_points.csv\".format(folder_for_reduced_data), delimiter=',', skip_header = 1,dtype = \"float\")\n",
    "X_data, y_data, y_std_data = data[:, 0:11], data[:, 11], data[:, 12]\n",
    "for i in range(X_data.shape[1]):\n",
    "    X_data[:,i] = X_data[:,i]/max(X_data[:,i])"
   ]
  },
  {
   "cell_type": "markdown",
   "metadata": {},
   "source": [
    "# Mutual information"
   ]
  },
  {
   "cell_type": "code",
   "execution_count": 7,
   "metadata": {},
   "outputs": [
    {
     "data": {
      "image/png": "[encoded data removed]",
      "text/plain": [
       "<Figure size 432x288 with 1 Axes>"
      ]
     },
     "metadata": {
      "needs_background": "light"
     },
     "output_type": "display_data"
    }
   ],
   "source": [
    "product_order = [\"nad\", \"folinic_acid\", \"coa\", \"nucleo_mix\", \"spermidin\", \n",
    "                  \"pga\", \"aa\", \"trna\", \"mg_gluta\", \"camp\", \"K_gluta\"]\n",
    "\n",
    "mi_dict = {}\n",
    "\n",
    "for i in range(len(product_order)):\n",
    "    feature = X_data[:, i].reshape(-1, 1)\n",
    "    mi = sklearn.feature_selection.mutual_info_regression(feature, y_data)\n",
    "    mi_dict[product_order[i]] = mi\n",
    "\n",
    "mi_values = [mi_dict[local_product] for local_product in product_order]\n",
    "\n",
    "fig, ax = plt.subplots()\n",
    "ax.scatter(range(len(mi_values)), mi_values)\n",
    "ax.set_ylabel(\"Yield\")\n",
    "ax.set_title(\"Mutual information\")\n",
    "plt.plot([0, 11],[0,0])\n",
    "for i in range(len(mi_values)):\n",
    "    ax.annotate(s = product_order[i], size=12, \n",
    "                xy = (i, mi_values[i]),\n",
    "                xytext=(i + 0.01, mi_values[i] + 0.01))   \n",
    "name_for_plotting = '{}/mutual_information.png'.format(folder_to_save)\n",
    "plt.savefig(name_for_plotting)\n",
    "plt.show()\n",
    "    "
   ]
  },
  {
   "cell_type": "code",
   "execution_count": 8,
   "metadata": {},
   "outputs": [],
   "source": [
    "with open(\"{}/coefficents_from_mi.csv\".format(folder_to_save), \"w\") as file:\n",
    "    writer = csv.DictWriter(file, fieldnames = [\"Name\", \"Mean\"])\n",
    "    writer.writeheader()\n",
    "    for i in range(len(product_order)):\n",
    "        row = {}\n",
    "        row[\"Name\"] = product_order[i]\n",
    "        row[\"Mean\"] = mi_dict[product_order[i]]\n",
    "        writer.writerow(row)"
   ]
  },
  {
   "cell_type": "code",
   "execution_count": null,
   "metadata": {},
   "outputs": [],
   "source": []
  },
  {
   "cell_type": "code",
   "execution_count": null,
   "metadata": {},
   "outputs": [],
   "source": []
  }
 ],
 "metadata": {
  "anaconda-cloud": {},
  "kernelspec": {
   "display_name": "Python 3",
   "language": "python",
   "name": "python3"
  },
  "language_info": {
   "codemirror_mode": {
    "name": "ipython",
    "version": 3
   },
   "file_extension": ".py",
   "mimetype": "text/x-python",
   "name": "python",
   "nbconvert_exporter": "python",
   "pygments_lexer": "ipython3",
   "version": "3.6.9"
  }
 },
 "nbformat": 4,
 "nbformat_minor": 1
}
