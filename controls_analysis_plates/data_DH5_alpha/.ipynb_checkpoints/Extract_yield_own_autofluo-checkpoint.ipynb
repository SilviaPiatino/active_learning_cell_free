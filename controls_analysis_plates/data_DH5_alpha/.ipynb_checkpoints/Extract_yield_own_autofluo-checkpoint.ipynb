{
 "cells": [
  {
   "cell_type": "code",
   "execution_count": 5,
   "metadata": {},
   "outputs": [],
   "source": [
    "# The aim of this file is to extract yield values from the TECAN and map it to the correct file\n",
    "import numpy as np\n",
    "import csv\n",
    "import copy"
   ]
  },
  {
   "cell_type": "code",
   "execution_count": 6,
   "metadata": {},
   "outputs": [],
   "source": [
    "# Here I'm extracting TECAN into a dictionnary (for starters)\n",
    "\n",
    "plate_name = \"DH5\"\n",
    "result_name = \"tecan_results\"\n",
    "\n",
    "# plate_name = \"plate_AL_1b\"\n",
    "# result_name = \"plate_AL_1b_raw\"\n",
    "\n",
    "CV = 30\n",
    "folder_result = \"raw_data\"\n",
    "\n",
    "localisation = \"{}/{}.csv\".format(folder_result, result_name)\n",
    "data_source = \"{}/{}_concentrations_reconstituted.csv\".format(folder_result, plate_name)\n",
    "export_place = \"{}/{}_yield_and_std.csv\".format(folder_result, plate_name)\n",
    "all_together_place = \"{}/{}_everything.csv\".format(folder_result, plate_name)\n",
    "draw_mean = \"{}/{}_draw_mean.csv\".format(folder_result, plate_name)\n",
    "draw_std =  \"{}/{}_draw_std.csv\".format(folder_result, plate_name)\n",
    "draw_ratio =  \"{}/{}_draw_ratio.csv\".format(folder_result, plate_name)\n",
    "outliers =  \"{}/{}_outliers.csv\".format(folder_result, plate_name)\n",
    "comments_file = \"{}/{}_comments.txt\".format(folder_result, plate_name)\n"
   ]
  },
  {
   "cell_type": "code",
   "execution_count": 7,
   "metadata": {},
   "outputs": [],
   "source": [
    "my_current_data = np.genfromtxt(data_source, delimiter=',', skip_header  = 1, dtype = \"float\")"
   ]
  },
  {
   "cell_type": "code",
   "execution_count": 8,
   "metadata": {},
   "outputs": [
    {
     "name": "stdout",
     "output_type": "stream",
     "text": [
      "A6\n",
      "A12\n",
      "A18\n",
      "OrderedDict([('nad', '0.099'), ('folinic_acid', '0.034'), ('DNA', '50'), ('coa', '0.026'), ('RBS', '10'), ('peg', '2'), ('nucleo_mix', '0.75'), ('spermidin', '0.3'), ('pga', '15'), ('aa', '0.75'), ('trna', '0.02'), ('mg_gluta', '1.2'), ('hepes', '50'), ('camp', '0.375'), ('K_gluta', '20'), ('promoter', '10'), ('name', 'P3')])\n"
     ]
    }
   ],
   "source": [
    "wells_information = {}\n",
    "\n",
    "with open(data_source) as csvfile:\n",
    "    reader = csv.DictReader(csvfile)\n",
    "    for row in reader:\n",
    "        if row[\"name\"] == \"\":\n",
    "            pass\n",
    "        if row[\"name\"] == \"P3\":\n",
    "            print(row)\n",
    "            wells_information[row[\"name\"]] = row\n",
    "        else:\n",
    "            wells_information[row[\"name\"]] = row\n",
    "            if row[\"DNA\"] == \"0\":\n",
    "                print(row[\"name\"])\n"
   ]
  },
  {
   "cell_type": "code",
   "execution_count": null,
   "metadata": {},
   "outputs": [],
   "source": []
  },
  {
   "cell_type": "code",
   "execution_count": null,
   "metadata": {},
   "outputs": [],
   "source": []
  },
  {
   "cell_type": "code",
   "execution_count": 9,
   "metadata": {},
   "outputs": [],
   "source": [
    "def present_in_array(new_sample, array):\n",
    "    present = False\n",
    "    new_sample = np.reshape(np.array(new_sample), (1,16))\n",
    "    for i in range(array.shape[0]):\n",
    "        if np.array_equiv(array[i,:],new_sample):\n",
    "            present = True\n",
    "            break\n",
    "    \n",
    "            \n",
    "    return(present, i)"
   ]
  },
  {
   "cell_type": "markdown",
   "metadata": {},
   "source": [
    "# Extracting control and plate info separately information"
   ]
  },
  {
   "cell_type": "code",
   "execution_count": 10,
   "metadata": {},
   "outputs": [
    {
     "name": "stdout",
     "output_type": "stream",
     "text": [
      "Empty DNA row is 3\n",
      "Empty DNA row (from row) is 3\n",
      "Reference row (from row) is 4\n",
      "C9 is already present and it a duplciate of well C5\n",
      "G3 is 36\n",
      "M18 is 85\n",
      "P3 is 0\n",
      "P3 is 0\n"
     ]
    }
   ],
   "source": [
    "control_array = None\n",
    "plate_array = None\n",
    "control_max_array = None\n",
    "\n",
    "for well, row in wells_information.items():\n",
    "    this_sample_conc = [row[\"nad\"],\n",
    "                        row[\"folinic_acid\"], \n",
    "                        row[\"DNA\"], \n",
    "                        row[\"coa\"], \n",
    "                        row[\"RBS\"], \n",
    "                        row[\"peg\"], \n",
    "                        row[\"nucleo_mix\"],\n",
    "                        row[\"spermidin\"],\n",
    "                        row[\"pga\"],\n",
    "                        row[\"aa\"],\n",
    "                        row[\"trna\"],\n",
    "                        row[\"mg_gluta\"],\n",
    "                        row[\"hepes\"],\n",
    "                        row[\"camp\"],\n",
    "                        row[\"K_gluta\"],\n",
    "                        row[\"promoter\"]\n",
    "                         ]\n",
    "    if well.startswith(\"A\"):        \n",
    "        if control_array is None:\n",
    "            this_sample_conc.extend([well, '', ''])\n",
    "            this_sample_conc = np.reshape(this_sample_conc, (1, 19))\n",
    "            control_array = this_sample_conc \n",
    "        else:\n",
    "            # already present in the array. \n",
    "            # Either file up a new line or...\n",
    "            present, i = present_in_array(this_sample_conc, control_array[:, 0:16])\n",
    "    #         present, i = present_in_array(this_sample_conc[:, 0:16], array_with_wells[:, 0:16])\n",
    "            if not present:    \n",
    "    #             if well == 'M21':\n",
    "    #                 print(i)\n",
    "                if well == 'A6':\n",
    "                    print(\"Empty DNA row is {}\".format(i))\n",
    "                if float(row[\"DNA\"]) == 0:\n",
    "                    print(\"Empty DNA row (from row) is {}\".format(i))\n",
    "                if well == 'M6':\n",
    "                    print(\"Reference row is {}\".format(i))\n",
    "                if float(row[\"K_gluta\"]) == 40 and float(row[\"DNA\"]) != 0:\n",
    "                    print(\"Reference row (from row) is {}\".format(i))\n",
    "                this_sample_conc.extend([well, '', ''])\n",
    "                this_sample_conc = np.reshape(this_sample_conc, (1, 19))\n",
    "                control_array = np.concatenate((control_array, this_sample_conc), axis = 0)\n",
    "            else:\n",
    "                if control_array[i,17] == '':\n",
    "                    control_array[i,17] = well\n",
    "                elif control_array[i,18] == '':\n",
    "                    control_array[i,18] = well\n",
    "                else:\n",
    "                    # print(\"{}, {}, {}\".format(well, row, array_with_wells[i,:]))\n",
    "                    print(row[\"name\"])\n",
    "                    print(\"this makes sense, it's the max\")\n",
    "    elif well.startswith(\"P\"): \n",
    "        if control_max_array is None:\n",
    "            this_sample_conc.extend([well, '', ''])\n",
    "            this_sample_conc = np.reshape(this_sample_conc, (1, 19))\n",
    "            control_max_array = this_sample_conc \n",
    "        else:\n",
    "            # already present in the array. \n",
    "            # Either file up a new line or...\n",
    "            present, i = present_in_array(this_sample_conc, control_max_array[:, 0:16])\n",
    "    #         present, i = present_in_array(this_sample_conc[:, 0:16], array_with_wells[:, 0:16])\n",
    "            if well == 'P3':\n",
    "                print(\"P3 is {}\".format(i))\n",
    "            if not present: \n",
    "                this_sample_conc.extend([well, '', '']) \n",
    "                if well == 'P3':\n",
    "                    print(\"P3 is {}\".format(i))\n",
    "                this_sample_conc = np.reshape(this_sample_conc, (1, 19))\n",
    "                control_max_array = np.concatenate((control_max_array, this_sample_conc), axis = 0)\n",
    "            else:\n",
    "                if control_max_array[i,17] == '':\n",
    "                    control_max_array[i,17] = well\n",
    "                elif control_max_array[i,18] == '':\n",
    "                    control_max_array[i,18] = well\n",
    "                else:\n",
    "                    # print(\"{}, {}, {}\".format(well, row, array_with_wells[i,:]))\n",
    "                    print(row[\"name\"])\n",
    "                    print(\"this makes sense, it's the max\")\n",
    "    else:\n",
    "        if plate_array is None:\n",
    "            this_sample_conc.extend([well, '', ''])\n",
    "            this_sample_conc = np.reshape(this_sample_conc, (1, 19))\n",
    "            plate_array = this_sample_conc\n",
    "        else:\n",
    "            # already present in the array. \n",
    "            # Either file up a new line or...\n",
    "            present, i = present_in_array(this_sample_conc, plate_array[:, 0:16])\n",
    "    #         present, i = present_in_array(this_sample_conc[:, 0:16], array_with_wells[:, 0:16])\n",
    "            if not present:    \n",
    "                if well == 'G3':\n",
    "                    print(\"G3 is {}\".format(i))\n",
    "                if well == 'M6':\n",
    "                    print(\"M6 is {}\".format(i))\n",
    "                if well == 'M18':\n",
    "                    print(\"M18 is {}\".format(i))\n",
    "#                 if well == 'C8':\n",
    "#                     print(i)\n",
    "                this_sample_conc.extend([well, '', ''])\n",
    "                this_sample_conc = np.reshape(this_sample_conc, (1, 19))\n",
    "                plate_array = np.concatenate((plate_array, this_sample_conc), axis = 0)\n",
    "            else:\n",
    "                if plate_array[i,17] == '':\n",
    "                    plate_array[i,17] = well\n",
    "                elif plate_array[i,18] == '':\n",
    "                    plate_array[i,18] = well\n",
    "                else:\n",
    "                    print(\"{} is already present and it a duplciate of well {}\".format(row[\"name\"], plate_array[i,16]))\n",
    "                    this_sample_conc.extend([well, '', ''])\n",
    "                    this_sample_conc = np.reshape(this_sample_conc, (1, 19))\n",
    "                    plate_array = np.concatenate((this_sample_conc, plate_array), axis = 0)\n",
    "                    # print(row)\n",
    "                    # print(\"this makes sense, it's the max\")\n",
    "# print(plate_array.shape)\n",
    "# print(plate_array[1:15, :])"
   ]
  },
  {
   "cell_type": "code",
   "execution_count": 11,
   "metadata": {},
   "outputs": [
    {
     "name": "stdout",
     "output_type": "stream",
     "text": [
      "[['0.033' '0.0068' '50' '0.026' '10' '2' '0.15' '0.1' '3' '0.15' '0.02'\n",
      "  '0.4' '50' '0.075' '4' '10' 'A2' 'A8' 'A14']\n",
      " ['0.165' '0.0068' '50' '0.026' '10' '2' '0.15' '0.1' '9' '0.15' '0.02'\n",
      "  '0.4' '50' '0.375' '12' '10' 'A3' 'A9' 'A15']\n",
      " ['0.099' '0.0204' '50' '0.078' '10' '2' '0.15' '0.5' '3' '0.45' '0.1'\n",
      "  '1.2' '50' '0.225' '4' '10' 'A4' 'A10' 'A16']\n",
      " ['0.033' '0.0204' '50' '0.078' '10' '2' '0.15' '0.5' '9' '0.45' '0.06'\n",
      "  '2' '50' '0.225' '12' '10' 'A5' 'A11' 'A17']\n",
      " ['0.33' '0.068' '0' '0.26' '10' '2' '1.5' '1' '30' '1.5' '0.2' '4' '50'\n",
      "  '0.75' '40' '10' 'A6' 'A12' 'A18']\n",
      " ['0.33' '0.068' '50' '0.26' '10' '2' '1.5' '1' '30' '1.5' '0.2' '4' '50'\n",
      "  '0.75' '40' '10' 'A7' 'A13' 'A19']]\n",
      "['0.33' '0.068' '0' '0.26' '10' '2' '1.5' '1' '30' '1.5' '0.2' '4' '50'\n",
      " '0.75' '40' '10' 'A6' 'A12' 'A18']\n",
      "['0.33' '0.068' '50' '0.26' '10' '2' '1.5' '1' '30' '1.5' '0.2' '4' '50'\n",
      " '0.75' '40' '10' 'A7' 'A13' 'A19']\n",
      "['0.33' '0.068' '0' '0.26' '10' '2' '1.5' '1' '30' '1.5' '0.2' '4' '50'\n",
      " '0.75' '40' '10' 'A6' 'A12' 'A18']\n",
      "['0.33' '0.068' '50' '0.26' '10' '2' '1.5' '1' '30' '1.5' '0.2' '4' '50'\n",
      " '0.75' '40' '10' 'A7' 'A13' 'A19']\n"
     ]
    }
   ],
   "source": [
    "print(control_array)\n",
    "if control_array is None:\n",
    "    whole_array = plate_array\n",
    "else:\n",
    "    print(control_array[4,])\n",
    "    print(control_array[5,])\n",
    "    try:\n",
    "        whole_array = np.concatenate((control_array, plate_array, control_max_array), axis = 0)\n",
    "    except ValueError:\n",
    "        whole_array = np.concatenate((control_array, control_max_array), axis = 0)\n",
    "    print(whole_array[4,])\n",
    "    print(whole_array[5,])\n"
   ]
  },
  {
   "cell_type": "code",
   "execution_count": 12,
   "metadata": {},
   "outputs": [
    {
     "name": "stdout",
     "output_type": "stream",
     "text": [
      "(115, 19)\n"
     ]
    }
   ],
   "source": [
    "print(whole_array.shape)"
   ]
  },
  {
   "cell_type": "markdown",
   "metadata": {},
   "source": [
    "# Replacing named wells with their values"
   ]
  },
  {
   "cell_type": "code",
   "execution_count": 13,
   "metadata": {},
   "outputs": [],
   "source": [
    "name_yield_dictionnary = {}\n",
    "\n",
    "with open(localisation) as csvfile:\n",
    "    reader = csv.DictReader(csvfile)\n",
    "    for row in reader:\n",
    "        name_yield_dictionnary[row[\"name\"]] = row[\"Time_5\"]\n",
    "        \n"
   ]
  },
  {
   "cell_type": "code",
   "execution_count": 14,
   "metadata": {},
   "outputs": [
    {
     "name": "stdout",
     "output_type": "stream",
     "text": [
      "{'A2': '9032', 'A3': '10641', 'A4': '8115', 'A5': '6710', 'A6': '1907', 'A7': '4532', 'A8': '9223', 'A9': '9091', 'A10': '7781', 'A11': '7045', 'A12': '1956', 'A13': '4067', 'A14': '8954', 'A15': '9052', 'A16': '7747', 'A17': '6348', 'A18': '1952', 'A19': '4262', 'A20': '155', 'A21': '174', 'A22': '149', 'A23': '157', 'A24': '157', 'B2': '21429', 'B3': '20457', 'B4': '21286', 'B5': '22802', 'B6': '23266', 'B7': '24815', 'B8': '26736', 'B9': '26516', 'B10': '25918', 'B11': '11295', 'B12': '10780', 'B13': '10632', 'B14': '22986', 'B15': '22618', 'B16': '22847', 'B17': '28598', 'B18': '29899', 'B19': '30901', 'B20': '31209', 'B21': '30385', 'B22': '30287', 'B23': '33223', 'B24': '172', 'C2': '30180', 'C3': '30520', 'C4': '31160', 'C5': '30556', 'C6': '27572', 'C7': '31795', 'C8': '30393', 'C9': '30891', 'C10': '33341', 'C11': '29745', 'C12': '30083', 'C13': '15860', 'C14': '16349', 'C15': '16428', 'C16': '29333', 'C17': '30585', 'C18': '31609', 'C19': '30019', 'C20': '29589', 'C21': '30551', 'C22': '27053', 'C23': '27242', 'C24': '170', 'D2': '27818', 'D3': '31469', 'D4': '31583', 'D5': '28988', 'D6': '27778', 'D7': '31142', 'D8': '27522', 'D9': '29463', 'D10': '32366', 'D11': '31045', 'D12': '29805', 'D13': '33165', 'D14': '30997', 'D15': '29704', 'D16': '31763', 'D17': '29147', 'D18': '31523', 'D19': '26403', 'D20': '32756', 'D21': '26636', 'D22': '33625', 'D23': '27436', 'D24': '168', 'E2': '32945', 'E3': '30225', 'E4': '31583', 'E5': '34667', 'E6': '32738', 'E7': '33134', 'E8': '33980', 'E9': '33961', 'E10': '32055', 'E11': '32375', 'E12': '31689', 'E13': '31442', 'E14': '35838', 'E15': '33288', 'E16': '31676', 'E17': '33528', 'E18': '26881', 'E19': '33678', 'E20': '30027', 'E21': '24993', 'E22': '33463', 'E23': '30196', 'E24': '241', 'F2': '32802', 'F3': '32468', 'F4': '32524', 'F5': '31760', 'F6': '32417', 'F7': '27730', 'F8': '25822', 'F9': '28704', 'F10': '15720', 'F11': '30993', 'F12': '15471', 'F13': '31443', 'F14': '15711', 'F15': '30206', 'F16': '11557', 'F17': '11617', 'F18': '10816', 'F19': '23328', 'F20': '22956', 'F21': '21859', 'F22': '29039', 'F23': '28832', 'F24': '189', 'G2': '28726', 'G3': '30978', 'G4': '30148', 'G5': '32165', 'G6': '21596', 'G7': '19048', 'G8': '22891', 'G9': '19911', 'G10': '22563', 'G11': '20609', 'G12': '21496', 'G13': '20836', 'G14': '21477', 'G15': '26971', 'G16': '27402', 'G17': '27182', 'G18': '22709', 'G19': '22448', 'G20': '22760', 'G21': '10714', 'G22': '11225', 'G23': '10444', 'G24': '173', 'H2': '30678', 'H3': '25195', 'H4': '25100', 'H5': '30336', 'H6': '25602', 'H7': '25766', 'H8': '30920', 'H9': '25872', 'H10': '26347', 'H11': '30400', 'H12': '30108', 'H13': '30712', 'H14': '25445', 'H15': '25191', 'H16': '25645', 'H17': '12755', 'H18': '12101', 'H19': '12643', 'H20': '25008', 'H21': '26826', 'H22': '25683', 'H23': '20887', 'H24': '168', 'I2': '25057', 'I3': '26395', 'I4': '24267', 'I5': '20824', 'I6': '25030', 'I7': '27348', 'I8': '24900', 'I9': '20759', 'I10': '11340', 'I11': '10901', 'I12': '11472', 'I13': '28695', 'I14': '29945', 'I15': '28405', 'I16': '26039', 'I17': '24763', 'I18': '26749', 'I19': '25939', 'I20': '31655', 'I21': '26618', 'I22': '30451', 'I23': '24429', 'I24': '171', 'J2': '28744', 'J3': '13073', 'J4': '11783', 'J5': '13037', 'J6': '21572', 'J7': '22192', 'J8': '21475', 'J9': '8384', 'J10': '32412', 'J11': '9239', 'J12': '10338', 'J13': '32456', 'J14': '9754', 'J15': '10207', 'J16': '32302', 'J17': '8543', 'J18': '16495', 'J19': '17432', 'J20': '16335', 'J21': '19306', 'J22': '19899', 'J23': '19266', 'J24': '170', 'K2': '9523', 'K3': '26566', 'K4': '9684', 'K5': '27530', 'K6': '9960', 'K7': '27758', 'K8': '24202', 'K9': '24669', 'K10': '24911', 'K11': '21488', 'K12': '21042', 'K13': '20851', 'K14': '26737', 'K15': '26323', 'K16': '26632', 'K17': '23615', 'K18': '22977', 'K19': '20926', 'K20': '25660', 'K21': '24609', 'K22': '24921', 'K23': '23444', 'K24': '168', 'L2': '23092', 'L3': '19434', 'L4': '23797', 'L5': '23780', 'L6': '27747', 'L7': '23578', 'L8': '22691', 'L9': '26395', 'L10': '24725', 'L11': '23096', 'L12': '21940', 'L13': '24258', 'L14': '23306', 'L15': '22020', 'L16': '24221', 'L17': '21954', 'L18': '20433', 'L19': '25951', 'L20': '25743', 'L21': '26364', 'L22': '26799', 'L23': '26751', 'L24': '175', 'M2': '26398', 'M3': '27511', 'M4': '26777', 'M5': '27085', 'M6': '27811', 'M7': '27210', 'M8': '28861', 'M9': '26220', 'M10': '26442', 'M11': '26338', 'M12': '26233', 'M13': '25952', 'M14': '27092', 'M15': '22537', 'M16': '22267', 'M17': '22340', 'M18': '23809', 'M19': '23551', 'M20': '23717', 'M21': '24995', 'M22': '24900', 'M23': '24897', 'M24': '170', 'N2': '24135', 'N3': '24299', 'N4': '23590', 'N5': '24398', 'N6': '27717', 'N7': '25623', 'N8': '27899', 'N9': '25231', 'N10': '25917', 'N11': '27961', 'N12': '26183', 'N13': '28095', 'N14': '26025', 'N15': '26046', 'N16': '28133', 'N17': '26311', 'N18': '28742', 'N19': '25621', 'N20': '24632', 'N21': '24599', 'N22': '25167', 'N23': '24287', 'N24': '175', 'O2': '24305', 'O3': '23926', 'O4': '25045', 'O5': '25763', 'O6': '26330', 'O7': '22977', 'O8': '25886', 'O9': '22287', 'O10': '26297', 'O11': '22930', 'O12': '27039', 'O13': '25591', 'O14': '26162', 'O15': '25841', 'O16': '10528', 'O17': '10156', 'O18': '11296', 'O19': '5294', 'O20': '5349', 'O21': '4990', 'O22': '171', 'O23': '171', 'O24': '176', 'P2': '17967', 'P3': '26400', 'P4': '22161', 'P5': '28108', 'P6': '25184', 'P7': '26497', 'P8': '27515', 'P9': '19055', 'P10': '28632', 'P11': '21606', 'P12': '26530', 'P13': '25043', 'P14': '25876', 'P15': '28547', 'P16': '18967', 'P17': '26003', 'P18': '14921', 'P19': '33495', 'P20': '25094', 'P21': '25454', 'P22': '26230', 'P23': '174', 'P24': '174'}\n"
     ]
    }
   ],
   "source": [
    "print(name_yield_dictionnary)"
   ]
  },
  {
   "cell_type": "code",
   "execution_count": 15,
   "metadata": {},
   "outputs": [],
   "source": [
    "wells_name_array = np.copy(whole_array[:,16:19])\n",
    "# print(wells_name_array)"
   ]
  },
  {
   "cell_type": "code",
   "execution_count": 16,
   "metadata": {},
   "outputs": [],
   "source": [
    "for i in range(whole_array.shape[0]):\n",
    "    for j in range(16,19):\n",
    "        try:\n",
    "            whole_array[i,j] = name_yield_dictionnary[whole_array[i,j]]\n",
    "        except KeyError:\n",
    "            whole_array[i,j] = -10000\n"
   ]
  },
  {
   "cell_type": "code",
   "execution_count": 17,
   "metadata": {},
   "outputs": [
    {
     "name": "stdout",
     "output_type": "stream",
     "text": [
      "(115, 19)\n",
      "[[3.3000e-02 6.8000e-03 5.0000e+01 ... 9.0320e+03 9.2230e+03 8.9540e+03]\n",
      " [1.6500e-01 6.8000e-03 5.0000e+01 ... 1.0641e+04 9.0910e+03 9.0520e+03]\n",
      " [9.9000e-02 2.0400e-02 5.0000e+01 ... 8.1150e+03 7.7810e+03 7.7470e+03]\n",
      " ...\n",
      " [1.6500e-01 6.8000e-02 5.0000e+01 ... 2.5184e+04 2.5043e+04 2.5094e+04]\n",
      " [9.9000e-02 3.4000e-02 5.0000e+01 ... 2.6497e+04 2.5876e+04 2.5454e+04]\n",
      " [3.3000e-02 2.0400e-02 5.0000e+01 ... 2.7515e+04 2.8547e+04 2.6230e+04]]\n"
     ]
    }
   ],
   "source": [
    "whole_array = whole_array.astype(np.float32)\n",
    "print(whole_array.shape)\n",
    "print(whole_array)"
   ]
  },
  {
   "cell_type": "markdown",
   "metadata": {},
   "source": [
    "# Removing outliers"
   ]
  },
  {
   "cell_type": "code",
   "execution_count": 18,
   "metadata": {},
   "outputs": [],
   "source": [
    "def remove_outlier_cv(row, cv):\n",
    "    x = row[16:19]\n",
    "    main_row = row[0:16]\n",
    "    mean = np.mean(x)\n",
    "    sd = np.std(x)\n",
    "    ratio = sd/mean * 100\n",
    "    if ratio > cv:\n",
    "        min_index = np.argmin(x)\n",
    "        max_index = np.argmax(x)\n",
    "        other_point_arg = 3 - min_index - max_index\n",
    "        if (x[other_point_arg] - x[min_index]) > (x[max_index] - x[other_point_arg]):\n",
    "            # Distance between medium and low is above distance between max and medium: discard lowest\n",
    "            new_x = np.concatenate((x[[other_point_arg, max_index]], np.array([-1])), axis = 0)\n",
    "        else:\n",
    "            new_x = np.concatenate((x[[min_index, other_point_arg]], np.array([-1])), axis = 0)\n",
    "        return(True, np.concatenate((main_row, new_x), axis = 0), row)\n",
    "    else:\n",
    "        return(False, row, 0)"
   ]
  },
  {
   "cell_type": "code",
   "execution_count": 19,
   "metadata": {},
   "outputs": [],
   "source": [
    "outliers_array = None\n",
    "cleaned_array = None\n",
    "\n",
    "for row in whole_array:\n",
    "   # print(row.shape)\n",
    "    outlier, row, outlier_row = remove_outlier_cv(row, cv = CV)\n",
    "    if outlier:\n",
    "        print(row[16:19])\n",
    "        print(outlier_row[16:19])\n",
    "        if outliers_array is None:\n",
    "            outliers_array = np.reshape(outlier_row, (1, 19)) \n",
    "        else:\n",
    "            outliers_array = np.concatenate((outliers_array, np.reshape(outlier_row, (1, 19))), axis = 0)\n",
    "    if cleaned_array is None:\n",
    "        cleaned_array = np.reshape(row, (1, 19)) \n",
    "    else:\n",
    "        cleaned_array = np.concatenate((cleaned_array, np.reshape(row, (1, 19))), axis = 0)\n",
    "    "
   ]
  },
  {
   "cell_type": "code",
   "execution_count": 20,
   "metadata": {},
   "outputs": [
    {
     "name": "stdout",
     "output_type": "stream",
     "text": [
      "None\n"
     ]
    }
   ],
   "source": [
    "print(outliers_array)\n",
    "if outliers_array is None:\n",
    "    number_outliers = 0\n",
    "else:\n",
    "    print(outliers_array.shape)\n",
    "    number_outliers = outliers_array.shape[0]\n",
    "number_total = whole_array.shape[0]\n",
    "number_bis = cleaned_array.shape[0]\n",
    "assert number_bis == number_total\n",
    "percentage = number_outliers/number_total * 100\n",
    "text = \"There are {} outliers out of {} ({}%) for CV of {}\".format(number_outliers, number_total, round(percentage, 2), CV)\n",
    "with open(comments_file, \"w\") as file_handle:\n",
    "    file_handle.write(text)\n",
    "    "
   ]
  },
  {
   "cell_type": "code",
   "execution_count": 21,
   "metadata": {},
   "outputs": [
    {
     "name": "stdout",
     "output_type": "stream",
     "text": [
      "None\n"
     ]
    }
   ],
   "source": [
    "print(outliers_array)"
   ]
  },
  {
   "cell_type": "code",
   "execution_count": 22,
   "metadata": {},
   "outputs": [],
   "source": [
    "outliers_as_dict = []\n",
    "fieldnames = [\"nad\", \"folinic_acid\", \"DNA\", \"coa\", \"RBS\", \"peg\", \"nucleo_mix\", \n",
    "              \"spermidin\", \"pga\", \"aa\", \"trna\", \"mg_gluta\", \"hepes\", \"camp\", \"K_gluta\", \"promoter\", \n",
    "              \"value_1\", \"value_2\", \"value_3\", \"plaque_name\"]\n",
    "\n",
    "if not outliers_array is None:\n",
    "    for row in outliers_array:\n",
    "        new_dict = {}\n",
    "        new_dict[\"nad\"] = round(float(row[0]), 5)\n",
    "        new_dict[\"folinic_acid\"] = round(float(row[1]), 5)\n",
    "        new_dict[\"DNA\"] = round(float(row[2]), 4)\n",
    "        new_dict[\"coa\"] = round(float(row[3]), 5)\n",
    "        new_dict[\"RBS\"] = round(float(row[4]), 4)\n",
    "        new_dict[\"peg\"] = round(float(row[5]), 5)\n",
    "        new_dict[\"nucleo_mix\"] = round(float(row[6]), 5)\n",
    "        new_dict[\"spermidin\"] = round(float(row[7]), 5)\n",
    "        new_dict[\"pga\"] = round(float(row[8]), 5)\n",
    "        new_dict[\"aa\"] = round(float(row[9]), 5)\n",
    "        new_dict[\"trna\"] = round(float(row[10]), 5)\n",
    "        new_dict[\"mg_gluta\"] = round(float(row[11]), 4)\n",
    "        new_dict[\"hepes\"] = round(float(row[12]), 4)\n",
    "        new_dict[\"camp\"] = round(float(row[13]), 4)\n",
    "        new_dict[\"K_gluta\"] = round(float(row[14]), 4)\n",
    "        new_dict[\"promoter\"] = round(float(row[15]), 4)\n",
    "        new_dict[\"value_1\"] = round(float(row[16]), 4)\n",
    "        new_dict[\"value_2\"] = round(float(row[17]), 4)\n",
    "        new_dict[\"value_3\"] = round(float(row[18]), 4)\n",
    "        new_dict[\"plaque_name\"] = plate_name\n",
    "        outliers_as_dict.append(new_dict)"
   ]
  },
  {
   "cell_type": "code",
   "execution_count": 23,
   "metadata": {},
   "outputs": [],
   "source": [
    "with open(outliers, \"w\") as csv_handle:\n",
    "    csv_writer = csv.DictWriter(csv_handle, fieldnames, restval='', extrasaction='ignore')\n",
    "    csv_writer.writeheader()\n",
    "    for result in outliers_as_dict:\n",
    "        csv_writer.writerow(result)\n",
    "        # print(result)"
   ]
  },
  {
   "cell_type": "markdown",
   "metadata": {},
   "source": [
    "# Calculating yield"
   ]
  },
  {
   "cell_type": "code",
   "execution_count": 27,
   "metadata": {},
   "outputs": [
    {
     "name": "stdout",
     "output_type": "stream",
     "text": [
      "(115, 19)\n",
      "[1907. 1956. 1952.]\n",
      "[26400. 28632. 26003.]\n"
     ]
    }
   ],
   "source": [
    "print(cleaned_array.shape)\n",
    "\n",
    "if control_array is None:\n",
    "    print(\"controls are different\")\n",
    "    autofluo = whole_array[4,16:19]\n",
    "    autofluo_reference = np.array([5042, 4913, 4741])\n",
    "    max_extract = np.array([24606, 25235, 23426])\n",
    "else:\n",
    "    try: \n",
    "        max_extract = cleaned_array[109,16:19]  # Will be changed to reference extract in later versions of the code\n",
    "    except:\n",
    "        max_extract = cleaned_array[7,16:19]\n",
    "        \n",
    "    autofluo = whole_array[4,16:19]\n",
    "    autofluo_reference = autofluo\n",
    "\n",
    "print(autofluo)\n",
    "print(max_extract)"
   ]
  },
  {
   "cell_type": "code",
   "execution_count": 28,
   "metadata": {},
   "outputs": [],
   "source": [
    "def calculate_yield_mean_sd(x, autofluo, ref_fluo, autofluo_reference = None):\n",
    "    if autofluo_reference is None:\n",
    "        autofluo_reference = autofluo\n",
    "    combinations = []\n",
    "    auto_value = np.mean(autofluo)\n",
    "    auto_value_ref = np.mean(autofluo_reference)\n",
    "    \n",
    "    if ref_fluo[2] == -1:\n",
    "        ref_fluo = ref_fluo[0:2] \n",
    "    ref_value = np.mean(ref_fluo)\n",
    "    ref_value = np.mean(ref_fluo)\n",
    "    if x[2] == -1:\n",
    "        x = x[0:2]  \n",
    "    for value_x in x:\n",
    "        if value_x == np.array([-1]):\n",
    "            pass\n",
    "        else:\n",
    "            normlised_value = (value_x - auto_value)/(ref_value - auto_value_ref)\n",
    "            combinations.append(normlised_value)\n",
    "    yield_mean = np.mean(combinations)\n",
    "    yield_sd = np.std(combinations)\n",
    "    return({\"yield_mean\": yield_mean, \"yield_std\": yield_sd})"
   ]
  },
  {
   "cell_type": "code",
   "execution_count": 29,
   "metadata": {},
   "outputs": [],
   "source": [
    "autofluo_from_data = autofluo\n",
    "max_from_data = max_extract"
   ]
  },
  {
   "cell_type": "code",
   "execution_count": 30,
   "metadata": {},
   "outputs": [
    {
     "name": "stdout",
     "output_type": "stream",
     "text": [
      "{'yield_mean': 1.0000001, 'yield_std': 0.046150863}\n",
      "{'yield_mean': -1.6298145e-09, 'yield_std': 0.0008860454}\n"
     ]
    }
   ],
   "source": [
    "# Verifications \n",
    "print(calculate_yield_mean_sd(x = max_from_data, autofluo = autofluo_from_data, \n",
    "                              ref_fluo = max_from_data, autofluo_reference = autofluo_reference))\n",
    "print(calculate_yield_mean_sd(x = autofluo_from_data, autofluo = autofluo_from_data, \n",
    "                              ref_fluo = max_from_data, autofluo_reference = autofluo_reference))"
   ]
  },
  {
   "cell_type": "code",
   "execution_count": 31,
   "metadata": {},
   "outputs": [],
   "source": [
    "new_array = cleaned_array[:,0:16]\n",
    "full_array = cleaned_array[:,0:19]\n",
    "mean_yield_list = []\n",
    "std_yield_list = []\n",
    "mean_list = []\n",
    "std_list = []\n",
    "\n",
    "\n",
    "for i in range(cleaned_array.shape[0]):\n",
    "    if cleaned_array[i, 18] == -1:\n",
    "        mean = np.mean(cleaned_array[i, 16:18])\n",
    "        std = np.std(cleaned_array[i, 16:18])\n",
    "    else:\n",
    "        mean = np.mean(cleaned_array[i, 16:19])\n",
    "        std = np.std(cleaned_array[i, 16:19])\n",
    "    dict_results = calculate_yield_mean_sd(cleaned_array[i, 16:19], autofluo_from_data, max_from_data)\n",
    "    yield_mean = dict_results[\"yield_mean\"]\n",
    "    yield_std = dict_results[\"yield_std\"]\n",
    "    mean_yield_list.append(yield_mean)\n",
    "    std_yield_list.append(yield_std)\n",
    "    mean_list.append(mean)\n",
    "    std_list.append(std)\n",
    "    "
   ]
  },
  {
   "cell_type": "code",
   "execution_count": 32,
   "metadata": {},
   "outputs": [
    {
     "name": "stdout",
     "output_type": "stream",
     "text": [
      "(115, 16)\n",
      "(115, 19)\n"
     ]
    }
   ],
   "source": [
    "print(new_array.shape)\n",
    "print(full_array.shape)\n",
    "full_array = np.concatenate((full_array, wells_name_array), axis = 1)\n",
    "# print(full_array)"
   ]
  },
  {
   "cell_type": "code",
   "execution_count": 33,
   "metadata": {},
   "outputs": [],
   "source": [
    "mean_array = np.reshape(mean_list, (new_array.shape[0], 1))\n",
    "std_array = np.reshape(std_list, (new_array.shape[0], 1))\n",
    "mean_yield_array = np.reshape(mean_yield_list, (new_array.shape[0], 1))\n",
    "std_yield_array = np.reshape(std_yield_list, (new_array.shape[0], 1))\n"
   ]
  },
  {
   "cell_type": "code",
   "execution_count": 34,
   "metadata": {},
   "outputs": [
    {
     "name": "stdout",
     "output_type": "stream",
     "text": [
      "(115, 20)\n",
      "(115, 26)\n"
     ]
    }
   ],
   "source": [
    "array_for_saving = np.concatenate((new_array, mean_array, std_array, mean_yield_array, std_yield_array), axis = 1)\n",
    "print(array_for_saving.shape)\n",
    "array_for_saving_everything = np.concatenate((full_array, mean_array, std_array, mean_yield_array, std_yield_array), axis = 1)\n",
    "print(array_for_saving_everything.shape)\n"
   ]
  },
  {
   "cell_type": "code",
   "execution_count": 35,
   "metadata": {},
   "outputs": [],
   "source": [
    "# np.savetxt(export_place, array_for_saving, delimiter=\";\",fmt='%.5f')\n",
    "\n",
    "# np.savetxt(all_together_place, array_for_saving_everything, delimiter=\";\",fmt='%.5f')"
   ]
  },
  {
   "cell_type": "code",
   "execution_count": 36,
   "metadata": {},
   "outputs": [
    {
     "name": "stdout",
     "output_type": "stream",
     "text": [
      "is zero\n",
      "{'nad': 0.33, 'folinic_acid': 0.068, 'DNA': 0.0, 'coa': 0.26, 'RBS': 10.0, 'peg': 2.0, 'nucleo_mix': 1.5, 'spermidin': 1.0, 'pga': 30.0, 'aa': 1.5, 'trna': 0.2, 'mg_gluta': 4.0, 'hepes': 50.0, 'camp': 0.75, 'K_gluta': 40.0, 'promoter': 10.0, 'value_1': 1907.0, 'value_2': 1956.0, 'value_3': 1952.0, 'well_1': 'A6', 'well_2': 'A12', 'well_3': 'A18', 'mean': 1938.3, 'std': 22.2, 'yield': -0.0, 'yield_std': 0.0009, 'plaque_name': 'DH5'}\n"
     ]
    }
   ],
   "source": [
    "list_of_dict_everything = []\n",
    "list_of_dict_ML = []\n",
    "fieldnames = [\"nad\", \"folinic_acid\", \"DNA\", \"coa\", \"RBS\", \"peg\", \"nucleo_mix\", \n",
    "              \"spermidin\", \"pga\", \"aa\", \"trna\", \"mg_gluta\", \"hepes\", \"camp\", \"K_gluta\", \"promoter\", \n",
    "              \"value_1\", \"value_2\", \"value_3\", \"well_1\", \"well_2\", \"well_3\", \"mean\", \"std\", \"yield\", \"yield_std\",\n",
    "             \"plaque_name\"]\n",
    "\n",
    "for row in array_for_saving_everything:\n",
    "    new_dict = {}\n",
    "    new_dict[\"nad\"] = round(float(row[0]), 5)\n",
    "    new_dict[\"folinic_acid\"] = round(float(row[1]), 5)\n",
    "    new_dict[\"DNA\"] = round(float(row[2]), 4)\n",
    "    new_dict[\"coa\"] = round(float(row[3]), 5)\n",
    "    new_dict[\"RBS\"] = round(float(row[4]), 4)\n",
    "    new_dict[\"peg\"] = round(float(row[5]), 5)\n",
    "    new_dict[\"nucleo_mix\"] = round(float(row[6]), 5)\n",
    "    new_dict[\"spermidin\"] = round(float(row[7]), 5)\n",
    "    new_dict[\"pga\"] = round(float(row[8]), 5)\n",
    "    new_dict[\"aa\"] = round(float(row[9]), 5)\n",
    "    new_dict[\"trna\"] = round(float(row[10]), 5)\n",
    "    new_dict[\"mg_gluta\"] = round(float(row[11]), 4)\n",
    "    new_dict[\"hepes\"] = round(float(row[12]), 4)\n",
    "    new_dict[\"camp\"] = round(float(row[13]), 4)\n",
    "    new_dict[\"K_gluta\"] = round(float(row[14]), 4)\n",
    "    new_dict[\"promoter\"] = round(float(row[15]), 4)\n",
    "    new_dict[\"value_1\"] = round(float(row[16]), 4)\n",
    "    new_dict[\"value_2\"] = round(float(row[17]), 4)\n",
    "    new_dict[\"value_3\"] = round(float(row[18]), 4)\n",
    "    new_dict[\"well_1\"] = row[19]\n",
    "    new_dict[\"well_2\"] = row[20]\n",
    "    new_dict[\"well_3\"] = row[21]\n",
    "    new_dict[\"mean\"] = round(float(row[22]), 1)\n",
    "    new_dict[\"std\"] = round(float(row[23]), 1)\n",
    "    new_dict[\"yield\"] = round(float(row[24]), 4)\n",
    "    new_dict[\"yield_std\"] = round(float(row[25]), 4)\n",
    "    new_dict[\"plaque_name\"] = plate_name\n",
    "    if round(float(row[2]), 4) == 0:\n",
    "        print(\"is zero\")\n",
    "        print(new_dict)\n",
    "    else:\n",
    "        list_of_dict_ML.append(new_dict)\n",
    "    list_of_dict_everything.append(new_dict)\n"
   ]
  },
  {
   "cell_type": "code",
   "execution_count": 37,
   "metadata": {},
   "outputs": [],
   "source": [
    "with open(all_together_place, \"w\") as csv_handle:\n",
    "    csv_writer = csv.DictWriter(csv_handle, fieldnames, restval='', extrasaction='ignore')\n",
    "    csv_writer.writeheader()\n",
    "    for result in list_of_dict_everything:\n",
    "        csv_writer.writerow(result)\n",
    "        # print(result)"
   ]
  },
  {
   "cell_type": "code",
   "execution_count": 38,
   "metadata": {},
   "outputs": [],
   "source": [
    "fieldnames_for_ml = [\"nad\", \"folinic_acid\", \"coa\", \"nucleo_mix\", \n",
    "                    \"spermidin\", \"pga\", \"aa\", \"trna\", \"mg_gluta\", \"camp\", \"K_gluta\", \n",
    "                     \"yield\", \"yield_std\"]\n",
    "with open(export_place, \"w\") as csv_handle:\n",
    "    csv_writer = csv.DictWriter(csv_handle, fieldnames_for_ml, restval='', extrasaction='ignore')\n",
    "    csv_writer.writeheader()\n",
    "    for result in list_of_dict_ML:\n",
    "        csv_writer.writerow(result)\n",
    "        # print(result)"
   ]
  },
  {
   "cell_type": "code",
   "execution_count": 39,
   "metadata": {},
   "outputs": [
    {
     "name": "stdout",
     "output_type": "stream",
     "text": [
      "['row', '2', '3', '4', '5', '6', '7', '8', '9', '10', '11', '12', '13', '14', '15', '16', '17', '18', '19', '20', '21', '22', '23']\n"
     ]
    }
   ],
   "source": [
    "# Draw the plaque - take from the instruction AA script for more ideas.\n",
    "fieldnames_plate = ['row']\n",
    "for i in range(2,24):\n",
    "    fieldnames_plate.append(str(i))\n",
    "print(fieldnames_plate)\n"
   ]
  },
  {
   "cell_type": "code",
   "execution_count": 40,
   "metadata": {},
   "outputs": [],
   "source": [
    "mean_info, std_info, ratio_info = {}, {}, {}\n",
    "# \"well_1\", \"well_2\", \"well_3\"\n",
    "for element in list_of_dict_everything:\n",
    "    mean_info[element[\"well_1\"]] = element[\"mean\"]\n",
    "    std_info[element[\"well_1\"]] = element[\"std\"]\n",
    "    ratio_info[element[\"well_1\"]] = float(element[\"std\"])/float(element[\"mean\"]) * 100\n",
    "    mean_info[element[\"well_2\"]] = element[\"mean\"]\n",
    "    std_info[element[\"well_2\"]] = element[\"std\"]\n",
    "    ratio_info[element[\"well_2\"]] = float(element[\"std\"])/float(element[\"mean\"]) * 100\n",
    "    mean_info[element[\"well_3\"]] = element[\"mean\"]\n",
    "    std_info[element[\"well_3\"]] = element[\"std\"]\n",
    "    ratio_info[element[\"well_3\"]] = float(element[\"std\"])/float(element[\"mean\"]) * 100"
   ]
  },
  {
   "cell_type": "code",
   "execution_count": 41,
   "metadata": {},
   "outputs": [],
   "source": [
    "with open(draw_mean, \"w\") as mean_drawing_file:\n",
    "    writer = csv.DictWriter(mean_drawing_file, fieldnames=fieldnames_plate, restval='0')\n",
    "    writer.writeheader()\n",
    "    current_row = 'A'\n",
    "    row = {}\n",
    "    row[\"row\"] = current_row\n",
    "    for element in sorted(mean_info.keys()):\n",
    "#         print(row)\n",
    "#         print(element)\n",
    "        if element.startswith(current_row):\n",
    "            row[element[1:]] = mean_info[element]\n",
    "        else:\n",
    "            writer.writerow(row)\n",
    "            current_row = element[0]\n",
    "            row = {\"row\": current_row}\n",
    "            row[element[1:]] = mean_info[element]\n",
    "    writer.writerow(row)\n",
    "\n",
    "    "
   ]
  },
  {
   "cell_type": "code",
   "execution_count": 42,
   "metadata": {},
   "outputs": [],
   "source": [
    "with open(draw_std, \"w\") as std_drawing_file:\n",
    "    writer = csv.DictWriter(std_drawing_file, fieldnames=fieldnames_plate, restval='0')\n",
    "    writer.writeheader()\n",
    "    current_row = 'A'\n",
    "    row = {}\n",
    "    row[\"row\"] = current_row\n",
    "    for element in sorted(std_info.keys()):\n",
    "#         print(row)\n",
    "#         print(element)\n",
    "        if element.startswith(current_row):\n",
    "            row[element[1:]] = std_info[element]\n",
    "        else:\n",
    "            writer.writerow(row)\n",
    "            current_row = element[0]\n",
    "            row = {\"row\": current_row}\n",
    "            row[element[1:]] = std_info[element]\n",
    "    writer.writerow(row)"
   ]
  },
  {
   "cell_type": "code",
   "execution_count": 43,
   "metadata": {},
   "outputs": [],
   "source": [
    "with open(draw_ratio, \"w\") as ratio_drawing_file:\n",
    "    writer = csv.DictWriter(ratio_drawing_file, fieldnames=fieldnames_plate, restval='0')\n",
    "    writer.writeheader()\n",
    "    current_row = 'A'\n",
    "    row = {}\n",
    "    row[\"row\"] = current_row\n",
    "    for element in sorted(ratio_info.keys()):\n",
    "#         print(row)\n",
    "#         print(element)\n",
    "        if element.startswith(current_row):\n",
    "            row[element[1:]] = ratio_info[element]\n",
    "        else:\n",
    "            writer.writerow(row)\n",
    "            current_row = element[0]\n",
    "            row = {\"row\": current_row}\n",
    "            row[element[1:]] = ratio_info[element]\n",
    "    writer.writerow(row)"
   ]
  },
  {
   "cell_type": "code",
   "execution_count": null,
   "metadata": {},
   "outputs": [],
   "source": []
  },
  {
   "cell_type": "code",
   "execution_count": null,
   "metadata": {},
   "outputs": [],
   "source": []
  },
  {
   "cell_type": "code",
   "execution_count": null,
   "metadata": {},
   "outputs": [],
   "source": []
  },
  {
   "cell_type": "code",
   "execution_count": null,
   "metadata": {},
   "outputs": [],
   "source": []
  }
 ],
 "metadata": {
  "anaconda-cloud": {},
  "kernelspec": {
   "display_name": "Python 3",
   "language": "python",
   "name": "python3"
  },
  "language_info": {
   "codemirror_mode": {
    "name": "ipython",
    "version": 3
   },
   "file_extension": ".py",
   "mimetype": "text/x-python",
   "name": "python",
   "nbconvert_exporter": "python",
   "pygments_lexer": "ipython3",
   "version": "3.6.9"
  }
 },
 "nbformat": 4,
 "nbformat_minor": 1
}
