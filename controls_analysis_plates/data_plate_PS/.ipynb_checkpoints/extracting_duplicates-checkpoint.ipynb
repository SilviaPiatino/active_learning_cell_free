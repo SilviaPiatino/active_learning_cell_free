{
 "cells": [
  {
   "cell_type": "markdown",
   "metadata": {},
   "source": [
    "# Loading packages and data"
   ]
  },
  {
   "cell_type": "code",
   "execution_count": 1,
   "metadata": {},
   "outputs": [],
   "source": [
    "import numpy as np\n",
    "import itertools\n",
    "import random\n",
    "import csv\n",
    "import string\n",
    "import copy"
   ]
  },
  {
   "cell_type": "code",
   "execution_count": 2,
   "metadata": {},
   "outputs": [],
   "source": [
    "array_compare = \"compare_to_PS.csv\""
   ]
  },
  {
   "cell_type": "code",
   "execution_count": 3,
   "metadata": {},
   "outputs": [],
   "source": [
    "double_DNA_to_PS = {}\n",
    "spectinomycin_PS = {}\n",
    "rifaxamin_to_PS = {}\n",
    "PS_to_PS = {}\n",
    "\n",
    "\n",
    "with open(array_compare, \"r\") as open_file:\n",
    "    csv_handle = csv.DictReader(open_file)\n",
    "    for row in csv_handle:\n",
    "        conc_as_name = \"{}_{}_{}_{}_{}_{}_{}_{}_{}_{}_{}_{}_{}_{}_{}_{}\".format(row[\"nad\"], row[\"folinic_acid\"],\n",
    "                                                                                row[\"DNA\"], row[\"coa\"], \n",
    "                                                                                row[\"peg\"],row[\"RBS\"],row[\"nucleo_mix\"],\n",
    "                                                                                row[\"spermidin\"],row[\"pga\"],row[\"aa\"],\n",
    "                                                                                row[\"trna\"],row[\"mg_gluta\"],row[\"hepes\"],\n",
    "                                                                                row[\"camp\"],row[\"K_gluta\"],row[\"promoter\"]\n",
    "                                                                               )\n",
    "        # print(conc_as_name)\n",
    "        # There is a problem with duplciates they are removed by this strategy     \n",
    "        conc_list = conc_as_name.split(\"_\")\n",
    "        concentrations_dictionnary = {}\n",
    "        concentrations_dictionnary[\"nad\"] = conc_list[0] \n",
    "        concentrations_dictionnary[\"folinic_acid\"] = conc_list[1] \n",
    "        concentrations_dictionnary[\"DNA\"] = conc_list[2] \n",
    "        concentrations_dictionnary[\"coa\"] = conc_list[3] \n",
    "        concentrations_dictionnary[\"peg\"] = conc_list[4] \n",
    "        concentrations_dictionnary[\"RBS\"] = conc_list[5] \n",
    "        concentrations_dictionnary[\"nucleo_mix\"] = conc_list[6] \n",
    "        concentrations_dictionnary[\"spermidin\"] = conc_list[7] \n",
    "        concentrations_dictionnary[\"pga\"] = conc_list[8] \n",
    "        concentrations_dictionnary[\"aa\"] = conc_list[9] \n",
    "        concentrations_dictionnary[\"trna\"] = conc_list[10] \n",
    "        concentrations_dictionnary[\"mg_gluta\"] = conc_list[11] \n",
    "        concentrations_dictionnary[\"hepes\"] = conc_list[12] \n",
    "        concentrations_dictionnary[\"camp\"] = conc_list[13] \n",
    "        concentrations_dictionnary[\"K_gluta\"] = conc_list[14] \n",
    "        concentrations_dictionnary[\"promoter\"] = conc_list[15] \n",
    "        dictionnary_of_results = {\"well_1\" : row[\"well_1\"],\n",
    "                                 \"yield\": row[\"yield\"], \"yield_std\": row[\"yield_std\"]}\n",
    "        dictionnary_of_results.update(concentrations_dictionnary)\n",
    "        \n",
    "        if row[\"plaque_name\"] == \"double_DNA_to_PS\":\n",
    "            double_DNA_to_PS[conc_as_name] = dictionnary_of_results\n",
    "        elif row[\"plaque_name\"] == \"spectinomycin_PS\":\n",
    "            spectinomycin_PS[conc_as_name] = dictionnary_of_results\n",
    "        elif row[\"plaque_name\"] == \"rifaxamin_to_PS\":\n",
    "            rifaxamin_to_PS[conc_as_name] = dictionnary_of_results\n",
    "        elif row[\"plaque_name\"] == \"PS_to_PS\":\n",
    "            PS_to_PS[conc_as_name] = dictionnary_of_results\n",
    "        else:\n",
    "            print(\"This should not happen\")"
   ]
  },
  {
   "cell_type": "code",
   "execution_count": 4,
   "metadata": {},
   "outputs": [],
   "source": [
    "all_duplicates = {}\n",
    "\n",
    "for element in double_DNA_to_PS.keys():\n",
    "    if element in PS_to_PS.keys():\n",
    "        all_duplicates[element + \"double_DNA_to_PS\" + \"PS_to_PS\"] = {\"original\": double_DNA_to_PS[element], \"repeated\": PS_to_PS[element], \n",
    "                                        \"original_plate\": \"double_DNA_to_PS\", \"repeated_plate\": \"PS_to_PS\"}\n",
    "\n",
    "for element in spectinomycin_PS.keys():\n",
    "    if element in PS_to_PS.keys():\n",
    "        all_duplicates[element + \"spectinomycin_PS\" + \"PS_to_PS\"] = {\"original\": spectinomycin_PS[element], \"repeated\": PS_to_PS[element], \n",
    "                                        \"original_plate\": \"spectinomycin_PS\", \"repeated_plate\": \"PS_to_PS\"}\n",
    "\n",
    "for element in rifaxamin_to_PS.keys():\n",
    "    if element in PS_to_PS.keys():\n",
    "        all_duplicates[element + \"rifaxamin_to_PS\" + \"PS_to_PS\"] = {\"original\": rifaxamin_to_PS[element], \"repeated\": PS_to_PS[element], \n",
    "                                        \"original_plate\": \"rifaxamin_to_PS\", \"repeated_plate\": \"PS_to_PS\"}\n"
   ]
  },
  {
   "cell_type": "code",
   "execution_count": 5,
   "metadata": {},
   "outputs": [
    {
     "name": "stdout",
     "output_type": "stream",
     "text": [
      "39\n"
     ]
    }
   ],
   "source": [
    "print(len(all_duplicates))"
   ]
  },
  {
   "cell_type": "code",
   "execution_count": 6,
   "metadata": {},
   "outputs": [],
   "source": [
    "with open(\"all_duplicates_yields.csv\", \"w\") as duplicated_file:\n",
    "    fieldnames = [\"original_plate\", \"repeated_plate\", \"Name_original\", \"Name_repeated\", \"Mean_original\", \n",
    "                  \"Std_original\",\"Mean_repeated\", \"Std_repeated\",\n",
    "                  \"nad\", \"folinic_acid\", \"DNA\" ,\"coa\", \"peg\", \"RBS\", \"nucleo_mix\",\n",
    "                  \"spermidin\", \"pga\", \"aa\", \"trna\", \"mg_gluta\", \"hepes\",\n",
    "                  \"camp\", \"K_gluta\", \"promoter\"\n",
    "                 ]\n",
    "    writer = csv.DictWriter(duplicated_file, fieldnames = fieldnames)\n",
    "    writer.writeheader()     \n",
    "    for element, dict_res in all_duplicates.items():\n",
    "        row = {}\n",
    "        row[\"original_plate\"] = dict_res[\"original_plate\"]\n",
    "        row[\"repeated_plate\"]= dict_res[\"repeated_plate\"]\n",
    "        row[\"Name_original\"] = dict_res[\"original\"][\"well_1\"]\n",
    "        row[\"Mean_original\"]= dict_res[\"original\"][\"yield\"]\n",
    "        row[\"Std_original\"]= dict_res[\"original\"][\"yield_std\"]\n",
    "        row[\"Name_repeated\"] = dict_res[\"repeated\"][\"well_1\"]\n",
    "        row[\"Mean_repeated\"]= dict_res[\"repeated\"][\"yield\"]\n",
    "        row[\"Std_repeated\"]= dict_res[\"repeated\"][\"yield_std\"]\n",
    "        row[\"nad\"] = dict_res[\"original\"][\"nad\"]\n",
    "        row[\"folinic_acid\"] = dict_res[\"original\"][\"folinic_acid\"]\n",
    "        row[\"DNA\"] = dict_res[\"original\"][\"DNA\"]\n",
    "        row[\"coa\"] = dict_res[\"original\"][\"coa\"]\n",
    "        row[\"peg\"] = dict_res[\"original\"][\"peg\"]\n",
    "        row[\"RBS\"] = dict_res[\"original\"][\"RBS\"]\n",
    "        row[\"nucleo_mix\"] = dict_res[\"original\"][\"nucleo_mix\"]\n",
    "        row[\"spermidin\"] = dict_res[\"original\"][\"spermidin\"]\n",
    "        row[\"pga\"] = dict_res[\"original\"][\"pga\"]\n",
    "        row[\"aa\"] = dict_res[\"original\"][\"aa\"]\n",
    "        row[\"trna\"] = dict_res[\"original\"][\"trna\"]\n",
    "        row[\"mg_gluta\"] = dict_res[\"original\"][\"mg_gluta\"] \n",
    "        row[\"hepes\"] = dict_res[\"original\"][\"hepes\"]\n",
    "        row[\"camp\"] = dict_res[\"original\"][\"camp\"]\n",
    "        row[\"K_gluta\"] = dict_res[\"original\"][\"K_gluta\"]\n",
    "        row[\"promoter\"] = dict_res[\"original\"][\"promoter\"]\n",
    "        writer.writerow(row)\n",
    "    "
   ]
  },
  {
   "cell_type": "code",
   "execution_count": null,
   "metadata": {},
   "outputs": [],
   "source": []
  },
  {
   "cell_type": "code",
   "execution_count": null,
   "metadata": {},
   "outputs": [],
   "source": []
  }
 ],
 "metadata": {
  "anaconda-cloud": {},
  "kernelspec": {
   "display_name": "Python 3",
   "language": "python",
   "name": "python3"
  },
  "language_info": {
   "codemirror_mode": {
    "name": "ipython",
    "version": 3
   },
   "file_extension": ".py",
   "mimetype": "text/x-python",
   "name": "python",
   "nbconvert_exporter": "python",
   "pygments_lexer": "ipython3",
   "version": "3.6.9"
  }
 },
 "nbformat": 4,
 "nbformat_minor": 1
}
